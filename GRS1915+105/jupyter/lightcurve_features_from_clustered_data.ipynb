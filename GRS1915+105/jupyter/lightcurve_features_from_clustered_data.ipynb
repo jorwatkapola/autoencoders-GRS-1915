{
 "cells": [
  {
   "cell_type": "code",
   "execution_count": 1,
   "metadata": {},
   "outputs": [],
   "source": [
    "%load_ext autoreload\n",
    "%autoreload 2\n",
    "from IPython.display import clear_output\n",
    "import os\n",
    "import fnmatch\n",
    "import numpy as np\n",
    "import pickle\n",
    "import matplotlib.pyplot as plt\n",
    "# import umap\n",
    "from sklearn.mixture import GaussianMixture\n",
    "from scipy import stats\n",
    "# from sklearn.cluster import OPTICS\n",
    "from copy import deepcopy\n",
    "\n",
    "from scipy.stats import zscore\n",
    "from scipy.spatial import distance\n",
    "\n",
    "\n",
    "plt.rcParams['figure.figsize'] = (5.0, 5.0)\n",
    "plt.rcParams.update({'font.size': 12})\n",
    "plt.rcParams.update(plt.rcParamsDefault)\n",
    "\n",
    "np.random.seed(seed=11)\n",
    "\n",
    "\n",
    "cwd = os.getcwd()\n",
    "\n",
    "if cwd.split(\"/\")[1] == \"export\":\n",
    "    data_dir = \"../../../files_from_snuffy\"\n",
    "else:\n",
    "    data_dir = \"../../../data_GRS1915\"\n"
   ]
  },
  {
   "cell_type": "code",
   "execution_count": 2,
   "metadata": {},
   "outputs": [],
   "source": [
    "def component_mahalanobis_distances(GMmodel):\n",
    "    \"\"\"\n",
    "    input = Gaussian mixture model\n",
    "    output = matrix of mahalanobis distances between Gaussian components\n",
    "    \"\"\"\n",
    "    no_components = GMmodel.means_.shape[0]\n",
    "    GM_comp_mahal_distances = np.zeros((no_components,no_components))\n",
    "    for comp1_ind, comp1 in enumerate(GMmodel.means_):\n",
    "        for comp2_ind, comp2 in enumerate(GMmodel.means_):\n",
    "            GM_comp_mahal_distances[comp1_ind, comp2_ind] = distance.mahalanobis(comp1, comp2, np.linalg.inv(GMmodel.covariances_[comp2_ind]))\n",
    "            print(comp1_ind, comp2_ind)\n",
    "            clear_output(wait=True)\n",
    "    return GM_comp_mahal_distances"
   ]
  },
  {
   "cell_type": "code",
   "execution_count": 3,
   "metadata": {},
   "outputs": [
    {
     "data": {
      "text/plain": [
       "'GMM_279comps_model_2020-12-21_20-11-39_segments_468202_len128_stride8_4sec_cad_countrates_sum_bin.pkl'"
      ]
     },
     "execution_count": 3,
     "metadata": {},
     "output_type": "execute_result"
    }
   ],
   "source": [
    "\"GMM_222comps_model_2020-12-24_13-14-02_segments_474471_len128_stride10_1sec_cad_countrates_sum_bin.pkl\"\n",
    "\"GMM_279comps_model_2020-12-21_20-11-39_segments_468202_len128_stride8_4sec_cad_countrates_sum_bin.pkl\""
   ]
  },
  {
   "cell_type": "code",
   "execution_count": 4,
   "metadata": {},
   "outputs": [
    {
     "name": "stderr",
     "output_type": "stream",
     "text": [
      "/home/jkok1g14/anaconda3/envs/py38/lib/python3.8/site-packages/sklearn/base.py:329: UserWarning: Trying to unpickle estimator GaussianMixture from version 0.22.1 when using version 0.23.1. This might lead to breaking code or invalid results. Use at your own risk.\n",
      "  warnings.warn(\n"
     ]
    }
   ],
   "source": [
    "# Load Gaussian mixture model which produced the minimum BIC with 1 second cadence data\n",
    "with open(\"{}/GMM_222comps_model_2020-12-24_13-14-02_segments_474471_len128_stride10_1sec_cad_countrates_sum_bin.pkl\".format(data_dir), 'rb') as f:\n",
    "    GMmodel_1s = pickle.load(f)"
   ]
  },
  {
   "cell_type": "code",
   "execution_count": 5,
   "metadata": {},
   "outputs": [],
   "source": [
    "# load light curve segments\n",
    "with open('{}/474471_len128_stride10_1sec_cad_countrates_sum_bin.pkl'.format(data_dir), 'rb') as f:\n",
    "    segments_counts = pickle.load(f)\n",
    "    \n",
    "# load latent variables for light curve segments\n",
    "weights_dir = \"../../../model_weights/model_2020-12-24_13-14-02.h5\"\n",
    "segments_dir = '../../../data_GRS1915/474471_len128_stride10_1sec_cad_countrates_sum_bin.pkl'\n",
    "segment_encoding_dir = '{}/segment_encoding_{}_segments_{}.pkl'.format(data_dir, weights_dir.split(\"/\")[-1].split(\".\")[0], segments_dir.split(\"/\")[-1].split(\".\")[0])\n",
    "with open(segment_encoding_dir, 'rb') as f:\n",
    "    segment_encoding = pickle.load(f)\n",
    "\n",
    "# take latent variable means, i.e. 20 values per segment\n",
    "segment_encoding_scaled_means = zscore(segment_encoding[:,0,:], axis=0).astype(np.float32)  # standardize per feature\n",
    "\n",
    "# calculate statistical moments for the segments\n",
    "desc_stats = np.zeros((len(segments_counts), 4)) #mean, std, skew, kurt\n",
    "desc_stats[:,0] = np.mean(segments_counts, axis=1).flatten()\n",
    "desc_stats[:,1] = np.std(segments_counts, axis=1).flatten()\n",
    "desc_stats[:,2] = stats.skew(segments_counts, axis=1).flatten()\n",
    "desc_stats[:,3] = stats.kurtosis(segments_counts, axis=1).flatten()\n",
    "zscore_desc_stats = zscore(desc_stats, axis=0)\n",
    "\n",
    "# merge the two types of features; shape of shape_moments is [474471, 24]\n",
    "shape_moments = np.hstack((segment_encoding_scaled_means, zscore_desc_stats)) # every column is standardized"
   ]
  },
  {
   "cell_type": "code",
   "execution_count": 6,
   "metadata": {},
   "outputs": [],
   "source": [
    "GMmodel_1s_labels = GMmodel_1s.predict(shape_moments)"
   ]
  },
  {
   "cell_type": "code",
   "execution_count": 6,
   "metadata": {},
   "outputs": [
    {
     "name": "stdout",
     "output_type": "stream",
     "text": [
      "221 221\n"
     ]
    }
   ],
   "source": [
    "# calculate mahalanobis distances between components\n",
    "GM_comp_mahal_distances_1s = component_mahalanobis_distances(GMmodel_1s)"
   ]
  },
  {
   "cell_type": "code",
   "execution_count": 62,
   "metadata": {},
   "outputs": [],
   "source": [
    "# merge components within 3 sigma\n",
    "couples = np.array(np.where(((np.triu(GM_comp_mahal_distances_1s)<3)&(np.triu(GM_comp_mahal_distances_1s)>0))\n",
    "      &(np.triu(GM_comp_mahal_distances_1s.T)<3)&(np.triu(GM_comp_mahal_distances_1s.T)>0))).T"
   ]
  },
  {
   "cell_type": "code",
   "execution_count": 63,
   "metadata": {},
   "outputs": [
    {
     "name": "stdout",
     "output_type": "stream",
     "text": [
      "<generator object connected_components at 0x7f07eb8b0f20>\n"
     ]
    }
   ],
   "source": [
    "l = [str(c) for c in list(range(GMmodel_1s.means_.shape[0]))]\n",
    "for couple in couples:\n",
    "    l.append([str(c) for c in couple])\n",
    "    \n",
    "import networkx \n",
    "from networkx.algorithms.components.connected import connected_components\n",
    "\n",
    "\n",
    "def to_graph(l):\n",
    "    G = networkx.Graph()\n",
    "    for part in l:\n",
    "        # each sublist is a bunch of nodes\n",
    "        G.add_nodes_from(part)\n",
    "        # it also imlies a number of edges:\n",
    "        G.add_edges_from(to_edges(part))\n",
    "    return G\n",
    "\n",
    "def to_edges(l):\n",
    "    \"\"\" \n",
    "        treat `l` as a Graph and returns it's edges \n",
    "        to_edges(['a','b','c','d']) -> [(a,b), (b,c),(c,d)]\n",
    "    \"\"\"\n",
    "    it = iter(l)\n",
    "    last = next(it)\n",
    "\n",
    "    for current in it:\n",
    "        yield last, current\n",
    "        last = current    \n",
    "\n",
    "G = to_graph(l)\n",
    "print(connected_components(G))"
   ]
  },
  {
   "cell_type": "code",
   "execution_count": 64,
   "metadata": {},
   "outputs": [],
   "source": [
    "data_labels = GMmodel_1s_labels\n",
    "# merge components\n",
    "for n_connection, connection in enumerate(connected_components(G)):\n",
    "    node_indices=np.array([int(node) for node in connection])\n",
    "    data_labels = np.where(np.isin(data_labels, node_indices), n_connection+np.unique(GMmodel_1s_labels).shape[0], data_labels)"
   ]
  },
  {
   "cell_type": "code",
   "execution_count": 17,
   "metadata": {},
   "outputs": [
    {
     "data": {
      "text/plain": [
       "array([182,  76, 152, ...,   9, 152,  88])"
      ]
     },
     "execution_count": 17,
     "metadata": {},
     "output_type": "execute_result"
    }
   ],
   "source": [
    "GMmodel_1s_labels"
   ]
  },
  {
   "cell_type": "code",
   "execution_count": 60,
   "metadata": {},
   "outputs": [
    {
     "data": {
      "text/plain": [
       "array([182, 225, 222, ..., 222, 222, 222])"
      ]
     },
     "execution_count": 60,
     "metadata": {},
     "output_type": "execute_result"
    }
   ],
   "source": [
    "data_labels"
   ]
  },
  {
   "cell_type": "code",
   "execution_count": 7,
   "metadata": {},
   "outputs": [],
   "source": [
    "with open('{}/474471_len128_stride10_1sec_cad_ids_sum_bin.pkl'.format(data_dir), 'rb') as f:\n",
    "    seg_ids = pickle.load(f)\n",
    "seg_ObIDs = [seg.split(\"_\")[0] for seg in seg_ids] # get rid of the within-observation segment indices and create a degenerate list of observation IDs"
   ]
  },
  {
   "cell_type": "code",
   "execution_count": 8,
   "metadata": {},
   "outputs": [],
   "source": [
    "clean_belloni = open('{}/1915Belloniclass_updated.dat'.format(data_dir))\n",
    "lines = clean_belloni.readlines()\n",
    "states = lines[0].split()\n",
    "belloni_clean = {}\n",
    "for h,l in zip(states, lines[1:]):\n",
    "    belloni_clean[h] = l.split()\n",
    "    #state: obsID1, obsID2...\n",
    "ob_state = {}\n",
    "for state, obs in belloni_clean.items():\n",
    "    if state == \"chi1\" or state == \"chi2\" or state == \"chi3\" or state == \"chi4\": state = \"chi\"\n",
    "    for ob in obs:\n",
    "        ob_state[ob] = state\n",
    "\n",
    "        \n",
    "# inverse the ob_state dictionary, so that inv_ob_state contains {\"state name\" : [list of observation IDs], ...}\n",
    "\n",
    "inv_ob_state = {}\n",
    "for k, v in ob_state.items():\n",
    "    inv_ob_state[v] = inv_ob_state.get(v, [])\n",
    "    inv_ob_state[v].append(k)"
   ]
  },
  {
   "cell_type": "code",
   "execution_count": 9,
   "metadata": {},
   "outputs": [],
   "source": [
    "with open('{}/lightcurve1738_train70_val10_test20.pkl'.format(data_dir), 'rb') as f:\n",
    "    split_ob_ids = pickle.load(f)"
   ]
  },
  {
   "cell_type": "code",
   "execution_count": 124,
   "metadata": {
    "collapsed": true,
    "jupyter": {
     "outputs_hidden": true
    }
   },
   "outputs": [
    {
     "data": {
      "text/plain": [
       "[array(['20402-01-22-00', '20187-02-01-01', '20187-02-01-00', ...,\n",
       "        '94701-01-42-00', '30703-01-09-00', '90105-04-02-00'], dtype='<U15'),\n",
       " array(['20402-01-23-00', '40703-01-18-00', '40703-01-35-00',\n",
       "        '20402-01-39-00', '20402-01-41-03', '10408-01-14-09',\n",
       "        '10408-01-15-04', '20186-03-02-03', '40703-01-12-00',\n",
       "        '20402-01-37-01', '10408-01-08-00', '10408-01-44-00',\n",
       "        '40703-01-23-00', '20402-01-32-01', '10408-01-19-01',\n",
       "        '30402-01-12-02', '20402-01-15-00', '30402-01-12-03',\n",
       "        '30703-01-33-00', '20402-01-48-00', '20402-01-50-00',\n",
       "        '40703-01-27-00', '70702-01-17-00', '80127-05-04-00',\n",
       "        '90105-03-01-000', '93701-01-33-00', '95701-01-51-00',\n",
       "        '93411-01-01-00', '50703-01-38-02', '91701-01-14-00',\n",
       "        '70702-01-52-00', '50703-01-42-00', '90105-10-07-00',\n",
       "        '80701-01-09-01', '80701-01-20-01', '90105-06-03-02',\n",
       "        '91701-01-69-00', '60701-01-14-00', '50703-01-47-02',\n",
       "        '50703-01-03-00', '90701-01-02-00', '90105-09-02-00',\n",
       "        '60701-01-03-01', '50703-01-37-00', '80701-01-16-00',\n",
       "        '93701-01-06-00', '60701-01-18-01', '50703-01-15-02',\n",
       "        '96701-01-17-01', '90105-02-07-00', '90105-05-03-01',\n",
       "        '70703-01-01-000', '20402-01-43-00', '60701-01-10-00',\n",
       "        '96701-01-38-00', '40116-01-01-01', '30402-01-21-00',\n",
       "        '91701-01-54-01', '91701-01-01-01', '94701-01-60-01',\n",
       "        '93701-01-16-00', '50703-01-61-02', '70702-01-20-00',\n",
       "        '93701-01-04-01', '60701-01-06-00', '92702-01-01-01',\n",
       "        '20402-01-53-02', '90701-01-30-00', '80701-01-17-01',\n",
       "        '50703-01-59-00', '93411-01-03-03', '91701-01-42-00',\n",
       "        '50703-01-21-00', '70702-01-22-00', '90105-01-03-01',\n",
       "        '10408-01-18-00', '95701-01-25-01', '20186-03-01-01',\n",
       "        '50703-01-50-00', '80701-01-13-01', '30703-01-26-00',\n",
       "        '91701-01-63-00', '50125-01-01-01', '95701-01-39-00',\n",
       "        '70702-01-11-01', '40115-01-08-01', '20187-02-05-00',\n",
       "        '90024-02-41-01', '70702-01-08-01', '91701-01-56-00',\n",
       "        '40403-01-02-00', '80127-02-03-00', '90701-01-17-01',\n",
       "        '50703-01-47-03', '10258-01-07-00', '92702-01-27-00',\n",
       "        '50703-01-62-01', '90701-01-31-02', '50703-01-52-01',\n",
       "        '30703-01-41-00', '30183-02-02-00', '95701-01-45-01',\n",
       "        '30402-01-03-00', '91701-01-29-00', '70702-01-35-01',\n",
       "        '80701-01-44-02', '60702-01-01-09', '80701-01-18-00',\n",
       "        '94701-01-57-01', '96701-01-08-01', '50703-01-52-00',\n",
       "        '91701-01-51-00', '40703-01-49-01', '91701-01-50-00',\n",
       "        '30703-01-21-00', '70702-01-09-00', '92702-01-20-01',\n",
       "        '96701-01-10-00', '30703-01-23-01', '91701-01-76-01',\n",
       "        '80701-01-59-01', '80701-01-27-00', '50703-01-24-00',\n",
       "        '40703-01-44-00', '30703-01-11-00', '90701-01-20-00',\n",
       "        '40115-01-03-00', '40702-01-01-00', '10258-01-01-00',\n",
       "        '30183-02-01-01', '93701-01-43-00', '40703-01-51-02',\n",
       "        '50703-01-41-03', '94701-01-03-01', '90105-01-02-01',\n",
       "        '10263-01-01-00', '94701-01-27-00', '50703-01-04-01',\n",
       "        '40115-01-10-02', '70702-01-54-01', '60702-01-01-05',\n",
       "        '40703-01-47-00', '30183-02-02-02', '60701-01-25-00',\n",
       "        '70702-01-03-00', '95701-01-20-00', '50405-01-04-00',\n",
       "        '30703-01-17-00', '94701-01-31-00', '70702-01-06-00',\n",
       "        '80701-01-22-00', '90701-01-35-01', '50703-01-41-00',\n",
       "        '96701-01-52-01', '96701-01-08-00', '70702-01-11-00',\n",
       "        '50703-01-56-00', '90701-01-08-00', '60405-01-04-07',\n",
       "        '70702-01-04-02', '91701-01-71-01', '80188-03-01-00',\n",
       "        '50703-01-16-02', '94701-01-43-00', '60701-01-19-01',\n",
       "        '80127-04-02-00', '50703-01-37-01', '90024-02-19-00',\n",
       "        '90701-01-44-00', '90024-02-12-00', '94701-01-19-00',\n",
       "        '80701-01-11-02', '96378-01-01-01', '90105-10-04-00'], dtype='<U15'),\n",
       " array(['20402-01-30-02', '20402-01-28-00', '40703-01-22-00',\n",
       "        '40703-01-35-01', '40703-01-19-01', '20402-01-55-00',\n",
       "        '20402-01-38-00', '20402-01-57-00', '20402-01-54-00',\n",
       "        '10408-01-17-00', '10408-01-14-04', '40703-01-33-01',\n",
       "        '10408-01-14-03', '20186-03-02-04', '40703-01-38-00',\n",
       "        '10408-01-16-02', '20186-03-02-01', '40703-01-24-00',\n",
       "        '40703-01-25-00', '40703-01-26-00', '20402-01-36-01',\n",
       "        '10408-01-36-00', '10408-01-35-00', '10408-01-40-00',\n",
       "        '40703-01-23-02', '40703-01-23-01', '20402-01-31-02',\n",
       "        '30703-01-28-01', '10408-01-19-00', '10408-01-19-02',\n",
       "        '30703-01-31-00', '20402-01-26-02', '20402-01-17-00',\n",
       "        '10408-01-42-00', '20402-01-19-00', '10408-01-22-00',\n",
       "        '40703-01-20-01', '10408-01-29-00', '40703-01-20-03',\n",
       "        '20402-01-18-00', '30402-01-12-01', '10408-01-27-00',\n",
       "        '20402-01-25-00', '40703-01-15-02', '20402-01-08-00',\n",
       "        '30703-01-36-00', '40703-01-29-01', '50703-01-55-00',\n",
       "        '92702-01-07-00', '30402-01-09-00', '50703-01-12-01',\n",
       "        '50703-01-65-01', '93701-01-29-00', '91701-01-46-00',\n",
       "        '20187-02-04-00', '20187-02-03-00', '60701-01-13-01',\n",
       "        '70702-01-50-00', '91701-01-39-00', '30703-01-22-01',\n",
       "        '90701-01-09-01', '95701-01-29-00', '40703-01-40-00',\n",
       "        '93701-01-13-00', '50703-01-48-01', '60701-01-26-00',\n",
       "        '60702-01-01-13', '96701-01-33-00', '95701-01-25-00',\n",
       "        '50703-01-57-00', '50703-01-14-02', '94701-01-17-00',\n",
       "        '70702-01-14-00', '93701-01-25-00', '40403-01-09-00',\n",
       "        '40703-01-39-01', '30182-01-04-02', '92082-03-01-00',\n",
       "        '40703-01-45-01', '40703-01-16-03', '50703-01-03-02',\n",
       "        '30703-01-38-00', '60701-01-26-03', '91701-01-09-01',\n",
       "        '94701-01-16-00', '80701-01-38-02', '50703-01-07-01',\n",
       "        '93701-01-44-00', '95701-01-26-00', '91701-01-23-00',\n",
       "        '30703-01-30-00', '20186-03-03-01', '92702-01-01-00',\n",
       "        '91701-01-54-00', '90701-01-42-00', '92702-01-10-00',\n",
       "        '91701-01-36-01', '90105-03-03-01', '40115-01-06-00',\n",
       "        '20402-01-58-00', '60701-01-13-00', '80701-01-10-00',\n",
       "        '95701-01-41-00', '30183-02-01-00', '40703-01-08-01',\n",
       "        '93701-01-32-01', '80701-01-28-02', '50703-01-44-01',\n",
       "        '90701-01-29-02', '50125-01-01-02', '70702-01-13-00',\n",
       "        '60405-01-04-05', '70702-01-38-00', '30703-01-25-00',\n",
       "        '90024-02-32-00', '60701-01-21-01', '60701-01-17-01',\n",
       "        '70702-01-50-01', '70702-01-39-00', '30182-01-01-00',\n",
       "        '91701-01-74-00', '60405-01-04-04', '80701-01-03-01',\n",
       "        '94701-01-12-01', '60701-01-02-00', '70703-01-01-04',\n",
       "        '91701-01-28-01', '50125-01-01-00', '91701-01-52-02',\n",
       "        '90105-10-08-00', '50703-01-13-00', '80701-01-19-01',\n",
       "        '20402-01-30-01', '90701-01-20-01', '90701-01-14-02',\n",
       "        '92092-01-01-01', '96701-01-46-00', '70702-01-25-00',\n",
       "        '94701-01-08-00', '91701-01-76-00', '30703-01-24-00',\n",
       "        '90701-01-15-02', '60701-01-07-01', '94701-01-20-00',\n",
       "        '80701-01-28-01', '80701-01-55-01', '50703-01-42-02',\n",
       "        '10408-01-03-00', '60701-01-11-02', '80701-01-08-01',\n",
       "        '60701-01-26-02', '60702-01-01-27', '60405-01-04-01',\n",
       "        '91701-01-18-00', '92702-01-16-02', '40403-01-11-00',\n",
       "        '80701-01-57-00', '92702-01-27-02', '91701-01-73-00',\n",
       "        '95701-01-08-00', '70702-01-19-00', '91701-01-22-00',\n",
       "        '60701-01-26-01', '91701-01-51-01', '96701-01-14-01',\n",
       "        '50703-01-15-00', '80127-04-01-02', '30402-01-20-00',\n",
       "        '91701-01-11-00', '50125-01-01-03', '94701-01-47-00',\n",
       "        '40703-01-29-00', '92702-01-03-00', '92437-01-01-00',\n",
       "        '40403-01-01-00', '10258-01-03-00', '93701-01-03-01',\n",
       "        '80701-01-54-01', '40703-01-08-00', '94701-01-21-00',\n",
       "        '90105-03-02-01', '60701-01-18-02', '91701-01-70-01',\n",
       "        '90024-02-28-00', '40115-01-06-01', '92702-01-23-01',\n",
       "        '90105-01-03-00', '50703-01-17-02', '90024-02-31-00',\n",
       "        '60701-01-06-01', '92702-01-16-01', '96378-01-01-010',\n",
       "        '10408-01-22-02', '40116-01-02-05', '96701-01-43-01',\n",
       "        '60405-01-04-08', '60701-01-25-02', '90701-01-36-00',\n",
       "        '91701-01-21-01', '90105-05-03-02', '93701-01-08-01',\n",
       "        '50703-01-16-03', '50703-01-66-01', '30402-01-02-00',\n",
       "        '30183-02-02-01', '94701-01-11-00', '96701-01-07-01',\n",
       "        '40116-01-01-02', '90701-01-43-00', '50703-01-03-01',\n",
       "        '91701-01-26-00', '50703-01-38-01', '80701-01-61-02',\n",
       "        '93701-01-27-01', '40116-01-03-01', '90105-06-01-00',\n",
       "        '50703-01-54-00', '80701-01-04-00', '70703-01-01-06',\n",
       "        '60702-01-01-18', '20186-03-01-04', '94701-01-61-01',\n",
       "        '90701-01-28-00', '94701-01-01-01', '40703-01-51-00',\n",
       "        '40703-01-05-00', '80701-01-19-03', '80701-01-48-01',\n",
       "        '90701-01-10-00', '93701-01-28-00', '80701-01-10-01',\n",
       "        '92702-01-31-00', '30703-01-13-00', '80701-01-62-01',\n",
       "        '50703-01-25-00', '96701-01-27-00', '91701-01-70-00',\n",
       "        '70703-01-01-12', '50703-01-24-01', '92702-01-20-02',\n",
       "        '94701-01-51-00', '91701-01-48-00', '93701-01-19-01',\n",
       "        '30402-01-07-00', '50703-01-17-01', '94701-01-05-01',\n",
       "        '90024-02-40-01', '70702-01-12-02', '90701-01-28-01',\n",
       "        '93701-01-12-00', '30402-01-12-00', '92702-01-33-00',\n",
       "        '50703-01-43-02', '94701-01-35-00', '80701-01-59-00',\n",
       "        '90105-05-03-04', '92702-01-13-00', '92702-01-21-00',\n",
       "        '60702-01-01-08', '95701-01-22-00', '93411-01-02-02',\n",
       "        '60701-01-07-02', '91701-01-20-00', '60702-01-01-20',\n",
       "        '91701-01-16-00', '60701-01-04-00', '94701-01-59-00',\n",
       "        '94701-01-55-01', '30182-01-03-00', '50703-01-67-00',\n",
       "        '60701-01-30-00', '94701-01-10-00', '92702-01-15-00',\n",
       "        '70703-01-01-03', '40117-01-01-02', '96701-01-01-00',\n",
       "        '20186-03-02-060', '94701-01-34-01', '80701-01-38-00',\n",
       "        '70702-01-15-00', '96701-01-29-00', '93701-01-09-00',\n",
       "        '95701-01-03-00', '95701-01-23-01', '90701-01-31-00',\n",
       "        '80701-01-29-01', '50703-01-15-03', '91701-01-53-01',\n",
       "        '90024-02-18-00', '50703-01-61-00', '80701-01-56-00',\n",
       "        '70702-01-18-00', '80701-01-39-00', '30184-01-01-000',\n",
       "        '40703-01-42-02', '70702-01-03-01', '50703-01-32-00',\n",
       "        '91701-01-38-00', '95701-01-18-00', '20402-01-50-01',\n",
       "        '80701-01-09-02', '60100-01-01-01', '40703-01-43-00',\n",
       "        '50703-01-62-02', '90105-07-02-00', '90701-01-39-01',\n",
       "        '60701-01-12-02', '60701-01-11-00', '70702-01-28-00',\n",
       "        '96701-01-45-01', '90105-09-04-00', '40703-01-32-00',\n",
       "        '20402-01-02-01', '40703-01-49-00', '50703-01-50-02',\n",
       "        '50703-01-12-03', '80188-01-01-04', '94701-01-41-00',\n",
       "        '90701-01-46-00', '91701-01-80-00', '91701-01-19-00',\n",
       "        '90701-01-15-00', '30402-01-07-01', '40116-01-02-02',\n",
       "        '90701-01-33-00', '80701-01-29-02', '30182-01-02-00',\n",
       "        '91701-01-23-01', '96701-01-30-00', '50703-01-23-00',\n",
       "        '90701-01-49-00', '60701-01-21-02', '80701-01-60-02',\n",
       "        '91701-01-82-00', '60702-01-01-00', '96701-01-50-01',\n",
       "        '90701-01-07-01', '30703-01-30-01', '50703-01-45-01',\n",
       "        '60702-01-01-04', '91701-01-25-00', '50703-01-67-02',\n",
       "        '80127-05-01-00', '90024-02-07-00', '95701-01-01-00',\n",
       "        '90024-02-38-00', '50703-01-20-00', '93701-01-02-01',\n",
       "        '60702-01-01-17', '95701-01-42-00', '10408-01-38-00',\n",
       "        '60701-01-13-03', '90105-08-02-00'], dtype='<U15')]"
      ]
     },
     "execution_count": 124,
     "metadata": {},
     "output_type": "execute_result"
    }
   ],
   "source": [
    "split_ob_ids"
   ]
  },
  {
   "cell_type": "code",
   "execution_count": 10,
   "metadata": {},
   "outputs": [],
   "source": [
    "import pandas as pd\n",
    "from sklearn.metrics import precision_recall_fscore_support\n",
    "from sklearn.metrics import accuracy_score\n",
    "from  sklearn.ensemble import RandomForestClassifier"
   ]
  },
  {
   "cell_type": "code",
   "execution_count": 28,
   "metadata": {},
   "outputs": [],
   "source": [
    "from  sklearn.ensemble import RandomForestClassifier"
   ]
  },
  {
   "cell_type": "code",
   "execution_count": 11,
   "metadata": {},
   "outputs": [],
   "source": [
    "def test_frankGMM_in_classification(data_labels, data, train_set_ids, val_set_ids):\n",
    "#     comp=GMmodel.means_.shape[0]\n",
    "    \n",
    "    # find GMM component labels for data\n",
    "    data_GMMcomp_labels = data_labels\n",
    "    \n",
    "    # make a dict that groups indices of segments of the same observation \n",
    "    # i.e. where each observation id can be found in seg_ObIDs\n",
    "    #i.e. ObID_SegIndices_dict == {'10258-01-01-00': [916, 949, 1046...467528, 467578], ....}\n",
    "    ObID_SegIndices_dict = {key:[] for key in np.unique(seg_ObIDs)}\n",
    "    for ID_index, ObID in enumerate(seg_ObIDs):\n",
    "        ObID_SegIndices_dict.setdefault(ObID, []).append(ID_index)\n",
    "    \n",
    "    # make a dictionary of Gaussian component labels instead of segment indices  \n",
    "    #i.e. ObID_GaussComps_dict_500 == {'10258-01-01-00': [401, 433, 382...101, 152], ....}\n",
    "    ObID_GaussComps_dict_comp = {}\n",
    "    for ObID, Indices in ObID_SegIndices_dict.items():\n",
    "        ObID_GaussComps_dict_comp[ObID] = [data_GMMcomp_labels[ind] for ind in Indices]\n",
    "        \n",
    "    # make a data frame containing the counts of light curve segments in each of the Gaussian components, for each observation\n",
    "    obs_component_counts_df_comp = pd.DataFrame(np.zeros((len(ObID_GaussComps_dict_comp),len(np.unique(data_GMMcomp_labels)))),\n",
    "                                               index=np.unique(seg_ObIDs), columns=np.unique(data_GMMcomp_labels), dtype=int)\n",
    "        \n",
    "    # populate the data frame\n",
    "    for ObID, GaussComps in ObID_GaussComps_dict_comp.items():\n",
    "        for comp_id, comp_count in np.array(np.unique(GaussComps, return_counts=True)).T:\n",
    "            obs_component_counts_df_comp.loc[ObID][comp_id] = comp_count\n",
    "    \n",
    "    \n",
    "    obs_component_counts_df_comp = obs_component_counts_df_comp.iloc[:,:].div(np.sum(obs_component_counts_df_comp.iloc[:,:], axis=1), axis=\"rows\") # normalise rows\n",
    "    \n",
    "    # add classification column\n",
    "    obs_component_counts_df_comp[\"Class\"] = \"Unknown\" \n",
    "    for k,v in ob_state.items():\n",
    "        if v == \"eta\": v = \"Unknown\" ##################################### remove eta classifications, there are only two in the set of 1738 observations\n",
    "        if str(k) in obs_component_counts_df_comp.index.values:\n",
    "            obs_component_counts_df_comp.loc[str(k), \"Class\"] = v\n",
    "            \n",
    "    \n",
    "    \n",
    "    # training data\n",
    "    train_data = obs_component_counts_df_comp.loc[train_set_ids].loc[obs_component_counts_df_comp.loc[train_set_ids].iloc[:,-1] != \"Unknown\"]  \n",
    "    # validation data\n",
    "    val_data = obs_component_counts_df_comp.loc[val_set_ids].loc[obs_component_counts_df_comp.loc[val_set_ids].iloc[:,-1] != \"Unknown\"]\n",
    "            \n",
    "    #random forest hyperparameters\n",
    "    n_estimators_list = [50, 100, 300, 800] # 100\n",
    "    max_depth_list = [None, 5, 8, 15, 25] # None\n",
    "    min_samples_split_list = [2, 5, 10, 15] # 2\n",
    "    min_samples_leaf_list = [1, 2, 5, 10] # 1   \n",
    "\n",
    "    reports = []\n",
    "    \n",
    "    for n_estimators in n_estimators_list:\n",
    "        for max_depth in max_depth_list:\n",
    "            for min_samples_split in min_samples_split_list:\n",
    "                for min_samples_leaf in min_samples_leaf_list:\n",
    "    \n",
    "                    RF_clf = RandomForestClassifier(random_state=0,\n",
    "                                                    class_weight=\"balanced\",\n",
    "                                                    n_estimators=n_estimators,\n",
    "                                                    max_depth=max_depth, \n",
    "                                                    min_samples_split=min_samples_split,\n",
    "                                                    min_samples_leaf = min_samples_leaf\n",
    "                                                   ).fit(train_data.iloc[:,:-1], train_data.iloc[:,-1])\n",
    "                    preds = RF_clf.predict(val_data.iloc[:,:-1])\n",
    "\n",
    "                    reports.append((precision_recall_fscore_support(val_data.iloc[:,-1], preds, zero_division=0, average=\"weighted\")[2],\n",
    "                                    accuracy_score(val_data.iloc[:,-1], preds),\n",
    "                                   (n_estimators,max_depth,min_samples_split,min_samples_leaf)))\n",
    "            \n",
    "\n",
    "    return reports"
   ]
  },
  {
   "cell_type": "code",
   "execution_count": 71,
   "metadata": {},
   "outputs": [
    {
     "name": "stdout",
     "output_type": "stream",
     "text": [
      "1\n"
     ]
    }
   ],
   "source": [
    "reports = test_frankGMM_in_classification(data_labels, shape_moments, split_ob_ids[0], split_ob_ids[1])"
   ]
  },
  {
   "cell_type": "code",
   "execution_count": 72,
   "metadata": {},
   "outputs": [
    {
     "data": {
      "text/plain": [
       "[(0.6367965367965367, 0.7272727272727273, (50, None, 2, 1))]"
      ]
     },
     "execution_count": 72,
     "metadata": {},
     "output_type": "execute_result"
    }
   ],
   "source": [
    "reports"
   ]
  },
  {
   "cell_type": "code",
   "execution_count": 70,
   "metadata": {},
   "outputs": [
    {
     "data": {
      "text/plain": [
       "(164,)"
      ]
     },
     "execution_count": 70,
     "metadata": {},
     "output_type": "execute_result"
    }
   ],
   "source": [
    "np.unique(data_labels).shape"
   ]
  },
  {
   "cell_type": "code",
   "execution_count": null,
   "metadata": {},
   "outputs": [],
   "source": []
  },
  {
   "cell_type": "code",
   "execution_count": null,
   "metadata": {},
   "outputs": [],
   "source": []
  },
  {
   "cell_type": "code",
   "execution_count": null,
   "metadata": {},
   "outputs": [],
   "source": []
  },
  {
   "cell_type": "code",
   "execution_count": null,
   "metadata": {},
   "outputs": [],
   "source": []
  },
  {
   "cell_type": "code",
   "execution_count": null,
   "metadata": {},
   "outputs": [],
   "source": []
  },
  {
   "cell_type": "code",
   "execution_count": null,
   "metadata": {},
   "outputs": [],
   "source": []
  },
  {
   "cell_type": "code",
   "execution_count": 12,
   "metadata": {},
   "outputs": [],
   "source": [
    "def merge_gaussian_component_labels(distance_matrix, observation_labels, sigma_threshold):\n",
    "    \"\"\"\n",
    "    if mahalanobis distance between Gaussian components is smaller than the sigma_threshold, relabel the data within\n",
    "    those components as belonging to single cluster\n",
    "    \"\"\"\n",
    "    # merge components within 3 sigma\n",
    "    couples = np.array(np.where(((np.triu(distance_matrix)<sigma_threshold)&(np.triu(distance_matrix)>0))\n",
    "      &(np.triu(distance_matrix.T)<sigma_threshold)&(np.triu(distance_matrix.T)>0))).T\n",
    "    \n",
    "    # build a graph of connections\n",
    "    l = [str(c) for c in list(range(distance_matrix.shape[0]))]\n",
    "    for couple in couples:\n",
    "        l.append([str(c) for c in couple])\n",
    "    import networkx \n",
    "    from networkx.algorithms.components.connected import connected_components\n",
    "    def to_graph(l):\n",
    "        G = networkx.Graph()\n",
    "        for part in l:\n",
    "            # each sublist is a bunch of nodes\n",
    "            G.add_nodes_from(part)\n",
    "            # it also imlies a number of edges:\n",
    "            G.add_edges_from(to_edges(part))\n",
    "        return G\n",
    "    def to_edges(l):\n",
    "        \"\"\" \n",
    "            treat `l` as a Graph and returns it's edges \n",
    "            to_edges(['a','b','c','d']) -> [(a,b), (b,c),(c,d)]\n",
    "        \"\"\"\n",
    "        it = iter(l)\n",
    "        last = next(it)\n",
    "\n",
    "        for current in it:\n",
    "            yield last, current\n",
    "            last = current    \n",
    "    G = to_graph(l)\n",
    "\n",
    "    data_labels = observation_labels\n",
    "    # merge components\n",
    "    for n_connection, connection in enumerate(connected_components(G)):\n",
    "        node_indices=np.array([int(node) for node in connection])\n",
    "        data_labels = np.where(np.isin(data_labels, node_indices), n_connection+np.unique(observation_labels).shape[0], data_labels)\n",
    "        \n",
    "    return data_labels"
   ]
  },
  {
   "cell_type": "code",
   "execution_count": 95,
   "metadata": {},
   "outputs": [
    {
     "name": "stdout",
     "output_type": "stream",
     "text": [
      "39 6.0\n"
     ]
    }
   ],
   "source": [
    "no_components_premerger = np.unique(GMmodel_1s_labels).shape[0]\n",
    "\n",
    "sigma_reports_list = []\n",
    "\n",
    "for sigma_threshold in np.linspace(1,6,50):\n",
    "    data_labels = merge_gaussian_component_labels(GM_comp_mahal_distances_1s, GMmodel_1s_labels, sigma_threshold)\n",
    "    if np.unique(data_labels).shape[0] < no_components_premerger:\n",
    "        no_components_premerger = np.unique(data_labels).shape[0]\n",
    "        reports = test_frankGMM_in_classification(data_labels, shape_moments, split_ob_ids[0], split_ob_ids[1])\n",
    "        sigma_reports_list.append((sigma_threshold, reports))\n",
    "        print(len(sigma_reports_list), sigma_threshold)\n",
    "        clear_output(wait=True)"
   ]
  },
  {
   "cell_type": "code",
   "execution_count": 97,
   "metadata": {},
   "outputs": [],
   "source": [
    "with open(\"sigma_reports_list_1s.pkl\", 'wb') as f:\n",
    "    pickle.dump(sigma_reports_list, f)"
   ]
  },
  {
   "cell_type": "code",
   "execution_count": null,
   "metadata": {},
   "outputs": [],
   "source": []
  },
  {
   "cell_type": "code",
   "execution_count": null,
   "metadata": {},
   "outputs": [],
   "source": []
  },
  {
   "cell_type": "code",
   "execution_count": null,
   "metadata": {},
   "outputs": [],
   "source": []
  },
  {
   "cell_type": "code",
   "execution_count": null,
   "metadata": {},
   "outputs": [],
   "source": []
  },
  {
   "cell_type": "markdown",
   "metadata": {},
   "source": [
    "# 4 second data classification"
   ]
  },
  {
   "cell_type": "code",
   "execution_count": 99,
   "metadata": {},
   "outputs": [
    {
     "name": "stderr",
     "output_type": "stream",
     "text": [
      "/home/jkok1g14/anaconda3/envs/py38/lib/python3.8/site-packages/sklearn/base.py:329: UserWarning: Trying to unpickle estimator GaussianMixture from version 0.22.1 when using version 0.23.1. This might lead to breaking code or invalid results. Use at your own risk.\n",
      "  warnings.warn(\n"
     ]
    }
   ],
   "source": [
    "# Load Gaussian mixture model which produced the minimum BIC with 1 second cadence data\n",
    "with open(\"{}/GMM_279comps_model_2020-12-21_20-11-39_segments_468202_len128_stride8_4sec_cad_countrates_sum_bin.pkl\".format(data_dir), 'rb') as f:\n",
    "    GMmodel_4s = pickle.load(f)"
   ]
  },
  {
   "cell_type": "code",
   "execution_count": 100,
   "metadata": {},
   "outputs": [],
   "source": [
    "# load light curve segments\n",
    "with open('{}/468202_len128_stride8_4sec_cad_countrates_sum_bin.pkl'.format(data_dir), 'rb') as f:\n",
    "    segments_counts = pickle.load(f)\n",
    "    \n",
    "# load latent variables for light curve segments\n",
    "weights_dir = \"../../../model_weights/model_2020-12-21_20-11-39.h5\"\n",
    "segments_dir = '../../../data_GRS1915/468202_len128_stride8_4sec_cad_countrates_sum_bin.pkl'\n",
    "segment_encoding_dir = '{}/segment_encoding_{}_segments_{}.pkl'.format(data_dir, weights_dir.split(\"/\")[-1].split(\".\")[0], segments_dir.split(\"/\")[-1].split(\".\")[0])\n",
    "with open(segment_encoding_dir, 'rb') as f:\n",
    "    segment_encoding = pickle.load(f)\n",
    "\n",
    "# take latent variable means, i.e. 16 values per segment\n",
    "segment_encoding_scaled_means = zscore(segment_encoding[:,0,:], axis=0).astype(np.float32)  # standardize per feature\n",
    "\n",
    "# calculate statistical moments for the segments\n",
    "desc_stats = np.zeros((len(segments_counts), 4)) #mean, std, skew, kurt\n",
    "desc_stats[:,0] = np.mean(segments_counts, axis=1).flatten()\n",
    "desc_stats[:,1] = np.std(segments_counts, axis=1).flatten()\n",
    "desc_stats[:,2] = stats.skew(segments_counts, axis=1).flatten()\n",
    "desc_stats[:,3] = stats.kurtosis(segments_counts, axis=1).flatten()\n",
    "zscore_desc_stats = zscore(desc_stats, axis=0)\n",
    "\n",
    "# merge the two types of features; shape of shape_moments is [474471, 24]\n",
    "shape_moments = np.hstack((segment_encoding_scaled_means, zscore_desc_stats)) # every column is standardized"
   ]
  },
  {
   "cell_type": "code",
   "execution_count": 101,
   "metadata": {},
   "outputs": [],
   "source": [
    "GMmodel_4s_labels = GMmodel_4s.predict(shape_moments)"
   ]
  },
  {
   "cell_type": "code",
   "execution_count": 102,
   "metadata": {},
   "outputs": [
    {
     "name": "stdout",
     "output_type": "stream",
     "text": [
      "278 278\n"
     ]
    }
   ],
   "source": [
    "# calculate mahalanobis distances between components\n",
    "GM_comp_mahal_distances_4s = component_mahalanobis_distances(GMmodel_4s)"
   ]
  },
  {
   "cell_type": "code",
   "execution_count": null,
   "metadata": {},
   "outputs": [],
   "source": [
    "with open('{}/468202_len128_stride8_4sec_cad_ids_sum_bin.pkl'.format(data_dir), 'rb') as f:\n",
    "    seg_ids = pickle.load(f)\n",
    "seg_ObIDs = [seg.split(\"_\")[0] for seg in seg_ids] # get rid of the within-observation segment indices and create a degenerate list of observation IDs"
   ]
  },
  {
   "cell_type": "code",
   "execution_count": 127,
   "metadata": {},
   "outputs": [
    {
     "name": "stdout",
     "output_type": "stream",
     "text": [
      "39 6.0\n"
     ]
    }
   ],
   "source": [
    "no_components_premerger = np.unique(GMmodel_4s_labels).shape[0]\n",
    "\n",
    "sigma_reports_list = []\n",
    "\n",
    "for sigma_threshold in np.linspace(1,6,50):\n",
    "    data_labels = merge_gaussian_component_labels(GM_comp_mahal_distances_4s, GMmodel_4s_labels, sigma_threshold)\n",
    "    if np.unique(data_labels).shape[0] < no_components_premerger:\n",
    "        no_components_premerger = np.unique(data_labels).shape[0]\n",
    "        reports = test_frankGMM_in_classification(data_labels, shape_moments, split_ob_ids[0], split_ob_ids[1])\n",
    "        sigma_reports_list.append((sigma_threshold, reports))\n",
    "        print(len(sigma_reports_list), sigma_threshold)\n",
    "        clear_output(wait=True)"
   ]
  },
  {
   "cell_type": "code",
   "execution_count": 128,
   "metadata": {},
   "outputs": [],
   "source": [
    "# with open(\"sigma_reports_list_4s.pkl\", 'wb') as f:\n",
    "#     pickle.dump(sigma_reports_list, f)"
   ]
  },
  {
   "cell_type": "code",
   "execution_count": 135,
   "metadata": {},
   "outputs": [],
   "source": [
    "best_f1 = 0\n",
    "best_result = []\n",
    "for threshold, report_list in sigma_reports_list:\n",
    "    for report in report_list:\n",
    "        if report[0] > best_f1:\n",
    "            best_f1 = report[0]\n",
    "            best_result = [threshold, report]"
   ]
  },
  {
   "cell_type": "code",
   "execution_count": 136,
   "metadata": {},
   "outputs": [
    {
     "data": {
      "text/plain": [
       "[3.6530612244897958, (0.782051282051282, 0.8181818181818182, (50, None, 2, 5))]"
      ]
     },
     "execution_count": 136,
     "metadata": {},
     "output_type": "execute_result"
    }
   ],
   "source": [
    "best_result\n",
    "# best results for the grid search (including sigma search) with unknown class excluded\n",
    "# [3.6530612244897958, (0.782051282051282, 0.8181818181818182, (50, None, 2, 5))]"
   ]
  },
  {
   "cell_type": "code",
   "execution_count": 123,
   "metadata": {},
   "outputs": [],
   "source": [
    "# results for the grid search without merging\n",
    "# reports0 = test_frankGMM_in_classification(GMmodel_4s_labels, shape_moments, split_ob_ids[0], split_ob_ids[1])\n",
    "# (0.7449035812672178, 0.7727272727272727, (50, 5, 2, 5))"
   ]
  },
  {
   "cell_type": "code",
   "execution_count": 133,
   "metadata": {},
   "outputs": [],
   "source": [
    "best_f1 = 0\n",
    "best_result = []\n",
    "for report in reports0:\n",
    "    if report[0] > best_f1:\n",
    "        best_f1 = report[0]\n",
    "        best_result = report"
   ]
  },
  {
   "cell_type": "code",
   "execution_count": 134,
   "metadata": {},
   "outputs": [
    {
     "data": {
      "text/plain": [
       "(0.7449035812672178, 0.7727272727272727, (50, 5, 2, 5))"
      ]
     },
     "execution_count": 134,
     "metadata": {},
     "output_type": "execute_result"
    }
   ],
   "source": [
    "best_result"
   ]
  },
  {
   "cell_type": "code",
   "execution_count": 138,
   "metadata": {},
   "outputs": [
    {
     "data": {
      "text/plain": [
       "(0.6790571547768044, 0.7021276595744681)"
      ]
     },
     "execution_count": 138,
     "metadata": {},
     "output_type": "execute_result"
    }
   ],
   "source": [
    "data_labels = merge_gaussian_component_labels(GM_comp_mahal_distances_4s, GMmodel_4s_labels, 3.6530612244897958)\n",
    "test_classification(data_labels, shape_moments, split_ob_ids[0], split_ob_ids[2],\n",
    "                                                    n_estimators=50,\n",
    "                                                    max_depth=None, \n",
    "                                                    min_samples_split=2,\n",
    "                                                    min_samples_leaf = 5)\n",
    "# (0.6790571547768044, 0.7021276595744681)"
   ]
  },
  {
   "cell_type": "code",
   "execution_count": 137,
   "metadata": {},
   "outputs": [],
   "source": [
    "def test_classification(data_labels, data, train_set_ids, test_set_ids,\n",
    "                                                    n_estimators=50,\n",
    "                                                    max_depth=5, \n",
    "                                                    min_samples_split=15,\n",
    "                                                    min_samples_leaf = 1):\n",
    "    \"\"\"\n",
    "    prepare representations of observations based on their make up in terms of Gaussian mixture component contributions.\n",
    "    test the representation as the feature set for classification task\n",
    "    \"\"\"\n",
    "    \n",
    "#     comp=GMmodel.means_.shape[0]\n",
    "    \n",
    "    # find GMM component labels for data\n",
    "    data_GMMcomp_labels = data_labels\n",
    "    \n",
    "    # make a dict that groups indices of segments of the same observation \n",
    "    # i.e. where each observation id can be found in seg_ObIDs\n",
    "    #i.e. ObID_SegIndices_dict == {'10258-01-01-00': [916, 949, 1046...467528, 467578], ....}\n",
    "    ObID_SegIndices_dict = {key:[] for key in np.unique(seg_ObIDs)}\n",
    "    for ID_index, ObID in enumerate(seg_ObIDs):\n",
    "        ObID_SegIndices_dict.setdefault(ObID, []).append(ID_index)\n",
    "    \n",
    "    # make a dictionary of Gaussian component labels instead of segment indices  \n",
    "    #i.e. ObID_GaussComps_dict_comp == {'10258-01-01-00': [401, 433, 382...101, 152], ....}\n",
    "    ObID_GaussComps_dict_comp = {}\n",
    "    for ObID, Indices in ObID_SegIndices_dict.items():\n",
    "        ObID_GaussComps_dict_comp[ObID] = [data_GMMcomp_labels[ind] for ind in Indices]\n",
    "        \n",
    "    # make a data frame containing the counts of light curve segments in each of the Gaussian components, for each observation\n",
    "    obs_component_counts_df_comp = pd.DataFrame(np.zeros((len(ObID_GaussComps_dict_comp),len(np.unique(data_GMMcomp_labels)))),\n",
    "                                               index=np.unique(seg_ObIDs), columns=np.unique(data_GMMcomp_labels), dtype=int)\n",
    "        \n",
    "    # populate the data frame\n",
    "    for ObID, GaussComps in ObID_GaussComps_dict_comp.items():\n",
    "        for comp_id, comp_count in np.array(np.unique(GaussComps, return_counts=True)).T:\n",
    "            obs_component_counts_df_comp.loc[ObID][comp_id] = comp_count\n",
    "    \n",
    "    \n",
    "    obs_component_counts_df_comp = obs_component_counts_df_comp.iloc[:,:].div(np.sum(obs_component_counts_df_comp.iloc[:,:], axis=1), axis=\"rows\") # normalise rows\n",
    "    \n",
    "    # add classification column\n",
    "    obs_component_counts_df_comp[\"Class\"] = \"Unknown\" \n",
    "    for k,v in ob_state.items():\n",
    "        if v == \"eta\": v = \"Unknown\" ##################################### remove eta classifications, there are only two in the set of 1738 observations\n",
    "        if str(k) in obs_component_counts_df_comp.index.values:\n",
    "            obs_component_counts_df_comp.loc[str(k), \"Class\"] = v\n",
    "            \n",
    "    \n",
    "    \n",
    "    # training data\n",
    "    train_data = obs_component_counts_df_comp.loc[train_set_ids].loc[obs_component_counts_df_comp.loc[train_set_ids].iloc[:,-1] != \"Unknown\"]  \n",
    "    # validation data\n",
    "    test_data = obs_component_counts_df_comp.loc[test_set_ids].loc[obs_component_counts_df_comp.loc[test_set_ids].iloc[:,-1] != \"Unknown\"]\n",
    "            \n",
    "\n",
    "    RF_clf = RandomForestClassifier(random_state=0,\n",
    "                                    class_weight=\"balanced\",\n",
    "                                    n_estimators=n_estimators,\n",
    "                                    max_depth=max_depth, \n",
    "                                    min_samples_split=min_samples_split,\n",
    "                                    min_samples_leaf = min_samples_leaf\n",
    "                                   ).fit(train_data.iloc[:,:-1], train_data.iloc[:,-1])\n",
    "    preds = RF_clf.predict(test_data.iloc[:,:-1])\n",
    "\n",
    "    return (precision_recall_fscore_support(test_data.iloc[:,-1], preds, zero_division=0, average=\"weighted\")[2],\n",
    "                    accuracy_score(test_data.iloc[:,-1], preds))"
   ]
  },
  {
   "cell_type": "code",
   "execution_count": null,
   "metadata": {},
   "outputs": [],
   "source": []
  },
  {
   "cell_type": "code",
   "execution_count": null,
   "metadata": {},
   "outputs": [],
   "source": []
  },
  {
   "cell_type": "code",
   "execution_count": null,
   "metadata": {},
   "outputs": [],
   "source": []
  },
  {
   "cell_type": "code",
   "execution_count": null,
   "metadata": {},
   "outputs": [],
   "source": []
  },
  {
   "cell_type": "code",
   "execution_count": 153,
   "metadata": {},
   "outputs": [],
   "source": [
    "# merge components within 3 sigma\n",
    "couples_4s = np.array(np.where(((np.triu(GM_comp_mahal_distances_4s)<3)&(np.triu(GM_comp_mahal_distances_4s)>0))\n",
    "      &(np.triu(GM_comp_mahal_distances_4s.T)<3)&(np.triu(GM_comp_mahal_distances_4s.T)>0))).T"
   ]
  },
  {
   "cell_type": "code",
   "execution_count": 154,
   "metadata": {},
   "outputs": [
    {
     "name": "stdout",
     "output_type": "stream",
     "text": [
      "<generator object connected_components at 0x7fc3b8ee77b0>\n"
     ]
    }
   ],
   "source": [
    "l = [str(c) for c in list(range(GMmodel_4s.means_.shape[0]))]\n",
    "for couple in couples_4s:\n",
    "    l.append([str(c) for c in couple])\n",
    "    \n",
    "import networkx \n",
    "from networkx.algorithms.components.connected import connected_components\n",
    "\n",
    "\n",
    "def to_graph(l):\n",
    "    G = networkx.Graph()\n",
    "    for part in l:\n",
    "        # each sublist is a bunch of nodes\n",
    "        G.add_nodes_from(part)\n",
    "        # it also imlies a number of edges:\n",
    "        G.add_edges_from(to_edges(part))\n",
    "    return G\n",
    "\n",
    "def to_edges(l):\n",
    "    \"\"\" \n",
    "        treat `l` as a Graph and returns it's edges \n",
    "        to_edges(['a','b','c','d']) -> [(a,b), (b,c),(c,d)]\n",
    "    \"\"\"\n",
    "    it = iter(l)\n",
    "    last = next(it)\n",
    "\n",
    "    for current in it:\n",
    "        yield last, current\n",
    "        last = current    \n",
    "\n",
    "G = to_graph(l)\n",
    "print(connected_components(G))"
   ]
  },
  {
   "cell_type": "code",
   "execution_count": 156,
   "metadata": {},
   "outputs": [],
   "source": [
    "data_labels = GMmodel_4s_labels\n",
    "# merge components\n",
    "for n_connection, connection in enumerate(connected_components(G)):\n",
    "    node_indices=np.array([int(node) for node in connection])\n",
    "    data_labels = np.where(np.isin(data_labels, node_indices), n_connection+np.unique(GMmodel_4s_labels).shape[0], data_labels)"
   ]
  },
  {
   "cell_type": "code",
   "execution_count": 87,
   "metadata": {},
   "outputs": [
    {
     "data": {
      "text/plain": [
       "array([182,  76, 222, ..., 222, 222, 222])"
      ]
     },
     "execution_count": 87,
     "metadata": {},
     "output_type": "execute_result"
    }
   ],
   "source": [
    "data_labels"
   ]
  },
  {
   "cell_type": "code",
   "execution_count": 105,
   "metadata": {},
   "outputs": [],
   "source": [
    "with open('{}/468202_len128_stride8_4sec_cad_ids_sum_bin.pkl'.format(data_dir), 'rb') as f:\n",
    "    seg_ids = pickle.load(f)\n",
    "seg_ObIDs = [seg.split(\"_\")[0] for seg in seg_ids] # get rid of the within-observation segment indices and create a degenerate list of observation IDs"
   ]
  },
  {
   "cell_type": "code",
   "execution_count": 123,
   "metadata": {},
   "outputs": [],
   "source": [
    "with open('{}/lightcurve1738_train70_val10_test20.pkl'.format(data_dir), 'rb') as f:\n",
    "    split_ob_ids = pickle.load(f)"
   ]
  },
  {
   "cell_type": "code",
   "execution_count": 124,
   "metadata": {
    "collapsed": true,
    "jupyter": {
     "outputs_hidden": true
    }
   },
   "outputs": [
    {
     "data": {
      "text/plain": [
       "[array(['20402-01-22-00', '20187-02-01-01', '20187-02-01-00', ...,\n",
       "        '94701-01-42-00', '30703-01-09-00', '90105-04-02-00'], dtype='<U15'),\n",
       " array(['20402-01-23-00', '40703-01-18-00', '40703-01-35-00',\n",
       "        '20402-01-39-00', '20402-01-41-03', '10408-01-14-09',\n",
       "        '10408-01-15-04', '20186-03-02-03', '40703-01-12-00',\n",
       "        '20402-01-37-01', '10408-01-08-00', '10408-01-44-00',\n",
       "        '40703-01-23-00', '20402-01-32-01', '10408-01-19-01',\n",
       "        '30402-01-12-02', '20402-01-15-00', '30402-01-12-03',\n",
       "        '30703-01-33-00', '20402-01-48-00', '20402-01-50-00',\n",
       "        '40703-01-27-00', '70702-01-17-00', '80127-05-04-00',\n",
       "        '90105-03-01-000', '93701-01-33-00', '95701-01-51-00',\n",
       "        '93411-01-01-00', '50703-01-38-02', '91701-01-14-00',\n",
       "        '70702-01-52-00', '50703-01-42-00', '90105-10-07-00',\n",
       "        '80701-01-09-01', '80701-01-20-01', '90105-06-03-02',\n",
       "        '91701-01-69-00', '60701-01-14-00', '50703-01-47-02',\n",
       "        '50703-01-03-00', '90701-01-02-00', '90105-09-02-00',\n",
       "        '60701-01-03-01', '50703-01-37-00', '80701-01-16-00',\n",
       "        '93701-01-06-00', '60701-01-18-01', '50703-01-15-02',\n",
       "        '96701-01-17-01', '90105-02-07-00', '90105-05-03-01',\n",
       "        '70703-01-01-000', '20402-01-43-00', '60701-01-10-00',\n",
       "        '96701-01-38-00', '40116-01-01-01', '30402-01-21-00',\n",
       "        '91701-01-54-01', '91701-01-01-01', '94701-01-60-01',\n",
       "        '93701-01-16-00', '50703-01-61-02', '70702-01-20-00',\n",
       "        '93701-01-04-01', '60701-01-06-00', '92702-01-01-01',\n",
       "        '20402-01-53-02', '90701-01-30-00', '80701-01-17-01',\n",
       "        '50703-01-59-00', '93411-01-03-03', '91701-01-42-00',\n",
       "        '50703-01-21-00', '70702-01-22-00', '90105-01-03-01',\n",
       "        '10408-01-18-00', '95701-01-25-01', '20186-03-01-01',\n",
       "        '50703-01-50-00', '80701-01-13-01', '30703-01-26-00',\n",
       "        '91701-01-63-00', '50125-01-01-01', '95701-01-39-00',\n",
       "        '70702-01-11-01', '40115-01-08-01', '20187-02-05-00',\n",
       "        '90024-02-41-01', '70702-01-08-01', '91701-01-56-00',\n",
       "        '40403-01-02-00', '80127-02-03-00', '90701-01-17-01',\n",
       "        '50703-01-47-03', '10258-01-07-00', '92702-01-27-00',\n",
       "        '50703-01-62-01', '90701-01-31-02', '50703-01-52-01',\n",
       "        '30703-01-41-00', '30183-02-02-00', '95701-01-45-01',\n",
       "        '30402-01-03-00', '91701-01-29-00', '70702-01-35-01',\n",
       "        '80701-01-44-02', '60702-01-01-09', '80701-01-18-00',\n",
       "        '94701-01-57-01', '96701-01-08-01', '50703-01-52-00',\n",
       "        '91701-01-51-00', '40703-01-49-01', '91701-01-50-00',\n",
       "        '30703-01-21-00', '70702-01-09-00', '92702-01-20-01',\n",
       "        '96701-01-10-00', '30703-01-23-01', '91701-01-76-01',\n",
       "        '80701-01-59-01', '80701-01-27-00', '50703-01-24-00',\n",
       "        '40703-01-44-00', '30703-01-11-00', '90701-01-20-00',\n",
       "        '40115-01-03-00', '40702-01-01-00', '10258-01-01-00',\n",
       "        '30183-02-01-01', '93701-01-43-00', '40703-01-51-02',\n",
       "        '50703-01-41-03', '94701-01-03-01', '90105-01-02-01',\n",
       "        '10263-01-01-00', '94701-01-27-00', '50703-01-04-01',\n",
       "        '40115-01-10-02', '70702-01-54-01', '60702-01-01-05',\n",
       "        '40703-01-47-00', '30183-02-02-02', '60701-01-25-00',\n",
       "        '70702-01-03-00', '95701-01-20-00', '50405-01-04-00',\n",
       "        '30703-01-17-00', '94701-01-31-00', '70702-01-06-00',\n",
       "        '80701-01-22-00', '90701-01-35-01', '50703-01-41-00',\n",
       "        '96701-01-52-01', '96701-01-08-00', '70702-01-11-00',\n",
       "        '50703-01-56-00', '90701-01-08-00', '60405-01-04-07',\n",
       "        '70702-01-04-02', '91701-01-71-01', '80188-03-01-00',\n",
       "        '50703-01-16-02', '94701-01-43-00', '60701-01-19-01',\n",
       "        '80127-04-02-00', '50703-01-37-01', '90024-02-19-00',\n",
       "        '90701-01-44-00', '90024-02-12-00', '94701-01-19-00',\n",
       "        '80701-01-11-02', '96378-01-01-01', '90105-10-04-00'], dtype='<U15'),\n",
       " array(['20402-01-30-02', '20402-01-28-00', '40703-01-22-00',\n",
       "        '40703-01-35-01', '40703-01-19-01', '20402-01-55-00',\n",
       "        '20402-01-38-00', '20402-01-57-00', '20402-01-54-00',\n",
       "        '10408-01-17-00', '10408-01-14-04', '40703-01-33-01',\n",
       "        '10408-01-14-03', '20186-03-02-04', '40703-01-38-00',\n",
       "        '10408-01-16-02', '20186-03-02-01', '40703-01-24-00',\n",
       "        '40703-01-25-00', '40703-01-26-00', '20402-01-36-01',\n",
       "        '10408-01-36-00', '10408-01-35-00', '10408-01-40-00',\n",
       "        '40703-01-23-02', '40703-01-23-01', '20402-01-31-02',\n",
       "        '30703-01-28-01', '10408-01-19-00', '10408-01-19-02',\n",
       "        '30703-01-31-00', '20402-01-26-02', '20402-01-17-00',\n",
       "        '10408-01-42-00', '20402-01-19-00', '10408-01-22-00',\n",
       "        '40703-01-20-01', '10408-01-29-00', '40703-01-20-03',\n",
       "        '20402-01-18-00', '30402-01-12-01', '10408-01-27-00',\n",
       "        '20402-01-25-00', '40703-01-15-02', '20402-01-08-00',\n",
       "        '30703-01-36-00', '40703-01-29-01', '50703-01-55-00',\n",
       "        '92702-01-07-00', '30402-01-09-00', '50703-01-12-01',\n",
       "        '50703-01-65-01', '93701-01-29-00', '91701-01-46-00',\n",
       "        '20187-02-04-00', '20187-02-03-00', '60701-01-13-01',\n",
       "        '70702-01-50-00', '91701-01-39-00', '30703-01-22-01',\n",
       "        '90701-01-09-01', '95701-01-29-00', '40703-01-40-00',\n",
       "        '93701-01-13-00', '50703-01-48-01', '60701-01-26-00',\n",
       "        '60702-01-01-13', '96701-01-33-00', '95701-01-25-00',\n",
       "        '50703-01-57-00', '50703-01-14-02', '94701-01-17-00',\n",
       "        '70702-01-14-00', '93701-01-25-00', '40403-01-09-00',\n",
       "        '40703-01-39-01', '30182-01-04-02', '92082-03-01-00',\n",
       "        '40703-01-45-01', '40703-01-16-03', '50703-01-03-02',\n",
       "        '30703-01-38-00', '60701-01-26-03', '91701-01-09-01',\n",
       "        '94701-01-16-00', '80701-01-38-02', '50703-01-07-01',\n",
       "        '93701-01-44-00', '95701-01-26-00', '91701-01-23-00',\n",
       "        '30703-01-30-00', '20186-03-03-01', '92702-01-01-00',\n",
       "        '91701-01-54-00', '90701-01-42-00', '92702-01-10-00',\n",
       "        '91701-01-36-01', '90105-03-03-01', '40115-01-06-00',\n",
       "        '20402-01-58-00', '60701-01-13-00', '80701-01-10-00',\n",
       "        '95701-01-41-00', '30183-02-01-00', '40703-01-08-01',\n",
       "        '93701-01-32-01', '80701-01-28-02', '50703-01-44-01',\n",
       "        '90701-01-29-02', '50125-01-01-02', '70702-01-13-00',\n",
       "        '60405-01-04-05', '70702-01-38-00', '30703-01-25-00',\n",
       "        '90024-02-32-00', '60701-01-21-01', '60701-01-17-01',\n",
       "        '70702-01-50-01', '70702-01-39-00', '30182-01-01-00',\n",
       "        '91701-01-74-00', '60405-01-04-04', '80701-01-03-01',\n",
       "        '94701-01-12-01', '60701-01-02-00', '70703-01-01-04',\n",
       "        '91701-01-28-01', '50125-01-01-00', '91701-01-52-02',\n",
       "        '90105-10-08-00', '50703-01-13-00', '80701-01-19-01',\n",
       "        '20402-01-30-01', '90701-01-20-01', '90701-01-14-02',\n",
       "        '92092-01-01-01', '96701-01-46-00', '70702-01-25-00',\n",
       "        '94701-01-08-00', '91701-01-76-00', '30703-01-24-00',\n",
       "        '90701-01-15-02', '60701-01-07-01', '94701-01-20-00',\n",
       "        '80701-01-28-01', '80701-01-55-01', '50703-01-42-02',\n",
       "        '10408-01-03-00', '60701-01-11-02', '80701-01-08-01',\n",
       "        '60701-01-26-02', '60702-01-01-27', '60405-01-04-01',\n",
       "        '91701-01-18-00', '92702-01-16-02', '40403-01-11-00',\n",
       "        '80701-01-57-00', '92702-01-27-02', '91701-01-73-00',\n",
       "        '95701-01-08-00', '70702-01-19-00', '91701-01-22-00',\n",
       "        '60701-01-26-01', '91701-01-51-01', '96701-01-14-01',\n",
       "        '50703-01-15-00', '80127-04-01-02', '30402-01-20-00',\n",
       "        '91701-01-11-00', '50125-01-01-03', '94701-01-47-00',\n",
       "        '40703-01-29-00', '92702-01-03-00', '92437-01-01-00',\n",
       "        '40403-01-01-00', '10258-01-03-00', '93701-01-03-01',\n",
       "        '80701-01-54-01', '40703-01-08-00', '94701-01-21-00',\n",
       "        '90105-03-02-01', '60701-01-18-02', '91701-01-70-01',\n",
       "        '90024-02-28-00', '40115-01-06-01', '92702-01-23-01',\n",
       "        '90105-01-03-00', '50703-01-17-02', '90024-02-31-00',\n",
       "        '60701-01-06-01', '92702-01-16-01', '96378-01-01-010',\n",
       "        '10408-01-22-02', '40116-01-02-05', '96701-01-43-01',\n",
       "        '60405-01-04-08', '60701-01-25-02', '90701-01-36-00',\n",
       "        '91701-01-21-01', '90105-05-03-02', '93701-01-08-01',\n",
       "        '50703-01-16-03', '50703-01-66-01', '30402-01-02-00',\n",
       "        '30183-02-02-01', '94701-01-11-00', '96701-01-07-01',\n",
       "        '40116-01-01-02', '90701-01-43-00', '50703-01-03-01',\n",
       "        '91701-01-26-00', '50703-01-38-01', '80701-01-61-02',\n",
       "        '93701-01-27-01', '40116-01-03-01', '90105-06-01-00',\n",
       "        '50703-01-54-00', '80701-01-04-00', '70703-01-01-06',\n",
       "        '60702-01-01-18', '20186-03-01-04', '94701-01-61-01',\n",
       "        '90701-01-28-00', '94701-01-01-01', '40703-01-51-00',\n",
       "        '40703-01-05-00', '80701-01-19-03', '80701-01-48-01',\n",
       "        '90701-01-10-00', '93701-01-28-00', '80701-01-10-01',\n",
       "        '92702-01-31-00', '30703-01-13-00', '80701-01-62-01',\n",
       "        '50703-01-25-00', '96701-01-27-00', '91701-01-70-00',\n",
       "        '70703-01-01-12', '50703-01-24-01', '92702-01-20-02',\n",
       "        '94701-01-51-00', '91701-01-48-00', '93701-01-19-01',\n",
       "        '30402-01-07-00', '50703-01-17-01', '94701-01-05-01',\n",
       "        '90024-02-40-01', '70702-01-12-02', '90701-01-28-01',\n",
       "        '93701-01-12-00', '30402-01-12-00', '92702-01-33-00',\n",
       "        '50703-01-43-02', '94701-01-35-00', '80701-01-59-00',\n",
       "        '90105-05-03-04', '92702-01-13-00', '92702-01-21-00',\n",
       "        '60702-01-01-08', '95701-01-22-00', '93411-01-02-02',\n",
       "        '60701-01-07-02', '91701-01-20-00', '60702-01-01-20',\n",
       "        '91701-01-16-00', '60701-01-04-00', '94701-01-59-00',\n",
       "        '94701-01-55-01', '30182-01-03-00', '50703-01-67-00',\n",
       "        '60701-01-30-00', '94701-01-10-00', '92702-01-15-00',\n",
       "        '70703-01-01-03', '40117-01-01-02', '96701-01-01-00',\n",
       "        '20186-03-02-060', '94701-01-34-01', '80701-01-38-00',\n",
       "        '70702-01-15-00', '96701-01-29-00', '93701-01-09-00',\n",
       "        '95701-01-03-00', '95701-01-23-01', '90701-01-31-00',\n",
       "        '80701-01-29-01', '50703-01-15-03', '91701-01-53-01',\n",
       "        '90024-02-18-00', '50703-01-61-00', '80701-01-56-00',\n",
       "        '70702-01-18-00', '80701-01-39-00', '30184-01-01-000',\n",
       "        '40703-01-42-02', '70702-01-03-01', '50703-01-32-00',\n",
       "        '91701-01-38-00', '95701-01-18-00', '20402-01-50-01',\n",
       "        '80701-01-09-02', '60100-01-01-01', '40703-01-43-00',\n",
       "        '50703-01-62-02', '90105-07-02-00', '90701-01-39-01',\n",
       "        '60701-01-12-02', '60701-01-11-00', '70702-01-28-00',\n",
       "        '96701-01-45-01', '90105-09-04-00', '40703-01-32-00',\n",
       "        '20402-01-02-01', '40703-01-49-00', '50703-01-50-02',\n",
       "        '50703-01-12-03', '80188-01-01-04', '94701-01-41-00',\n",
       "        '90701-01-46-00', '91701-01-80-00', '91701-01-19-00',\n",
       "        '90701-01-15-00', '30402-01-07-01', '40116-01-02-02',\n",
       "        '90701-01-33-00', '80701-01-29-02', '30182-01-02-00',\n",
       "        '91701-01-23-01', '96701-01-30-00', '50703-01-23-00',\n",
       "        '90701-01-49-00', '60701-01-21-02', '80701-01-60-02',\n",
       "        '91701-01-82-00', '60702-01-01-00', '96701-01-50-01',\n",
       "        '90701-01-07-01', '30703-01-30-01', '50703-01-45-01',\n",
       "        '60702-01-01-04', '91701-01-25-00', '50703-01-67-02',\n",
       "        '80127-05-01-00', '90024-02-07-00', '95701-01-01-00',\n",
       "        '90024-02-38-00', '50703-01-20-00', '93701-01-02-01',\n",
       "        '60702-01-01-17', '95701-01-42-00', '10408-01-38-00',\n",
       "        '60701-01-13-03', '90105-08-02-00'], dtype='<U15')]"
      ]
     },
     "execution_count": 124,
     "metadata": {},
     "output_type": "execute_result"
    }
   ],
   "source": [
    "split_ob_ids"
   ]
  },
  {
   "cell_type": "code",
   "execution_count": 138,
   "metadata": {},
   "outputs": [],
   "source": [
    "import pandas as pd\n",
    "from sklearn.metrics import precision_recall_fscore_support\n",
    "from sklearn.metrics import accuracy_score"
   ]
  },
  {
   "cell_type": "code",
   "execution_count": 157,
   "metadata": {},
   "outputs": [
    {
     "name": "stdout",
     "output_type": "stream",
     "text": [
      "1\n"
     ]
    }
   ],
   "source": [
    "reports = test_frankGMM_in_classification(data_labels, shape_moments, split_ob_ids[0], split_ob_ids[1])"
   ]
  },
  {
   "cell_type": "code",
   "execution_count": 158,
   "metadata": {},
   "outputs": [
    {
     "data": {
      "text/plain": [
       "[((0.779018005448143, 0.8793103448275862, 0.8247804302976717, None),\n",
       "  0.8793103448275862,\n",
       "  (50, None, 2, 1))]"
      ]
     },
     "execution_count": 158,
     "metadata": {},
     "output_type": "execute_result"
    }
   ],
   "source": [
    "reports"
   ]
  },
  {
   "cell_type": "code",
   "execution_count": 128,
   "metadata": {},
   "outputs": [],
   "source": [
    "from  sklearn.ensemble import RandomForestClassifier"
   ]
  },
  {
   "cell_type": "code",
   "execution_count": null,
   "metadata": {},
   "outputs": [],
   "source": [
    "RandomForestClassifier()"
   ]
  },
  {
   "cell_type": "code",
   "execution_count": 145,
   "metadata": {},
   "outputs": [],
   "source": [
    "def test_frankGMM_in_classification(data_labels, data, train_set_ids, val_set_ids):\n",
    "#     comp=GMmodel.means_.shape[0]\n",
    "    \n",
    "    # find GMM component labels for data\n",
    "    data_GMMcomp_labels = data_labels\n",
    "    \n",
    "    # make a dict that groups indices of segments of the same observation \n",
    "    # i.e. where each observation id can be found in seg_ObIDs\n",
    "    #i.e. ObID_SegIndices_dict == {'10258-01-01-00': [916, 949, 1046...467528, 467578], ....}\n",
    "    ObID_SegIndices_dict = {key:[] for key in np.unique(seg_ObIDs)}\n",
    "    for ID_index, ObID in enumerate(seg_ObIDs):\n",
    "        ObID_SegIndices_dict.setdefault(ObID, []).append(ID_index)\n",
    "    \n",
    "    # make a dictionary of Gaussian component labels instead of segment indices  \n",
    "    #i.e. ObID_GaussComps_dict_500 == {'10258-01-01-00': [401, 433, 382...101, 152], ....}\n",
    "    ObID_GaussComps_dict_comp = {}\n",
    "    for ObID, Indices in ObID_SegIndices_dict.items():\n",
    "        ObID_GaussComps_dict_comp[ObID] = [data_GMMcomp_labels[ind] for ind in Indices]\n",
    "        \n",
    "    # make a data frame containing the counts of light curve segments in each of the Gaussian components, for each observation\n",
    "    obs_component_counts_df_comp = pd.DataFrame(np.zeros((len(ObID_GaussComps_dict_comp),len(np.unique(data_GMMcomp_labels)))),\n",
    "                                               index=np.unique(seg_ObIDs), columns=np.unique(data_GMMcomp_labels), dtype=int)\n",
    "        \n",
    "    # populate the data frame\n",
    "    for ObID, GaussComps in ObID_GaussComps_dict_comp.items():\n",
    "        for comp_id, comp_count in np.array(np.unique(GaussComps, return_counts=True)).T:\n",
    "            obs_component_counts_df_comp.loc[ObID][comp_id] = comp_count\n",
    "    \n",
    "    \n",
    "    obs_component_counts_df_comp = obs_component_counts_df_comp.iloc[:,:].div(np.sum(obs_component_counts_df_comp.iloc[:,:], axis=1), axis=\"rows\") # normalise rows\n",
    "    \n",
    "    # add classification column\n",
    "    obs_component_counts_df_comp[\"Class\"] = \"Unknown\" \n",
    "    for k,v in ob_state.items():\n",
    "        if v == \"eta\": v = \"Unknown\" ##################################### remove eta classifications, there are only two in the set of 1738 observations\n",
    "        if str(k) in obs_component_counts_df_comp.index.values:\n",
    "            obs_component_counts_df_comp.loc[str(k), \"Class\"] = v\n",
    "            \n",
    "    #random forest hyperparameters\n",
    "    n_estimators_list = [50, 100, 300, 800, 1200] # 100\n",
    "    max_depth_list = [None, 5, 8, 15, 25] # None\n",
    "    min_samples_split_list = [2, 5, 10, 15] # 2\n",
    "    min_samples_leaf_list = [1, 2, 5, 10] # 1   \n",
    "            \n",
    "    reports = []\n",
    "    \n",
    "    for n_estimators in n_estimators_list:\n",
    "        for max_depth in max_depth_list:\n",
    "            for min_samples_split in min_samples_split_list:\n",
    "                for min_samples_leaf in min_samples_leaf_list:\n",
    "    \n",
    "                    RF_clf = RandomForestClassifier(random_state=0, class_weight=\"balanced\").fit(obs_component_counts_df_comp.loc[train_set_ids].iloc[:,:-1], obs_component_counts_df_comp.loc[train_set_ids].iloc[:,-1])\n",
    "                    preds = RF_clf.predict(obs_component_counts_df_comp.loc[val_set_ids].iloc[:,:-1])\n",
    "\n",
    "                    reports.append((precision_recall_fscore_support(obs_component_counts_df_comp.loc[val_set_ids].iloc[:,-1], preds, zero_division=0, average=\"weighted\"),\n",
    "                                    accuracy_score(obs_component_counts_df_comp.loc[val_set_ids].iloc[:,-1], preds),\n",
    "                                   (n_estimators,max_depth,min_samples_split,min_samples_leaf)))\n",
    "                \n",
    "                    print(len(reports))\n",
    "                    clear_output(wait=True)\n",
    "                    return reports\n",
    "            \n",
    "\n",
    "    return reports"
   ]
  },
  {
   "cell_type": "markdown",
   "metadata": {},
   "source": [
    "1 second cadence data\n",
    "validation\n",
    "f1 0.833\n",
    "accuracy 0.864\n",
    "\n",
    "test\n",
    "f1 0.822\n",
    "accuracy 0.851\n",
    "\n",
    "4 second cadence data\n",
    "valdiation\n",
    "f1 0.782\n",
    "accuracy 0.818\n",
    "\n",
    "test\n",
    "f1 0.679\n",
    "accuracy 0.702"
   ]
  },
  {
   "cell_type": "code",
   "execution_count": null,
   "metadata": {},
   "outputs": [],
   "source": []
  }
 ],
 "metadata": {
  "kernelspec": {
   "display_name": "py38",
   "language": "python",
   "name": "py38"
  },
  "language_info": {
   "codemirror_mode": {
    "name": "ipython",
    "version": 3
   },
   "file_extension": ".py",
   "mimetype": "text/x-python",
   "name": "python",
   "nbconvert_exporter": "python",
   "pygments_lexer": "ipython3",
   "version": "3.8.2"
  }
 },
 "nbformat": 4,
 "nbformat_minor": 4
}
