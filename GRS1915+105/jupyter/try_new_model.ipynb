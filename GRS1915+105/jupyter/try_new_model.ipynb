{
 "cells": [
  {
   "cell_type": "code",
   "execution_count": 1,
   "metadata": {},
   "outputs": [
    {
     "name": "stderr",
     "output_type": "stream",
     "text": [
      "/home/jkok1g14/anaconda3/envs/jakub-tf/lib/python3.5/site-packages/matplotlib/__init__.py:886: MatplotlibDeprecationWarning: \n",
      "examples.directory is deprecated; in the future, examples will be found relative to the 'datapath' directory.\n",
      "  \"found relative to the 'datapath' directory.\".format(key))\n",
      "/home/jkok1g14/anaconda3/envs/jakub-tf/lib/python3.5/site-packages/matplotlib/__init__.py:855: MatplotlibDeprecationWarning: \n",
      "examples.directory is deprecated; in the future, examples will be found relative to the 'datapath' directory.\n",
      "  \"found relative to the 'datapath' directory.\".format(key))\n",
      "/home/jkok1g14/anaconda3/envs/jakub-tf/lib/python3.5/site-packages/matplotlib/__init__.py:846: MatplotlibDeprecationWarning: \n",
      "The text.latex.unicode rcparam was deprecated in Matplotlib 2.2 and will be removed in 3.1.\n",
      "  \"2.2\", name=key, obj_type=\"rcparam\", addendum=addendum)\n"
     ]
    }
   ],
   "source": [
    "%load_ext autoreload\n",
    "%autoreload 2\n",
    "from IPython.display import clear_output\n",
    "import os\n",
    "import fnmatch\n",
    "import numpy as np\n",
    "import pickle\n",
    "import matplotlib.pyplot as plt\n",
    "import umap\n",
    "from sklearn.mixture import GaussianMixture\n",
    "from scipy import stats\n",
    "# from sklearn.cluster import OPTICS\n",
    "\n",
    "import tensorflow as tf\n",
    "from tensorflow.keras import layers\n",
    "from tensorflow.keras.backend import mean\n",
    "from tensorflow.keras.backend import square\n",
    "from tensorflow.keras.models import Sequential\n",
    "from tensorflow.keras.layers import CuDNNLSTM\n",
    "from tensorflow.keras.layers import Dense\n",
    "from tensorflow.keras.layers import RepeatVector\n",
    "from tensorflow.keras.layers import TimeDistributed\n",
    "from tensorflow.keras.callbacks import EarlyStopping\n",
    "from tensorflow.keras.callbacks import ModelCheckpoint\n",
    "from tensorflow.keras.layers import Flatten\n",
    "\n",
    "from tensorflow.keras.utils import Sequence\n",
    "from tensorflow.keras import Input\n",
    "from tensorflow.keras import Model\n",
    "# from tensorflow.keras.layers import BatchNormalization\n",
    "# from tensorflow.keras.layers import Conv1D\n",
    "from scipy.stats import zscore\n",
    "\n",
    "plt.rcParams['figure.figsize'] = (5.0, 5.0)\n",
    "plt.rcParams.update({'font.size': 12})\n",
    "plt.rcParams.update(plt.rcParamsDefault)\n",
    "\n",
    "np.random.seed(seed=11)\n",
    "\n",
    "\n",
    "cwd = os.getcwd()\n",
    "\n",
    "if cwd.split(\"/\")[1] == \"export\":\n",
    "    data_dir = \"../../../files_from_snuffy\"\n",
    "else:\n",
    "    data_dir = \"../../../data_GRS1915\"\n"
   ]
  },
  {
   "cell_type": "code",
   "execution_count": 5,
   "metadata": {},
   "outputs": [
    {
     "name": "stdout",
     "output_type": "stream",
     "text": [
      "11467 (process ID) old priority 0, new priority 5\n",
      "34190 (process ID) old priority 0, new priority 5\n",
      "37843 (process ID) old priority 0, new priority 5\n",
      "38134 (process ID) old priority 0, new priority 5\n"
     ]
    }
   ],
   "source": [
    "# !for pid in `pgrep -f jupyter`; do { renice 5 $pid; }; done"
   ]
  },
  {
   "cell_type": "code",
   "execution_count": 2,
   "metadata": {},
   "outputs": [
    {
     "name": "stdout",
     "output_type": "stream",
     "text": [
      "USER       PID %CPU %MEM    VSZ   RSS TTY      STAT START   TIME COMMAND\n",
      "jakubok  11467  0.2  0.2 998688 223760 ?       SNl  Jun16  24:17 /export/data/ja\n",
      "USER       PID %CPU %MEM    VSZ   RSS TTY      STAT START   TIME COMMAND\n",
      "jakubok  31582  0.6  0.2 865932 208852 ?       SNsl 11:25   0:10 /export/data/ja\n",
      "USER       PID %CPU %MEM    VSZ   RSS TTY      STAT START   TIME COMMAND\n",
      "jakubok  34190  0.0  0.0 185772 49328 ?        SNl  Jun15   0:01 /export/data/ja\n",
      "USER       PID %CPU %MEM    VSZ   RSS TTY      STAT START   TIME COMMAND\n",
      "jakubok  46753 41.0  0.0   4500   776 pts/35   SNs+ 11:52   0:00 /bin/sh -c for \n"
     ]
    }
   ],
   "source": [
    "# !for pid in `pgrep -f jupyter`; do { ps -u -p $pid; }; done"
   ]
  },
  {
   "cell_type": "code",
   "execution_count": null,
   "metadata": {},
   "outputs": [],
   "source": [
    "# !stat -c '%y' OPTICS_shape16_moments4_max_eps4_min_samp500_euclidean_alldata.pkl\n",
    "# 2020-06-22 01:46:51.500058368 +0100\n"
   ]
  },
  {
   "cell_type": "markdown",
   "metadata": {},
   "source": [
    "# Load the model (1s cadence, 128 point segments)"
   ]
  },
  {
   "cell_type": "code",
   "execution_count": 2,
   "metadata": {},
   "outputs": [],
   "source": [
    "weights_dir = \"../../../model_weights/model_2020-11-26_15-03-34.h5\" #exp163\n",
    "\n",
    "class Sampling(layers.Layer):\n",
    "    \"\"\"Uses (z_mean, z_log_var) to sample z, the vector encoding a digit.\n",
    "    https://www.tensorflow.org/guide/keras/custom_layers_and_models#putting_it_all_together_an_end-to-end_example\"\"\"\n",
    "    \n",
    "    def call(self, inputs):\n",
    "        z_mean, z_log_var = inputs\n",
    "        batch = tf.shape(z_mean)[0]\n",
    "        dim = tf.shape(z_mean)[1]\n",
    "        epsilon = tf.keras.backend.random_normal(shape=(batch, dim))\n",
    "        return z_mean + tf.exp(0.5 * z_log_var) * epsilon\n",
    "\n",
    "\n",
    "original_dim = 128\n",
    "intermediate_dim = 1024\n",
    "latent_dim = 16\n",
    "\n",
    "# Define encoder model.\n",
    "original_inputs = tf.keras.Input(shape=(original_dim,1), name='encoder_input')\n",
    "input_err = Input(shape=(original_dim,1))\n",
    "x = layers.CuDNNLSTM(intermediate_dim, return_sequences=False)(original_inputs)\n",
    "z_mean = layers.Dense(latent_dim, name='z_mean')(x)\n",
    "z_log_var = layers.Dense(latent_dim, name='z_log_var')(x)\n",
    "z = Sampling()((z_mean, z_log_var))\n",
    "encoder = tf.keras.Model(inputs=original_inputs, outputs=z, name='encoder')\n",
    "\n",
    "# Define decoder model.\n",
    "latent_inputs = tf.keras.Input(shape=(latent_dim,), name='z_sampling')\n",
    "x = layers.RepeatVector(original_dim)(latent_inputs)\n",
    "x = layers.CuDNNLSTM(intermediate_dim, return_sequences=True)(x)\n",
    "outputs = layers.TimeDistributed(layers.Dense(1))(x)\n",
    "decoder = tf.keras.Model(inputs=latent_inputs, outputs=outputs, name='decoder')\n",
    "\n",
    "# Define VAE model.\n",
    "outputs = decoder(z)\n",
    "vae = tf.keras.Model(inputs=[original_inputs, input_err], outputs=outputs, name='vae')\n",
    "\n",
    "vae.load_weights(weights_dir)"
   ]
  },
  {
   "cell_type": "markdown",
   "metadata": {},
   "source": [
    "# Load data (segments)"
   ]
  },
  {
   "cell_type": "code",
   "execution_count": 4,
   "metadata": {},
   "outputs": [],
   "source": [
    "# segments_dir = '../../../data_GRS1915/468202_len128_s2_4cad_counts_errorfix.pkl'\n",
    "# errors_dir = '../../../data_GRS1915/468202_len128_s2_4cad_errors_errorfix.pkl'\n",
    "segments_dir = '../../../data_GRS1915/594483_len128_stride8_1sec_cad_counts_errorfix.pkl'\n",
    "errors_dir = '../../../data_GRS1915/594483_len128_stride8_1sec_cad_errors_errorfix.pkl'\n",
    "ids_dir = '../../../data_GRS1915/594483_len128_stride8_1sec_cad_ids_errorfix.pkl'\n",
    "\n",
    "\n",
    "with open(segments_dir, 'rb') as f:\n",
    "    segments = pickle.load(f)\n",
    "with open(errors_dir, 'rb') as f:\n",
    "    errors = pickle.load(f)\n",
    "with open(ids_dir, 'rb') as f:\n",
    "    ids = pickle.load(f)\n",
    "\n",
    "\n",
    "errors = ((errors)/np.expand_dims(np.std(segments, axis=1), axis=1)).astype(np.float32)\n",
    "segments = zscore(segments, axis=1).astype(np.float32)  # standardize per segment"
   ]
  },
  {
   "cell_type": "markdown",
   "metadata": {},
   "source": [
    "# Encode the data set (shape)"
   ]
  },
  {
   "cell_type": "code",
   "execution_count": 6,
   "metadata": {},
   "outputs": [
    {
     "name": "stdout",
     "output_type": "stream",
     "text": [
      "594482\n"
     ]
    }
   ],
   "source": [
    "trained_encoder = tf.keras.Model(inputs=vae.input, outputs=[vae.get_layer(\"z_mean\").output, vae.get_layer(\"z_log_var\").output])\n",
    "segment_encoding = np.zeros((segments.shape[0], 2, 16))\n",
    "for seg_ind, seg in enumerate(segments):\n",
    "    prediction = trained_encoder.predict([np.expand_dims(seg, axis=0), np.expand_dims(errors[seg_ind], axis=0)])\n",
    "    segment_encoding[seg_ind][0] = prediction[0].flatten()\n",
    "    segment_encoding[seg_ind][1] = prediction[1].flatten()\n",
    "    print(seg_ind)\n",
    "    clear_output(wait=True)\n",
    "    "
   ]
  },
  {
   "cell_type": "code",
   "execution_count": 7,
   "metadata": {},
   "outputs": [],
   "source": [
    "segments_dir = \"/594483_len128_stride8_1sec_cad_counts_errorfix.pkl\""
   ]
  },
  {
   "cell_type": "code",
   "execution_count": 8,
   "metadata": {},
   "outputs": [
    {
     "name": "stdout",
     "output_type": "stream",
     "text": [
      "Encodings saved to:  ../../../data_GRS1915/segment_encoding_model_2020-11-26_15-03-34_segments_594483_len128_stride8_1sec_cad_counts_errorfix.pkl\n"
     ]
    }
   ],
   "source": [
    "segment_encoding_dir = '../../../data_GRS1915/segment_encoding_{}_segments_{}.pkl'.format(weights_dir.split(\"/\")[-1].split(\".\")[0], segments_dir.split(\"/\")[-1].split(\".\")[0])\n",
    "with open(segment_encoding_dir, 'wb') as f:\n",
    "    pickle.dump(segment_encoding, f)\n",
    "print(\"Encodings saved to: \", segment_encoding_dir)"
   ]
  },
  {
   "cell_type": "markdown",
   "metadata": {},
   "source": [
    "# Try reconstruction (shape)"
   ]
  },
  {
   "cell_type": "code",
   "execution_count": 14,
   "metadata": {},
   "outputs": [],
   "source": [
    "try_first_x = 1000\n",
    "reconstructions = np.zeros((try_first_x, segments.shape[1]))\n",
    "for segment_index, segment in enumerate(segments[:try_first_x]):\n",
    "    reconstructions[segment_index] = vae.predict([np.expand_dims(segment, axis=0), np.expand_dims(errors[segment_index], axis=0)]).flatten()\n",
    "    \n",
    "plot_index = np.copy(try_first_x)-1"
   ]
  },
  {
   "cell_type": "code",
   "execution_count": 8,
   "metadata": {},
   "outputs": [
    {
     "data": {
      "text/plain": [
       "(100, 128, 1)"
      ]
     },
     "execution_count": 8,
     "metadata": {},
     "output_type": "execute_result"
    }
   ],
   "source": [
    "segments[:100].shape"
   ]
  },
  {
   "cell_type": "code",
   "execution_count": 15,
   "metadata": {},
   "outputs": [],
   "source": [
    "recs = np.expand_dims(reconstructions,axis=2)"
   ]
  },
  {
   "cell_type": "code",
   "execution_count": 16,
   "metadata": {},
   "outputs": [
    {
     "data": {
      "text/plain": [
       "12.596193211314077"
      ]
     },
     "execution_count": 16,
     "metadata": {},
     "output_type": "execute_result"
    }
   ],
   "source": [
    "np.mean(np.square((segments[:1000]-recs)/errors[:1000]))"
   ]
  },
  {
   "cell_type": "code",
   "execution_count": 17,
   "metadata": {},
   "outputs": [
    {
     "data": {
      "text/plain": [
       "12.596193208301973"
      ]
     },
     "execution_count": 17,
     "metadata": {},
     "output_type": "execute_result"
    }
   ],
   "source": [
    "np.mean(np.square(segments[:1000]-recs)/np.square(errors[:1000]))"
   ]
  },
  {
   "cell_type": "code",
   "execution_count": 232,
   "metadata": {},
   "outputs": [
    {
     "data": {
      "image/png": "[encoded data removed]",
      "text/plain": [
       "<Figure size 360x180 with 1 Axes>"
      ]
     },
     "metadata": {
      "needs_background": "light"
     },
     "output_type": "display_data"
    }
   ],
   "source": [
    "plt.rcParams['figure.figsize'] = (5.0, 2.5)\n",
    "plt.rcParams.update({'font.size': 8})\n",
    "\n",
    "plt.errorbar(np.linspace(0,128, 128), segments[plot_index], yerr=errors[plot_index], ecolor=\"magenta\")\n",
    "plt.plot(np.linspace(0,128, 128), reconstructions[plot_index], color=\"orange\")\n",
    "plt.ylabel(\"Normalized count rate\", fontsize=8)\n",
    "plt.xlabel(\"Time (seconds)\", fontsize=8)\n",
    "plt.show()\n",
    "if plot_index>0:\n",
    "    plot_index-=1"
   ]
  },
  {
   "cell_type": "code",
   "execution_count": 237,
   "metadata": {},
   "outputs": [],
   "source": [
    "plt.rcParams['figure.figsize'] = (5.0, 2.5)\n",
    "plt.rcParams.update({'font.size': 8})\n",
    "\n",
    "for plot_index in range(plot_index):\n",
    "    plt.errorbar(np.linspace(0,128, 128), segments[plot_index], yerr=errors[plot_index], ecolor=\"magenta\")\n",
    "    plt.plot(np.linspace(0,128, 128), reconstructions[plot_index], color=\"orange\")\n",
    "    plt.ylabel(\"Normalized count rate\", fontsize=8)\n",
    "    plt.xlabel(\"Time (seconds)\", fontsize=8)\n",
    "\n",
    "    plt.savefig(\"figures_1s_model/{}.png\".format(ids[plot_index]), bbox_inches = 'tight',pad_inches = 0)\n",
    "    plt.close()"
   ]
  },
  {
   "cell_type": "markdown",
   "metadata": {},
   "source": [
    "# Load the model (4s cadence, 96 point segments)"
   ]
  },
  {
   "cell_type": "code",
   "execution_count": 238,
   "metadata": {},
   "outputs": [],
   "source": [
    "weights_dir = \"../../../model_weights/model_2020-11-22_07-55-14.h5\" #exp160\n",
    "\n",
    "class Sampling(layers.Layer):\n",
    "    \"\"\"Uses (z_mean, z_log_var) to sample z, the vector encoding a digit.\n",
    "    https://www.tensorflow.org/guide/keras/custom_layers_and_models#putting_it_all_together_an_end-to-end_example\"\"\"\n",
    "    \n",
    "    def call(self, inputs):\n",
    "        z_mean, z_log_var = inputs\n",
    "        batch = tf.shape(z_mean)[0]\n",
    "        dim = tf.shape(z_mean)[1]\n",
    "        epsilon = tf.keras.backend.random_normal(shape=(batch, dim))\n",
    "        return z_mean + tf.exp(0.5 * z_log_var) * epsilon\n",
    "\n",
    "\n",
    "original_dim = 96\n",
    "intermediate_dim = 1024\n",
    "latent_dim = 16\n",
    "\n",
    "# Define encoder model.\n",
    "original_inputs = tf.keras.Input(shape=(original_dim,1), name='encoder_input')\n",
    "input_err = Input(shape=(original_dim,1))\n",
    "x = layers.CuDNNLSTM(intermediate_dim, return_sequences=False)(original_inputs)\n",
    "z_mean = layers.Dense(latent_dim, name='z_mean')(x)\n",
    "z_log_var = layers.Dense(latent_dim, name='z_log_var')(x)\n",
    "z = Sampling()((z_mean, z_log_var))\n",
    "encoder = tf.keras.Model(inputs=original_inputs, outputs=z, name='encoder')\n",
    "\n",
    "# Define decoder model.\n",
    "latent_inputs = tf.keras.Input(shape=(latent_dim,), name='z_sampling')\n",
    "x = layers.RepeatVector(original_dim)(latent_inputs)\n",
    "x = layers.CuDNNLSTM(intermediate_dim, return_sequences=True)(x)\n",
    "outputs = layers.TimeDistributed(layers.Dense(1))(x)\n",
    "decoder = tf.keras.Model(inputs=latent_inputs, outputs=outputs, name='decoder')\n",
    "\n",
    "# Define VAE model.\n",
    "outputs = decoder(z)\n",
    "vae = tf.keras.Model(inputs=[original_inputs, input_err], outputs=outputs, name='vae')\n",
    "\n",
    "vae.load_weights(weights_dir)"
   ]
  },
  {
   "cell_type": "markdown",
   "metadata": {},
   "source": [
    "# Load data (segments)"
   ]
  },
  {
   "cell_type": "code",
   "execution_count": 6,
   "metadata": {},
   "outputs": [],
   "source": [
    "# segments_dir = '../../../data_GRS1915/468202_len128_s2_4cad_counts_errorfix.pkl'\n",
    "# errors_dir = '../../../data_GRS1915/468202_len128_s2_4cad_errors_errorfix.pkl'\n",
    "segments_dir = '../../../data_GRS1915/509201_len96_stride8_4sec_cad_counts_errorfix.pkl'\n",
    "errors_dir = '../../../data_GRS1915/509201_len96_stride8_4sec_cad_errors_errorfix.pkl'\n",
    "ids_dir = '../../../data_GRS1915/509201_len96_stride8_4sec_cad_ids_errorfix.pkl'\n",
    "\n",
    "\n",
    "with open(segments_dir, 'rb') as f:\n",
    "    segments = pickle.load(f)\n",
    "with open(errors_dir, 'rb') as f:\n",
    "    errors = pickle.load(f)\n",
    "with open(ids_dir, 'rb') as f:\n",
    "    ids = pickle.load(f)\n",
    "\n",
    "\n",
    "errors = ((errors)/np.expand_dims(np.std(segments, axis=1), axis=1)).astype(np.float32)\n",
    "segments = zscore(segments, axis=1).astype(np.float32)  # standardize per segment"
   ]
  },
  {
   "cell_type": "markdown",
   "metadata": {},
   "source": [
    "# Try reconstruction (shape)"
   ]
  },
  {
   "cell_type": "code",
   "execution_count": 351,
   "metadata": {},
   "outputs": [],
   "source": [
    "try_first_x = 100\n",
    "reconstructions = np.zeros((try_first_x, segments.shape[1]))\n",
    "for segment_index, segment in enumerate(segments[:try_first_x]):\n",
    "    reconstructions[segment_index] = vae.predict([np.expand_dims(segment, axis=0), np.expand_dims(errors[segment_index], axis=0)]).flatten()\n",
    "    \n",
    "plot_index = np.copy(try_first_x)-1"
   ]
  },
  {
   "cell_type": "code",
   "execution_count": 242,
   "metadata": {},
   "outputs": [
    {
     "data": {
      "text/plain": [
       "384.0"
      ]
     },
     "execution_count": 242,
     "metadata": {},
     "output_type": "execute_result"
    }
   ],
   "source": [
    "512*0.75"
   ]
  },
  {
   "cell_type": "code",
   "execution_count": 346,
   "metadata": {},
   "outputs": [
    {
     "data": {
      "image/png": "[encoded data removed]",
      "text/plain": [
       "<Figure size 360x180 with 1 Axes>"
      ]
     },
     "metadata": {
      "needs_background": "light"
     },
     "output_type": "display_data"
    }
   ],
   "source": [
    "plt.rcParams['figure.figsize'] = (5.0, 2.5)\n",
    "plt.rcParams.update({'font.size': 8})\n",
    "\n",
    "plt.errorbar(np.linspace(0,384, original_dim), segments[plot_index], yerr=errors[plot_index], ecolor=\"magenta\")\n",
    "plt.plot(np.linspace(0,384, original_dim), reconstructions[plot_index], color=\"orange\")\n",
    "plt.ylabel(\"Normalized count rate\", fontsize=8)\n",
    "plt.xlabel(\"Time (seconds)\", fontsize=8)\n",
    "plt.show()\n",
    "if plot_index>0:\n",
    "    plot_index-=1"
   ]
  },
  {
   "cell_type": "code",
   "execution_count": 352,
   "metadata": {},
   "outputs": [],
   "source": [
    "plt.rcParams['figure.figsize'] = (5.0, 2.5)\n",
    "plt.rcParams.update({'font.size': 8})\n",
    "\n",
    "for plot_index in range(plot_index):\n",
    "    plt.errorbar(np.linspace(0,384, original_dim), segments[plot_index], yerr=errors[plot_index], ecolor=\"magenta\")\n",
    "    plt.plot(np.linspace(0,384, original_dim), reconstructions[plot_index], color=\"orange\")\n",
    "    plt.ylabel(\"Normalized count rate\", fontsize=8)\n",
    "    plt.xlabel(\"Time (seconds)\", fontsize=8)\n",
    "\n",
    "    plt.savefig(\"figures_96input_model/{}.png\".format(ids[plot_index]), bbox_inches = 'tight',pad_inches = 0)\n",
    "    plt.close()"
   ]
  },
  {
   "cell_type": "markdown",
   "metadata": {},
   "source": [
    "# compare high and low cadence models in reconstruction of 128 data point segments"
   ]
  },
  {
   "cell_type": "code",
   "execution_count": 49,
   "metadata": {},
   "outputs": [],
   "source": [
    "# with open('../../data_GRS1915/468202_len128_s2_4cad_counts_errorfix.pkl', 'rb') as f:\n",
    "#     segments = pickle.load(f)\n",
    "# with open('../../data_GRS1915/468202_len128_s2_4cad_errors_errorfix.pkl', 'rb') as f:\n",
    "#     errors = pickle.load(f)\n",
    "with open('../../../data_GRS1915/468202_len128_s2_4cad_ids_errorfix.pkl', 'rb') as f:\n",
    "    ids_4s = pickle.load(f)\n",
    "\n",
    "# errors = ((errors)/np.expand_dims(np.std(segments, axis=1), axis=1)).astype(np.float32)\n",
    "# segments = zscore(segments, axis=1).astype(np.float32)  # standardize per segment\n",
    "\n",
    "\n",
    "with open('../../../data_GRS1915/468202_len128_s2_4cad_observation90-10split.pkl', 'rb') as f:\n",
    "    split_segment_indices_4s = pickle.load(f)"
   ]
  },
  {
   "cell_type": "code",
   "execution_count": 50,
   "metadata": {},
   "outputs": [],
   "source": [
    "ob_ids_4s = [x.split(\"_\")[0] for x in np.take(ids_4s, split_segment_indices_4s[1])]\n",
    "ob_ids_4s = np.unique(ob_ids_4s)"
   ]
  },
  {
   "cell_type": "code",
   "execution_count": 52,
   "metadata": {},
   "outputs": [],
   "source": [
    "with open('../../../data_GRS1915/594483_len128_stride8_1sec_cad_ids_errorfix.pkl', 'rb') as f:\n",
    "    ids_1s = pickle.load(f)\n",
    "\n",
    "with open('../../../data_GRS1915/594483_len128_stride8_1sec_cad_observation75-25split.pkl', 'rb') as f:\n",
    "    split_segment_indices_1s = pickle.load(f)"
   ]
  },
  {
   "cell_type": "code",
   "execution_count": 53,
   "metadata": {},
   "outputs": [],
   "source": [
    "ob_ids_1s = [x.split(\"_\")[0] for x in np.take(ids_1s, split_segment_indices_1s[1])]\n",
    "ob_ids_1s = np.unique(ob_ids_1s)"
   ]
  },
  {
   "cell_type": "code",
   "execution_count": 54,
   "metadata": {},
   "outputs": [],
   "source": [
    "val_obs_intersection = [x for x in ob_ids_4s if x in ob_ids_1s]"
   ]
  },
  {
   "cell_type": "markdown",
   "metadata": {},
   "source": [
    "## test models with short cadence"
   ]
  },
  {
   "cell_type": "code",
   "execution_count": 165,
   "metadata": {},
   "outputs": [],
   "source": [
    "with open('../../../data_GRS1915/594483_len128_stride8_1sec_cad_counts_errorfix.pkl', 'rb') as f:\n",
    "    segments = pickle.load(f)\n",
    "with open('../../../data_GRS1915/594483_len128_stride8_1sec_cad_errors_errorfix.pkl', 'rb') as f:\n",
    "    errors = pickle.load(f)\n",
    "    \n",
    "errors = ((errors)/np.expand_dims(np.std(segments, axis=1), axis=1)).astype(np.float32)\n",
    "segments = zscore(segments, axis=1).astype(np.float32)  # standardize per segment\n",
    "\n",
    "intersection_indices_1s = [n for n, x in enumerate(ids_1s) if x.split(\"_\")[0] in val_obs_intersection]"
   ]
  },
  {
   "cell_type": "code",
   "execution_count": 56,
   "metadata": {},
   "outputs": [],
   "source": [
    "weights_dir = \"../../../model_weights/model_2020-11-24_17-50-16.h5\" #exp160\n",
    "\n",
    "class Sampling(layers.Layer):\n",
    "    \"\"\"Uses (z_mean, z_log_var) to sample z, the vector encoding a digit.\n",
    "    https://www.tensorflow.org/guide/keras/custom_layers_and_models#putting_it_all_together_an_end-to-end_example\"\"\"\n",
    "    \n",
    "    def call(self, inputs):\n",
    "        z_mean, z_log_var = inputs\n",
    "        batch = tf.shape(z_mean)[0]\n",
    "        dim = tf.shape(z_mean)[1]\n",
    "        epsilon = tf.keras.backend.random_normal(shape=(batch, dim))\n",
    "        return z_mean + tf.exp(0.5 * z_log_var) * epsilon\n",
    "\n",
    "\n",
    "original_dim = 128\n",
    "intermediate_dim = 1024\n",
    "latent_dim = 16\n",
    "\n",
    "# Define encoder model.\n",
    "original_inputs = tf.keras.Input(shape=(original_dim,1), name='encoder_input')\n",
    "input_err = Input(shape=(original_dim,1))\n",
    "x = layers.CuDNNLSTM(intermediate_dim, return_sequences=False)(original_inputs)\n",
    "z_mean = layers.Dense(latent_dim, name='z_mean')(x)\n",
    "z_log_var = layers.Dense(latent_dim, name='z_log_var')(x)\n",
    "z = Sampling()((z_mean, z_log_var))\n",
    "encoder = tf.keras.Model(inputs=original_inputs, outputs=z, name='encoder')\n",
    "\n",
    "# Define decoder model.\n",
    "latent_inputs = tf.keras.Input(shape=(latent_dim,), name='z_sampling')\n",
    "x = layers.RepeatVector(original_dim)(latent_inputs)\n",
    "x = layers.CuDNNLSTM(intermediate_dim, return_sequences=True)(x)\n",
    "outputs = layers.TimeDistributed(layers.Dense(1))(x)\n",
    "decoder = tf.keras.Model(inputs=latent_inputs, outputs=outputs, name='decoder')\n",
    "\n",
    "# Define VAE model.\n",
    "outputs = decoder(z)\n",
    "vae = tf.keras.Model(inputs=[original_inputs, input_err], outputs=outputs, name='vae')\n",
    "\n",
    "vae.load_weights(weights_dir)"
   ]
  },
  {
   "cell_type": "code",
   "execution_count": 61,
   "metadata": {},
   "outputs": [
    {
     "name": "stdout",
     "output_type": "stream",
     "text": [
      "13268\n"
     ]
    }
   ],
   "source": [
    "intersection_indices_1s = np.array(intersection_indices_1s)\n",
    "reconstructions = np.zeros((intersection_indices_1s.shape[0], segments.shape[1]))\n",
    "for n, segment_index in enumerate(intersection_indices_1s):\n",
    "    segment = segments[segment_index]\n",
    "    error = errors[segment_index]\n",
    "    reconstructions[n] = vae.predict([np.expand_dims(segment, axis=0), np.expand_dims(error, axis=0)]).flatten()\n",
    "    print(n)\n",
    "    clear_output(wait=True)"
   ]
  },
  {
   "cell_type": "code",
   "execution_count": 71,
   "metadata": {},
   "outputs": [],
   "source": [
    "model_1s_data_1s_recos = np.copy(reconstructions)"
   ]
  },
  {
   "cell_type": "code",
   "execution_count": 159,
   "metadata": {},
   "outputs": [
    {
     "data": {
      "text/plain": [
       "0.7602026226081587"
      ]
     },
     "execution_count": 159,
     "metadata": {},
     "output_type": "execute_result"
    }
   ],
   "source": [
    "np.sqrt(np.mean((model_1s_data_1s_recos-np.squeeze(np.take(segments, intersection_indices_1s, axis=0)))**2))"
   ]
  },
  {
   "cell_type": "code",
   "execution_count": 137,
   "metadata": {},
   "outputs": [
    {
     "data": {
      "text/plain": [
       "9.66333231878369"
      ]
     },
     "execution_count": 137,
     "metadata": {},
     "output_type": "execute_result"
    }
   ],
   "source": [
    "np.mean(((model_1s_data_1s_recos-np.squeeze(np.take(segments, intersection_indices_1s, axis=0)))\\\n",
    "         /np.squeeze(np.take(errors, intersection_indices_1s, axis=0)))**2)\n"
   ]
  },
  {
   "cell_type": "code",
   "execution_count": 73,
   "metadata": {},
   "outputs": [],
   "source": [
    "weights_dir = \"../../../model_weights/model_2020-08-30_05-44-08.h5\" #exp149\n",
    "\n",
    "class Sampling(layers.Layer):\n",
    "    \"\"\"Uses (z_mean, z_log_var) to sample z, the vector encoding a digit.\n",
    "    https://www.tensorflow.org/guide/keras/custom_layers_and_models#putting_it_all_together_an_end-to-end_example\"\"\"\n",
    "    \n",
    "    def call(self, inputs):\n",
    "        z_mean, z_log_var = inputs\n",
    "        batch = tf.shape(z_mean)[0]\n",
    "        dim = tf.shape(z_mean)[1]\n",
    "        epsilon = tf.keras.backend.random_normal(shape=(batch, dim))\n",
    "        return z_mean + tf.exp(0.5 * z_log_var) * epsilon\n",
    "\n",
    "\n",
    "original_dim = 128\n",
    "intermediate_dim = 1024\n",
    "latent_dim = 16\n",
    "\n",
    "# Define encoder model.\n",
    "original_inputs = tf.keras.Input(shape=(original_dim,1), name='encoder_input')\n",
    "input_err = Input(shape=(original_dim,1))\n",
    "x = layers.CuDNNLSTM(intermediate_dim, return_sequences=False)(original_inputs)\n",
    "z_mean = layers.Dense(latent_dim, name='z_mean')(x)\n",
    "z_log_var = layers.Dense(latent_dim, name='z_log_var')(x)\n",
    "z = Sampling()((z_mean, z_log_var))\n",
    "encoder = tf.keras.Model(inputs=original_inputs, outputs=z, name='encoder')\n",
    "\n",
    "# Define decoder model.\n",
    "latent_inputs = tf.keras.Input(shape=(latent_dim,), name='z_sampling')\n",
    "x = layers.RepeatVector(original_dim)(latent_inputs)\n",
    "x = layers.CuDNNLSTM(intermediate_dim, return_sequences=True)(x)\n",
    "outputs = layers.TimeDistributed(layers.Dense(1))(x)\n",
    "decoder = tf.keras.Model(inputs=latent_inputs, outputs=outputs, name='decoder')\n",
    "\n",
    "# Define VAE model.\n",
    "outputs = decoder(z)\n",
    "vae = tf.keras.Model(inputs=[original_inputs, input_err], outputs=outputs, name='vae')\n",
    "\n",
    "vae.load_weights(weights_dir)"
   ]
  },
  {
   "cell_type": "code",
   "execution_count": 74,
   "metadata": {},
   "outputs": [
    {
     "name": "stdout",
     "output_type": "stream",
     "text": [
      "13268\n"
     ]
    }
   ],
   "source": [
    "intersection_indices_1s = np.array(intersection_indices_1s)\n",
    "reconstructions = np.zeros((intersection_indices_1s.shape[0], segments.shape[1]))\n",
    "for n, segment_index in enumerate(intersection_indices_1s):\n",
    "    segment = segments[segment_index]\n",
    "    error = errors[segment_index]\n",
    "    reconstructions[n] = vae.predict([np.expand_dims(segment, axis=0), np.expand_dims(error, axis=0)]).flatten()\n",
    "    print(n)\n",
    "    clear_output(wait=True)"
   ]
  },
  {
   "cell_type": "code",
   "execution_count": 75,
   "metadata": {},
   "outputs": [],
   "source": [
    "model_4s_data_1s_recos = np.copy(reconstructions)"
   ]
  },
  {
   "cell_type": "code",
   "execution_count": 76,
   "metadata": {},
   "outputs": [
    {
     "data": {
      "text/plain": [
       "0.7734437246390916"
      ]
     },
     "execution_count": 76,
     "metadata": {},
     "output_type": "execute_result"
    }
   ],
   "source": [
    "np.sqrt(np.mean((model_4s_data_1s_recos-np.squeeze(np.take(segments, intersection_indices_1s, axis=0)))**2))"
   ]
  },
  {
   "cell_type": "code",
   "execution_count": 136,
   "metadata": {},
   "outputs": [
    {
     "data": {
      "text/plain": [
       "13.51005910826197"
      ]
     },
     "execution_count": 136,
     "metadata": {},
     "output_type": "execute_result"
    }
   ],
   "source": [
    "np.mean(((model_4s_data_1s_recos-np.squeeze(np.take(segments, intersection_indices_1s, axis=0)))\\\n",
    "         /np.squeeze(np.take(errors, intersection_indices_1s, axis=0)))**2)\n"
   ]
  },
  {
   "cell_type": "code",
   "execution_count": 168,
   "metadata": {},
   "outputs": [],
   "source": [
    "plt.rcParams['figure.figsize'] = (10.0, 5)\n",
    "plt.rcParams.update({'font.size': 8})\n",
    "\n",
    "for n in range(200):\n",
    "    plot_index= intersection_indices_1s[n]\n",
    "    plt.errorbar(np.linspace(0,128, original_dim), segments[plot_index], yerr=errors[plot_index],color=\"orange\", ecolor=\"grey\", zorder=1)\n",
    "    plt.plot(np.linspace(0,128, original_dim), model_1s_data_1s_recos[n], color=\"magenta\", label=\"1s model\", zorder =4, linestyle=\"-\")\n",
    "    plt.plot(np.linspace(0,128, original_dim), model_4s_data_1s_recos[n], color=\"black\", label=\"4s model\", zorder=5)\n",
    "    model_1s_chi2 = np.mean(((model_1s_data_1s_recos[n]-np.squeeze(segments[plot_index]))/np.squeeze(errors[plot_index]))**2)\n",
    "    model_4s_chi2 = np.mean(((model_4s_data_1s_recos[n]-np.squeeze(segments[plot_index]))/np.squeeze(errors[plot_index]))**2)\n",
    "\n",
    "    axes = plt.gca()\n",
    "    axes.text(0.3,0.99,r\"${}$\".format(model_1s_chi2), ha='right', va='top', transform=axes.transAxes, size=8, color=\"magenta\")\n",
    "    axes.text(0.3,0.95,r\"${}$\".format(model_4s_chi2), ha='right', va='top', transform=axes.transAxes, size=8, color=\"black\")\n",
    "\n",
    "    plt.legend(loc='upper right')\n",
    "    plt.ylabel(\"Normalized count rate\", fontsize=8)\n",
    "    plt.xlabel(\"Time (seconds)\", fontsize=8)\n",
    "    plt.savefig(\"figures_1s_cad/{}.png\".format(ids_1s[plot_index]), bbox_inches = 'tight',pad_inches = 0)\n",
    "    plt.close()\n",
    "# plt.show()"
   ]
  },
  {
   "cell_type": "markdown",
   "metadata": {},
   "source": [
    "## test models with long cadence"
   ]
  },
  {
   "cell_type": "code",
   "execution_count": 171,
   "metadata": {},
   "outputs": [],
   "source": [
    "with open('../../../data_GRS1915/468202_len128_s2_4cad_counts_errorfix.pkl', 'rb') as f:\n",
    "    segments = pickle.load(f)\n",
    "with open('../../../data_GRS1915/468202_len128_s2_4cad_errors_errorfix.pkl', 'rb') as f:\n",
    "    errors = pickle.load(f)\n",
    "\n",
    "errors = ((errors)/np.expand_dims(np.std(segments, axis=1), axis=1)).astype(np.float32)\n",
    "segments = zscore(segments, axis=1).astype(np.float32)  # standardize per segment\n",
    "\n",
    "with open('../../../data_GRS1915/468202_len128_s2_4cad_ids_errorfix.pkl', 'rb') as f:\n",
    "    ids_4s = pickle.load(f)\n",
    "\n",
    "\n",
    "with open('../../../data_GRS1915/468202_len128_s2_4cad_observation90-10split.pkl', 'rb') as f:\n",
    "    split_segment_indices_4s = pickle.load(f)\n",
    "\n",
    "intersection_indices_4s = [n for n, x in enumerate(ids_4s) if x.split(\"_\")[0] in val_obs_intersection]"
   ]
  },
  {
   "cell_type": "code",
   "execution_count": 140,
   "metadata": {},
   "outputs": [],
   "source": [
    "weights_dir = \"../../../model_weights/model_2020-11-24_17-50-16.h5\" #exp160\n",
    "\n",
    "class Sampling(layers.Layer):\n",
    "    \"\"\"Uses (z_mean, z_log_var) to sample z, the vector encoding a digit.\n",
    "    https://www.tensorflow.org/guide/keras/custom_layers_and_models#putting_it_all_together_an_end-to-end_example\"\"\"\n",
    "    \n",
    "    def call(self, inputs):\n",
    "        z_mean, z_log_var = inputs\n",
    "        batch = tf.shape(z_mean)[0]\n",
    "        dim = tf.shape(z_mean)[1]\n",
    "        epsilon = tf.keras.backend.random_normal(shape=(batch, dim))\n",
    "        return z_mean + tf.exp(0.5 * z_log_var) * epsilon\n",
    "\n",
    "\n",
    "original_dim = 128\n",
    "intermediate_dim = 1024\n",
    "latent_dim = 16\n",
    "\n",
    "# Define encoder model.\n",
    "original_inputs = tf.keras.Input(shape=(original_dim,1), name='encoder_input')\n",
    "input_err = Input(shape=(original_dim,1))\n",
    "x = layers.CuDNNLSTM(intermediate_dim, return_sequences=False)(original_inputs)\n",
    "z_mean = layers.Dense(latent_dim, name='z_mean')(x)\n",
    "z_log_var = layers.Dense(latent_dim, name='z_log_var')(x)\n",
    "z = Sampling()((z_mean, z_log_var))\n",
    "encoder = tf.keras.Model(inputs=original_inputs, outputs=z, name='encoder')\n",
    "\n",
    "# Define decoder model.\n",
    "latent_inputs = tf.keras.Input(shape=(latent_dim,), name='z_sampling')\n",
    "x = layers.RepeatVector(original_dim)(latent_inputs)\n",
    "x = layers.CuDNNLSTM(intermediate_dim, return_sequences=True)(x)\n",
    "outputs = layers.TimeDistributed(layers.Dense(1))(x)\n",
    "decoder = tf.keras.Model(inputs=latent_inputs, outputs=outputs, name='decoder')\n",
    "\n",
    "# Define VAE model.\n",
    "outputs = decoder(z)\n",
    "vae = tf.keras.Model(inputs=[original_inputs, input_err], outputs=outputs, name='vae')\n",
    "\n",
    "vae.load_weights(weights_dir)"
   ]
  },
  {
   "cell_type": "code",
   "execution_count": 142,
   "metadata": {},
   "outputs": [
    {
     "name": "stdout",
     "output_type": "stream",
     "text": [
      "10417\n"
     ]
    }
   ],
   "source": [
    "intersection_indices_4s = np.array(intersection_indices_4s)\n",
    "reconstructions = np.zeros((intersection_indices_4s.shape[0], segments.shape[1]))\n",
    "for n, segment_index in enumerate(intersection_indices_4s):\n",
    "    segment = segments[segment_index]\n",
    "    error = errors[segment_index]\n",
    "    reconstructions[n] = vae.predict([np.expand_dims(segment, axis=0), np.expand_dims(error, axis=0)]).flatten()\n",
    "    print(n)\n",
    "    clear_output(wait=True)"
   ]
  },
  {
   "cell_type": "code",
   "execution_count": 144,
   "metadata": {},
   "outputs": [],
   "source": [
    "model_1s_data_4s_recos = np.copy(reconstructions)"
   ]
  },
  {
   "cell_type": "code",
   "execution_count": 145,
   "metadata": {},
   "outputs": [
    {
     "data": {
      "text/plain": [
       "0.7669494854828038"
      ]
     },
     "execution_count": 145,
     "metadata": {},
     "output_type": "execute_result"
    }
   ],
   "source": [
    "np.sqrt(np.mean((model_1s_data_4s_recos-np.squeeze(np.take(segments, intersection_indices_4s, axis=0)))**2))"
   ]
  },
  {
   "cell_type": "code",
   "execution_count": 146,
   "metadata": {},
   "outputs": [
    {
     "data": {
      "text/plain": [
       "81.34643392405323"
      ]
     },
     "execution_count": 146,
     "metadata": {},
     "output_type": "execute_result"
    }
   ],
   "source": [
    "np.mean(((model_1s_data_4s_recos-np.squeeze(np.take(segments, intersection_indices_4s, axis=0)))\\\n",
    "         /np.squeeze(np.take(errors, intersection_indices_4s, axis=0)))**2)\n"
   ]
  },
  {
   "cell_type": "code",
   "execution_count": 147,
   "metadata": {},
   "outputs": [],
   "source": [
    "weights_dir = \"../../../model_weights/model_2020-08-30_05-44-08.h5\" #exp149\n",
    "\n",
    "class Sampling(layers.Layer):\n",
    "    \"\"\"Uses (z_mean, z_log_var) to sample z, the vector encoding a digit.\n",
    "    https://www.tensorflow.org/guide/keras/custom_layers_and_models#putting_it_all_together_an_end-to-end_example\"\"\"\n",
    "    \n",
    "    def call(self, inputs):\n",
    "        z_mean, z_log_var = inputs\n",
    "        batch = tf.shape(z_mean)[0]\n",
    "        dim = tf.shape(z_mean)[1]\n",
    "        epsilon = tf.keras.backend.random_normal(shape=(batch, dim))\n",
    "        return z_mean + tf.exp(0.5 * z_log_var) * epsilon\n",
    "\n",
    "\n",
    "original_dim = 128\n",
    "intermediate_dim = 1024\n",
    "latent_dim = 16\n",
    "\n",
    "# Define encoder model.\n",
    "original_inputs = tf.keras.Input(shape=(original_dim,1), name='encoder_input')\n",
    "input_err = Input(shape=(original_dim,1))\n",
    "x = layers.CuDNNLSTM(intermediate_dim, return_sequences=False)(original_inputs)\n",
    "z_mean = layers.Dense(latent_dim, name='z_mean')(x)\n",
    "z_log_var = layers.Dense(latent_dim, name='z_log_var')(x)\n",
    "z = Sampling()((z_mean, z_log_var))\n",
    "encoder = tf.keras.Model(inputs=original_inputs, outputs=z, name='encoder')\n",
    "\n",
    "# Define decoder model.\n",
    "latent_inputs = tf.keras.Input(shape=(latent_dim,), name='z_sampling')\n",
    "x = layers.RepeatVector(original_dim)(latent_inputs)\n",
    "x = layers.CuDNNLSTM(intermediate_dim, return_sequences=True)(x)\n",
    "outputs = layers.TimeDistributed(layers.Dense(1))(x)\n",
    "decoder = tf.keras.Model(inputs=latent_inputs, outputs=outputs, name='decoder')\n",
    "\n",
    "# Define VAE model.\n",
    "outputs = decoder(z)\n",
    "vae = tf.keras.Model(inputs=[original_inputs, input_err], outputs=outputs, name='vae')\n",
    "\n",
    "vae.load_weights(weights_dir)"
   ]
  },
  {
   "cell_type": "code",
   "execution_count": 148,
   "metadata": {},
   "outputs": [
    {
     "name": "stdout",
     "output_type": "stream",
     "text": [
      "10417\n"
     ]
    }
   ],
   "source": [
    "intersection_indices_4s = np.array(intersection_indices_4s)\n",
    "reconstructions = np.zeros((intersection_indices_4s.shape[0], segments.shape[1]))\n",
    "for n, segment_index in enumerate(intersection_indices_4s):\n",
    "    segment = segments[segment_index]\n",
    "    error = errors[segment_index]\n",
    "    reconstructions[n] = vae.predict([np.expand_dims(segment, axis=0), np.expand_dims(error, axis=0)]).flatten()\n",
    "    print(n)\n",
    "    clear_output(wait=True)"
   ]
  },
  {
   "cell_type": "code",
   "execution_count": 149,
   "metadata": {},
   "outputs": [],
   "source": [
    "model_4s_data_4s_recos = np.copy(reconstructions)"
   ]
  },
  {
   "cell_type": "code",
   "execution_count": 150,
   "metadata": {},
   "outputs": [
    {
     "data": {
      "text/plain": [
       "0.7506812365442121"
      ]
     },
     "execution_count": 150,
     "metadata": {},
     "output_type": "execute_result"
    }
   ],
   "source": [
    "np.sqrt(np.mean((model_4s_data_4s_recos-np.squeeze(np.take(segments, intersection_indices_4s, axis=0)))**2))"
   ]
  },
  {
   "cell_type": "code",
   "execution_count": 151,
   "metadata": {},
   "outputs": [
    {
     "data": {
      "text/plain": [
       "46.42091874090363"
      ]
     },
     "execution_count": 151,
     "metadata": {},
     "output_type": "execute_result"
    }
   ],
   "source": [
    "np.mean(((model_4s_data_4s_recos-np.squeeze(np.take(segments, intersection_indices_4s, axis=0)))\\\n",
    "         /np.squeeze(np.take(errors, intersection_indices_4s, axis=0)))**2)\n"
   ]
  },
  {
   "cell_type": "code",
   "execution_count": 174,
   "metadata": {},
   "outputs": [
    {
     "data": {
      "image/png": "[encoded data removed]",
      "text/plain": [
       "<Figure size 720x360 with 1 Axes>"
      ]
     },
     "metadata": {
      "needs_background": "light"
     },
     "output_type": "display_data"
    }
   ],
   "source": [
    "plt.rcParams['figure.figsize'] = (10.0, 5)\n",
    "plt.rcParams.update({'font.size': 8})\n",
    "\n",
    "n = 3341\n",
    "plot_index= intersection_indices_4s[n]\n",
    "plt.errorbar(np.linspace(0,384, original_dim), segments[plot_index], yerr=errors[plot_index],color=\"orange\", ecolor=\"grey\", zorder=1)\n",
    "plt.plot(np.linspace(0,384, original_dim), model_1s_data_4s_recos[n], color=\"magenta\", label=\"1s model\", zorder =4, linestyle=\"-\")\n",
    "plt.plot(np.linspace(0,384, original_dim), model_4s_data_4s_recos[n], color=\"black\", label=\"4s model\", zorder=5)\n",
    "model_1s_chi2 = np.mean(((model_1s_data_4s_recos[n]-np.squeeze(segments[plot_index]))/np.squeeze(errors[plot_index]))**2)\n",
    "model_4s_chi2 = np.mean(((model_4s_data_4s_recos[n]-np.squeeze(segments[plot_index]))/np.squeeze(errors[plot_index]))**2)\n",
    "\n",
    "axes = plt.gca()\n",
    "axes.text(0.3,0.99,r\"${}$\".format(model_1s_chi2), ha='right', va='top', transform=axes.transAxes, size=8, color=\"magenta\")\n",
    "axes.text(0.3,0.95,r\"${}$\".format(model_4s_chi2), ha='right', va='top', transform=axes.transAxes, size=8, color=\"black\")\n",
    "\n",
    "plt.legend(loc='upper right')\n",
    "plt.ylabel(\"Normalized count rate\", fontsize=8)\n",
    "plt.xlabel(\"Time (seconds)\", fontsize=8)\n",
    "plt.show()"
   ]
  },
  {
   "cell_type": "code",
   "execution_count": 175,
   "metadata": {},
   "outputs": [],
   "source": [
    "plt.rcParams['figure.figsize'] = (10.0, 5)\n",
    "plt.rcParams.update({'font.size': 8})\n",
    "\n",
    "for n in range(200):\n",
    "    plot_index= intersection_indices_4s[n]\n",
    "    plt.errorbar(np.linspace(0,512, original_dim), segments[plot_index], yerr=errors[plot_index],color=\"orange\", ecolor=\"grey\", zorder=1)\n",
    "    plt.plot(np.linspace(0,512, original_dim), model_1s_data_4s_recos[n], color=\"magenta\", label=\"1s model\", zorder =4, linestyle=\"-\")\n",
    "    plt.plot(np.linspace(0,512, original_dim), model_4s_data_4s_recos[n], color=\"black\", label=\"4s model\", zorder=5)\n",
    "    model_1s_chi2 = np.mean(((model_1s_data_4s_recos[n]-np.squeeze(segments[plot_index]))/np.squeeze(errors[plot_index]))**2)\n",
    "    model_4s_chi2 = np.mean(((model_4s_data_4s_recos[n]-np.squeeze(segments[plot_index]))/np.squeeze(errors[plot_index]))**2)\n",
    "\n",
    "    axes = plt.gca()\n",
    "    axes.text(0.3,0.99,r\"${}$\".format(model_1s_chi2), ha='right', va='top', transform=axes.transAxes, size=8, color=\"magenta\")\n",
    "    axes.text(0.3,0.95,r\"${}$\".format(model_4s_chi2), ha='right', va='top', transform=axes.transAxes, size=8, color=\"black\")\n",
    "\n",
    "    plt.legend(loc='upper right')\n",
    "    plt.ylabel(\"Normalized count rate\", fontsize=8)\n",
    "    plt.xlabel(\"Time (seconds)\", fontsize=8)\n",
    "    plt.savefig(\"figures_4s_cad/{}.png\".format(ids_4s[plot_index]), bbox_inches = 'tight',pad_inches = 0)\n",
    "    plt.close()\n",
    "# plt.show()"
   ]
  },
  {
   "cell_type": "code",
   "execution_count": null,
   "metadata": {},
   "outputs": [],
   "source": []
  },
  {
   "cell_type": "code",
   "execution_count": null,
   "metadata": {},
   "outputs": [],
   "source": []
  },
  {
   "cell_type": "code",
   "execution_count": null,
   "metadata": {},
   "outputs": [],
   "source": []
  },
  {
   "cell_type": "code",
   "execution_count": null,
   "metadata": {},
   "outputs": [],
   "source": []
  },
  {
   "cell_type": "code",
   "execution_count": 176,
   "metadata": {},
   "outputs": [],
   "source": [
    "segments_dir = '{}/468202_len128_s2_4cad_counts_errorfix.pkl'.format(data_dir)\n",
    "errors_dir = '{}/468202_len128_s2_4cad_errors_errorfix.pkl'.format(data_dir)\n",
    "recos_dir = \"{}/reconstructions_from_model_2020-08-30_11-42-38.pkl\".format(data_dir)\n",
    "ids_dir = '{}/468202_len128_s2_4cad_ids_errorfix.pkl'.format(data_dir)\n",
    "\n",
    "with open(segments_dir, 'rb') as f:\n",
    "    segments_old = pickle.load(f)\n",
    "with open(errors_dir, 'rb') as f:\n",
    "    errors_old = pickle.load(f)\n",
    "with open(ids_dir, 'rb') as f:\n",
    "    ids_old = pickle.load(f)\n",
    "with open(recos_dir, 'rb') as f:\n",
    "    recos_old = pickle.load(f)\n",
    "\n",
    "\n",
    "recos_old= recos_old*np.std(segments_old, axis=1) + np.mean(segments_old, axis=1)"
   ]
  },
  {
   "cell_type": "code",
   "execution_count": 179,
   "metadata": {},
   "outputs": [
    {
     "data": {
      "text/plain": [
       "array(['50703-01-20-02_70', '10408-01-12-00_237', '10408-01-16-00_209',\n",
       "       ..., '40116-01-02-03_197', '50703-01-14-02_92',\n",
       "       '80701-01-34-00_118'], dtype='<U20')"
      ]
     },
     "execution_count": 179,
     "metadata": {},
     "output_type": "execute_result"
    }
   ],
   "source": [
    "np.take(ids_old, intersection_indices_4s)"
   ]
  },
  {
   "cell_type": "code",
   "execution_count": 181,
   "metadata": {},
   "outputs": [
    {
     "data": {
      "text/plain": [
       "array(['10258-01-03-00', '10408-01-12-00', '10408-01-15-04',\n",
       "       '10408-01-16-00', '10408-01-16-04', '10408-01-21-01',\n",
       "       '10408-01-28-00', '10408-01-30-00', '10408-01-32-00',\n",
       "       '10408-01-44-00', '20186-03-01-00', '20186-03-02-000',\n",
       "       '20186-03-02-04', '20402-01-19-00', '20402-01-24-00',\n",
       "       '20402-01-42-00', '20402-01-45-01', '20402-01-52-01',\n",
       "       '20402-01-59-00', '30183-02-02-00', '30184-01-01-00',\n",
       "       '30402-01-02-00', '30402-01-03-00', '30402-01-12-00',\n",
       "       '30402-01-17-00', '30703-01-05-00', '30703-01-14-00',\n",
       "       '30703-01-19-00', '30703-01-22-01', '30703-01-24-00',\n",
       "       '30703-01-40-00', '30703-01-40-01', '40116-01-02-03',\n",
       "       '40116-01-03-00', '40116-01-07-01', '40403-01-05-02',\n",
       "       '40403-01-06-01', '40403-01-08-00', '40702-01-01-00',\n",
       "       '40703-01-08-00', '40703-01-14-01', '40703-01-29-00',\n",
       "       '40703-01-34-02', '40703-01-36-02', '40703-01-44-03',\n",
       "       '40703-01-51-01', '50125-01-01-01', '50125-01-02-02',\n",
       "       '50405-01-02-02', '50703-01-04-01', '50703-01-05-01',\n",
       "       '50703-01-08-01', '50703-01-14-02', '50703-01-17-00',\n",
       "       '50703-01-18-01', '50703-01-20-02', '50703-01-28-00',\n",
       "       '50703-01-31-00', '50703-01-33-00', '50703-01-41-01',\n",
       "       '50703-01-43-00', '50703-01-44-01', '50703-01-45-01',\n",
       "       '50703-01-46-01', '50703-01-46-02', '50703-01-58-01',\n",
       "       '60701-01-02-00', '60701-01-03-01', '60701-01-08-00',\n",
       "       '60701-01-12-03', '60701-01-13-00', '60701-01-18-00',\n",
       "       '60701-01-30-00', '60702-01-01-08', '60702-01-01-17',\n",
       "       '70702-01-20-00', '70702-01-21-00', '70702-01-25-00',\n",
       "       '70702-01-36-01', '70702-01-41-01', '70702-01-42-00',\n",
       "       '70702-01-45-01', '70702-01-48-01', '70702-01-49-00',\n",
       "       '70703-01-01-000', '80127-02-02-00', '80127-04-02-00',\n",
       "       '80127-05-03-00', '80127-05-05-02', '80127-05-06-00',\n",
       "       '80188-01-01-02', '80701-01-04-00', '80701-01-07-00',\n",
       "       '80701-01-10-00', '80701-01-11-01', '80701-01-11-02',\n",
       "       '80701-01-17-02', '80701-01-20-00', '80701-01-28-02',\n",
       "       '80701-01-31-00', '80701-01-34-00', '80701-01-44-02',\n",
       "       '80701-01-55-00', '80701-01-58-00', '90024-02-01-00',\n",
       "       '90024-02-06-00', '90024-02-32-00', '90105-02-01-02',\n",
       "       '90105-02-05-00', '90105-04-01-00', '90105-05-02-00',\n",
       "       '90105-09-07-00', '90701-01-05-00', '90701-01-12-00',\n",
       "       '90701-01-14-01', '90701-01-20-01', '90701-01-29-02',\n",
       "       '90701-01-35-00', '90701-01-38-00', '91701-01-02-02',\n",
       "       '91701-01-09-01', '91701-01-14-01', '91701-01-27-00',\n",
       "       '91701-01-34-00', '91701-01-43-01', '91701-01-49-00',\n",
       "       '91701-01-52-01', '91701-01-53-01', '91701-01-70-00',\n",
       "       '91701-01-70-01', '91701-01-76-01', '91701-01-85-00',\n",
       "       '92092-01-01-01', '92702-01-08-01', '92702-01-14-00',\n",
       "       '92702-01-15-02', '92702-01-17-00', '92702-01-18-01',\n",
       "       '92702-01-24-00', '92702-01-24-01', '93411-01-03-02',\n",
       "       '93701-01-01-00', '93701-01-11-02', '93701-01-25-01',\n",
       "       '93701-01-27-00', '93701-01-27-01', '93701-01-34-00',\n",
       "       '93701-01-41-01', '94701-01-03-00', '94701-01-12-00',\n",
       "       '94701-01-25-00', '94701-01-49-00', '95701-01-04-00',\n",
       "       '95701-01-23-01', '95701-01-28-00', '95701-01-30-00',\n",
       "       '95701-01-41-00', '95701-01-45-00', '95701-01-50-00',\n",
       "       '96378-01-01-00', '96701-01-04-00', '96701-01-09-01',\n",
       "       '96701-01-11-00', '96701-01-14-00', '96701-01-17-01',\n",
       "       '96701-01-26-00', '96701-01-49-00', '96701-01-52-01'], dtype='<U15')"
      ]
     },
     "execution_count": 181,
     "metadata": {},
     "output_type": "execute_result"
    }
   ],
   "source": [
    "ob_ids_4s"
   ]
  },
  {
   "cell_type": "markdown",
   "metadata": {},
   "source": [
    "# Try GMM centroid reconstructions with 4s 128p model"
   ]
  },
  {
   "cell_type": "code",
   "execution_count": 2,
   "metadata": {},
   "outputs": [],
   "source": [
    "weights_dir = \"../../../model_weights/model_2020-08-30_05-44-08.h5\" #exp149\n",
    "\n",
    "class Sampling(layers.Layer):\n",
    "    \"\"\"Uses (z_mean, z_log_var) to sample z, the vector encoding a digit.\n",
    "    https://www.tensorflow.org/guide/keras/custom_layers_and_models#putting_it_all_together_an_end-to-end_example\"\"\"\n",
    "    \n",
    "    def call(self, inputs):\n",
    "        z_mean, z_log_var = inputs\n",
    "        batch = tf.shape(z_mean)[0]\n",
    "        dim = tf.shape(z_mean)[1]\n",
    "        epsilon = tf.keras.backend.random_normal(shape=(batch, dim))\n",
    "        return z_mean + tf.exp(0.5 * z_log_var) * epsilon\n",
    "\n",
    "\n",
    "original_dim = 128\n",
    "intermediate_dim = 1024\n",
    "latent_dim = 16\n",
    "\n",
    "# Define encoder model.\n",
    "original_inputs = tf.keras.Input(shape=(original_dim,1), name='encoder_input')\n",
    "input_err = Input(shape=(original_dim,1))\n",
    "x = layers.CuDNNLSTM(intermediate_dim, return_sequences=False)(original_inputs)\n",
    "z_mean = layers.Dense(latent_dim, name='z_mean')(x)\n",
    "z_log_var = layers.Dense(latent_dim, name='z_log_var')(x)\n",
    "z = Sampling()((z_mean, z_log_var))\n",
    "encoder = tf.keras.Model(inputs=original_inputs, outputs=z, name='encoder')\n",
    "\n",
    "# Define decoder model.\n",
    "latent_inputs = tf.keras.Input(shape=(latent_dim,), name='z_sampling')\n",
    "x = layers.RepeatVector(original_dim)(latent_inputs)\n",
    "x = layers.CuDNNLSTM(intermediate_dim, return_sequences=True)(x)\n",
    "outputs = layers.TimeDistributed(layers.Dense(1))(x)\n",
    "decoder = tf.keras.Model(inputs=latent_inputs, outputs=outputs, name='decoder')\n",
    "\n",
    "# Define VAE model.\n",
    "outputs = decoder(z)\n",
    "vae = tf.keras.Model(inputs=[original_inputs, input_err], outputs=outputs, name='vae')\n",
    "\n",
    "vae.load_weights(weights_dir)"
   ]
  },
  {
   "cell_type": "markdown",
   "metadata": {},
   "source": [
    "# Load data (segments)"
   ]
  },
  {
   "cell_type": "code",
   "execution_count": 2,
   "metadata": {},
   "outputs": [],
   "source": [
    "GMmeans_dir = \"{}/GMM_122comp_20d_alldata_model_2020-08-30_11-42-38_means.pkl\".format(data_dir)\n",
    "with open(GMmeans_dir, 'rb') as f:\n",
    "    GMM_means = pickle.load(f)\n",
    "    \n",
    "GMcovs_dir = \"{}/GMM_122comp_20d_alldata_model_2020-08-30_11-42-38_covariances.pkl\".format(data_dir)\n",
    "with open(GMcovs_dir, 'rb') as f:\n",
    "    GMM_covariances = pickle.load(f)"
   ]
  },
  {
   "cell_type": "markdown",
   "metadata": {},
   "source": [
    "# Try reconstruction (shape)"
   ]
  },
  {
   "cell_type": "code",
   "execution_count": 8,
   "metadata": {},
   "outputs": [
    {
     "name": "stdout",
     "output_type": "stream",
     "text": [
      "121\n"
     ]
    }
   ],
   "source": [
    "trained_decoder = tf.keras.Model(inputs=vae.get_layer(\"decoder\").input, outputs=vae.get_layer(\"decoder\").output)\n",
    "generated_samples = np.zeros((122, 128))\n",
    "for n_component, component_point in enumerate(GMM_means):\n",
    "    prediction = trained_decoder.predict(np.expand_dims(component_point[:16], axis=0))\n",
    "    generated_samples[n_component, :] = prediction.flatten()\n",
    "\n",
    "    print(n_component)\n",
    "    clear_output(wait=True)\n"
   ]
  },
  {
   "cell_type": "code",
   "execution_count": 194,
   "metadata": {},
   "outputs": [],
   "source": [
    "plot_index=121"
   ]
  },
  {
   "cell_type": "code",
   "execution_count": 56,
   "metadata": {},
   "outputs": [],
   "source": [
    "periodic_flare = [6,10,16,21,22,24,37,38,41,45,56,57,59,63,79,81,82,83,90,94,96,105,108,115,119,121]# periodic flare\n",
    "mid_random = [0,32,40,50,60,73,100,103,110,113,118]# mid random\n",
    "low_random = [1,2,4,5,7,12,14,18,27, 30,31,47,49,51,54,67,71,76,80,99,106,109]# low random\n",
    "positive_gradient = [8,11, 52,66,68,117]# +ve gradient\n",
    "square_wave = [43,88,89,98,114]# square wave"
   ]
  },
  {
   "cell_type": "code",
   "execution_count": 248,
   "metadata": {},
   "outputs": [
    {
     "data": {
      "image/png": "[encoded data removed]",
      "text/plain": [
       "<Figure size 360x180 with 1 Axes>"
      ]
     },
     "metadata": {
      "needs_background": "light"
     },
     "output_type": "display_data"
    }
   ],
   "source": [
    "plt.rcParams['figure.figsize'] = (5.0, 2.5)\n",
    "plt.rcParams.update({'font.size': 8})\n",
    "\n",
    "# plt.errorbar(np.linspace(0,128, 128), segments[plot_index], yerr=errors[plot_index], ecolor=\"magenta\")\n",
    "subset_names = [\"periodic_flare\", \"mid_random\", \"low_random\", \"positive_gradient\", \"square_wave\"]\n",
    "plot_subset=\"?\"\n",
    "for n_subset, subset in enumerate([periodic_flare, mid_random, low_random, positive_gradient, square_wave]):\n",
    "    if plot_index in subset:\n",
    "        plot_subset = subset_names[n_subset]\n",
    "        break\n",
    "\n",
    "plt.plot(np.linspace(0,128, 128), generated_samples[plot_index], color=\"orange\")\n",
    "plt.ylabel(\"Normalized count rate\", fontsize=8)\n",
    "plt.xlabel(\"Time (seconds)\", fontsize=8)\n",
    "plt.title(plot_subset)\n",
    "plt.show()\n",
    "if plot_index>0:\n",
    "    plot_index-=1"
   ]
  },
  {
   "cell_type": "code",
   "execution_count": 193,
   "metadata": {},
   "outputs": [
    {
     "data": {
      "text/plain": [
       "0"
      ]
     },
     "execution_count": 193,
     "metadata": {},
     "output_type": "execute_result"
    }
   ],
   "source": [
    "plot_index"
   ]
  },
  {
   "cell_type": "code",
   "execution_count": 128,
   "metadata": {},
   "outputs": [
    {
     "data": {
      "image/png": "[encoded data removed]",
      "text/plain": [
       "<Figure size 720x360 with 1 Axes>"
      ]
     },
     "metadata": {
      "needs_background": "light"
     },
     "output_type": "display_data"
    }
   ],
   "source": [
    "plt.rcParams['figure.figsize'] = (10.0, 5.0)\n",
    "plt.rcParams.update({'font.size': 8})\n",
    "plot_index = 0\n",
    "PC_ind = 4\n",
    "# plt.errorbar(np.linspace(0,512, 128), segments[plot_index], yerr=errors[plot_index], ecolor=\"magenta\")\n",
    "offset = 0\n",
    "for n_lc, lc in enumerate(generated_samples[PC_ind]):\n",
    "    if n_lc>0:\n",
    "        offset += np.max(generated_samples[PC_ind, n_lc])-np.min(generated_samples[PC_ind, n_lc])\n",
    "    plt.plot(np.linspace(0,512, 128), generated_samples[PC_ind, n_lc]+offset)\n",
    "# plt.ylabel(\"Normalized count rate\", fontsize=12)\n",
    "plt.xlabel(\"Time (seconds)\", fontsize=12)\n",
    "plt.title(\"Series generated along Principal Component {}\".format(PC_ind+1), fontsize=15)\n",
    "plt.show()\n",
    "if plot_index>0:\n",
    "    plot_index-=1"
   ]
  },
  {
   "cell_type": "code",
   "execution_count": 26,
   "metadata": {
    "collapsed": true,
    "jupyter": {
     "outputs_hidden": true
    }
   },
   "outputs": [
    {
     "name": "stdout",
     "output_type": "stream",
     "text": [
      "2.0 (array([-1,  0,  1,  2,  3]), array([61, 54,  3,  2,  2]))\n",
      "2.002004008016032 (array([-1,  0,  1,  2,  3]), array([61, 54,  3,  2,  2]))\n",
      "2.004008016032064 (array([-1,  0,  1,  2,  3]), array([61, 54,  3,  2,  2]))\n",
      "2.006012024048096 (array([-1,  0,  1,  2,  3]), array([61, 54,  3,  2,  2]))\n",
      "2.0080160320641283 (array([-1,  0,  1,  2,  3]), array([61, 54,  3,  2,  2]))\n",
      "2.0100200400801604 (array([-1,  0,  1,  2,  3]), array([61, 54,  3,  2,  2]))\n",
      "2.012024048096192 (array([-1,  0,  1,  2,  3]), array([61, 54,  3,  2,  2]))\n",
      "2.0140280561122244 (array([-1,  0,  1,  2,  3]), array([61, 54,  3,  2,  2]))\n",
      "2.0160320641282565 (array([-1,  0,  1,  2,  3]), array([61, 54,  3,  2,  2]))\n",
      "2.0180360721442887 (array([-1,  0,  1,  2,  3]), array([61, 54,  3,  2,  2]))\n",
      "2.0200400801603204 (array([-1,  0,  1,  2,  3]), array([61, 54,  3,  2,  2]))\n",
      "2.0220440881763526 (array([-1,  0,  1,  2,  3]), array([61, 54,  3,  2,  2]))\n",
      "2.024048096192385 (array([-1,  0,  1,  2,  3]), array([61, 54,  3,  2,  2]))\n",
      "2.026052104208417 (array([-1,  0,  1,  2,  3]), array([61, 54,  3,  2,  2]))\n",
      "2.0280561122244487 (array([-1,  0,  1,  2,  3]), array([61, 54,  3,  2,  2]))\n",
      "2.030060120240481 (array([-1,  0,  1,  2,  3]), array([61, 54,  3,  2,  2]))\n",
      "2.032064128256513 (array([-1,  0,  1,  2,  3]), array([61, 54,  3,  2,  2]))\n",
      "2.0340681362725452 (array([-1,  0,  1,  2,  3]), array([61, 54,  3,  2,  2]))\n",
      "2.036072144288577 (array([-1,  0,  1,  2,  3]), array([61, 54,  3,  2,  2]))\n",
      "2.038076152304609 (array([-1,  0,  1,  2,  3]), array([61, 54,  3,  2,  2]))\n",
      "2.0400801603206413 (array([-1,  0,  1,  2,  3]), array([61, 54,  3,  2,  2]))\n",
      "2.0420841683366735 (array([-1,  0,  1,  2,  3]), array([61, 54,  3,  2,  2]))\n",
      "2.0440881763527052 (array([-1,  0,  1,  2,  3]), array([61, 54,  3,  2,  2]))\n",
      "2.0460921843687374 (array([-1,  0,  1,  2,  3]), array([61, 54,  3,  2,  2]))\n",
      "2.0480961923847696 (array([-1,  0,  1,  2,  3]), array([61, 54,  3,  2,  2]))\n",
      "2.0501002004008018 (array([-1,  0,  1,  2]), array([61, 56,  3,  2]))\n",
      "2.0521042084168335 (array([-1,  0,  1,  2]), array([61, 56,  3,  2]))\n",
      "2.0541082164328657 (array([-1,  0,  1,  2]), array([61, 56,  3,  2]))\n",
      "2.056112224448898 (array([-1,  0,  1,  2]), array([61, 56,  3,  2]))\n",
      "2.05811623246493 (array([-1,  0,  1,  2]), array([61, 56,  3,  2]))\n",
      "2.0601202404809618 (array([-1,  0,  1,  2]), array([61, 56,  3,  2]))\n",
      "2.062124248496994 (array([-1,  0,  1,  2]), array([61, 56,  3,  2]))\n",
      "2.064128256513026 (array([-1,  0,  1,  2]), array([61, 56,  3,  2]))\n",
      "2.0661322645290583 (array([-1,  0,  1,  2]), array([61, 56,  3,  2]))\n",
      "2.06813627254509 (array([-1,  0,  1,  2]), array([61, 56,  3,  2]))\n",
      "2.070140280561122 (array([-1,  0,  1,  2]), array([61, 56,  3,  2]))\n",
      "2.0721442885771544 (array([-1,  0,  1,  2]), array([61, 56,  3,  2]))\n",
      "2.0741482965931866 (array([-1,  0,  1,  2]), array([61, 56,  3,  2]))\n",
      "2.0761523046092183 (array([-1,  0,  1,  2]), array([60, 57,  3,  2]))\n",
      "2.0781563126252505 (array([-1,  0,  1,  2]), array([60, 57,  3,  2]))\n",
      "2.0801603206412826 (array([-1,  0,  1,  2]), array([60, 57,  3,  2]))\n",
      "2.082164328657315 (array([-1,  0,  1,  2,  3]), array([58, 57,  2,  3,  2]))\n",
      "2.0841683366733466 (array([-1,  0,  1,  2,  3]), array([58, 57,  2,  3,  2]))\n",
      "2.0861723446893787 (array([-1,  0,  1,  2,  3]), array([58, 57,  2,  3,  2]))\n",
      "2.088176352705411 (array([-1,  0,  1,  2,  3]), array([58, 57,  2,  3,  2]))\n",
      "2.090180360721443 (array([-1,  0,  1,  2,  3]), array([58, 57,  2,  3,  2]))\n",
      "2.092184368737475 (array([-1,  0,  1,  2,  3]), array([58, 57,  2,  3,  2]))\n",
      "2.094188376753507 (array([-1,  0,  1,  2,  3]), array([58, 57,  2,  3,  2]))\n",
      "2.096192384769539 (array([-1,  0,  1,  2,  3]), array([58, 57,  2,  3,  2]))\n",
      "2.098196392785571 (array([-1,  0,  1,  2,  3]), array([58, 57,  2,  3,  2]))\n",
      "2.100200400801603 (array([-1,  0,  1,  2,  3]), array([58, 57,  2,  3,  2]))\n",
      "2.1022044088176353 (array([-1,  0,  1,  2,  3]), array([58, 57,  2,  3,  2]))\n",
      "2.1042084168336674 (array([-1,  0,  1,  2,  3]), array([58, 57,  2,  3,  2]))\n",
      "2.1062124248496996 (array([-1,  0,  1,  2,  3]), array([58, 57,  2,  3,  2]))\n",
      "2.1082164328657313 (array([-1,  0,  1,  2,  3]), array([58, 57,  2,  3,  2]))\n",
      "2.1102204408817635 (array([-1,  0,  1,  2,  3]), array([58, 57,  2,  3,  2]))\n",
      "2.1122244488977957 (array([-1,  0,  1,  2,  3]), array([58, 57,  2,  3,  2]))\n",
      "2.1142284569138274 (array([-1,  0,  1,  2,  3]), array([58, 57,  2,  3,  2]))\n",
      "2.1162324649298596 (array([-1,  0,  1,  2,  3]), array([58, 57,  2,  3,  2]))\n",
      "2.118236472945892 (array([-1,  0,  1,  2,  3]), array([58, 57,  2,  3,  2]))\n",
      "2.120240480961924 (array([-1,  0,  1,  2,  3]), array([58, 57,  2,  3,  2]))\n",
      "2.1222444889779557 (array([-1,  0,  1,  2,  3]), array([58, 57,  2,  3,  2]))\n",
      "2.124248496993988 (array([-1,  0,  1,  2,  3]), array([58, 57,  2,  3,  2]))\n",
      "2.12625250501002 (array([-1,  0,  1,  2,  3]), array([57, 58,  2,  3,  2]))\n",
      "2.1282565130260522 (array([-1,  0,  1,  2,  3]), array([57, 58,  2,  3,  2]))\n",
      "2.130260521042084 (array([-1,  0,  1,  2,  3]), array([56, 59,  2,  3,  2]))\n",
      "2.132264529058116 (array([-1,  0,  1,  2,  3]), array([56, 59,  2,  3,  2]))\n",
      "2.1342685370741483 (array([-1,  0,  1,  2,  3]), array([56, 59,  2,  3,  2]))\n",
      "2.1362725450901805 (array([-1,  0,  1,  2,  3]), array([56, 59,  2,  3,  2]))\n",
      "2.1382765531062122 (array([-1,  0,  1,  2,  3]), array([56, 59,  2,  3,  2]))\n",
      "2.1402805611222444 (array([-1,  0,  1,  2,  3]), array([56, 59,  2,  3,  2]))\n",
      "2.1422845691382766 (array([-1,  0,  1,  2,  3]), array([56, 59,  2,  3,  2]))\n",
      "2.1442885771543088 (array([-1,  0,  1,  2,  3]), array([56, 59,  2,  3,  2]))\n",
      "2.1462925851703405 (array([-1,  0,  1,  2,  3]), array([56, 59,  2,  3,  2]))\n",
      "2.1482965931863727 (array([-1,  0,  1,  2,  3]), array([56, 59,  2,  3,  2]))\n",
      "2.150300601202405 (array([-1,  0,  1,  2,  3]), array([56, 59,  2,  3,  2]))\n",
      "2.152304609218437 (array([-1,  0,  1,  2,  3]), array([56, 59,  2,  3,  2]))\n",
      "2.1543086172344688 (array([-1,  0,  1,  2,  3,  4]), array([54, 59,  2,  3,  2,  2]))\n",
      "2.156312625250501 (array([-1,  0,  1,  2,  3,  4]), array([54, 59,  2,  3,  2,  2]))\n",
      "2.158316633266533 (array([-1,  0,  1,  2,  3,  4]), array([54, 59,  2,  3,  2,  2]))\n",
      "2.1603206412825653 (array([-1,  0,  1,  2,  3,  4]), array([54, 59,  2,  3,  2,  2]))\n",
      "2.162324649298597 (array([-1,  0,  1,  2,  3,  4]), array([54, 59,  2,  3,  2,  2]))\n",
      "2.164328657314629 (array([-1,  0,  1,  2,  3,  4]), array([54, 59,  2,  3,  2,  2]))\n",
      "2.1663326653306614 (array([-1,  0,  1,  2,  3,  4]), array([54, 59,  2,  3,  2,  2]))\n",
      "2.1683366733466936 (array([-1,  0,  1,  2,  3,  4]), array([54, 59,  2,  3,  2,  2]))\n",
      "2.1703406813627253 (array([-1,  0,  1,  2,  3,  4]), array([54, 59,  2,  3,  2,  2]))\n",
      "2.1723446893787575 (array([-1,  0,  1,  2,  3,  4]), array([53, 60,  2,  3,  2,  2]))\n",
      "2.1743486973947896 (array([-1,  0,  1,  2,  3,  4]), array([53, 60,  2,  3,  2,  2]))\n",
      "2.176352705410822 (array([-1,  0,  1,  2,  3,  4]), array([53, 60,  2,  3,  2,  2]))\n",
      "2.1783567134268536 (array([-1,  0,  1,  2,  3,  4]), array([53, 60,  2,  3,  2,  2]))\n",
      "2.1803607214428857 (array([-1,  0,  1,  2,  3,  4]), array([53, 60,  2,  3,  2,  2]))\n",
      "2.182364729458918 (array([-1,  0,  1,  2,  3,  4]), array([53, 60,  2,  3,  2,  2]))\n",
      "2.18436873747495 (array([-1,  0,  1,  2,  3,  4]), array([53, 60,  2,  3,  2,  2]))\n",
      "2.186372745490982 (array([-1,  0,  1,  2,  3,  4]), array([52, 61,  2,  3,  2,  2]))\n",
      "2.188376753507014 (array([-1,  0,  1,  2,  3,  4,  5]), array([50, 61,  2,  3,  2,  2,  2]))\n",
      "2.190380761523046 (array([-1,  0,  1,  2,  3,  4,  5]), array([50, 61,  2,  3,  2,  2,  2]))\n",
      "2.1923847695390783 (array([-1,  0,  1,  2,  3,  4,  5]), array([50, 61,  2,  3,  2,  2,  2]))\n",
      "2.19438877755511 (array([-1,  0,  1,  2,  3,  4,  5]), array([50, 61,  2,  3,  2,  2,  2]))\n",
      "2.1963927855711423 (array([-1,  0,  1,  2,  3,  4,  5]), array([50, 61,  2,  3,  2,  2,  2]))\n",
      "2.1983967935871744 (array([-1,  0,  1,  2,  3,  4,  5]), array([50, 61,  2,  3,  2,  2,  2]))\n",
      "2.200400801603206 (array([-1,  0,  1,  2,  3,  4,  5]), array([50, 61,  2,  3,  2,  2,  2]))\n",
      "2.2024048096192383 (array([-1,  0,  1,  2,  3,  4,  5]), array([50, 61,  2,  3,  2,  2,  2]))\n",
      "2.2044088176352705 (array([-1,  0,  1,  2,  3,  4,  5]), array([50, 61,  2,  3,  2,  2,  2]))\n",
      "2.2064128256513027 (array([-1,  0,  1,  2,  3,  4,  5]), array([50, 61,  2,  3,  2,  2,  2]))\n",
      "2.208416833667335 (array([-1,  0,  1,  2,  3,  4,  5]), array([50, 61,  2,  3,  2,  2,  2]))\n",
      "2.2104208416833666 (array([-1,  0,  1,  2,  3,  4,  5]), array([50, 61,  2,  3,  2,  2,  2]))\n",
      "2.212424849699399 (array([-1,  0,  1,  2,  3,  4,  5]), array([50, 61,  2,  3,  2,  2,  2]))\n",
      "2.214428857715431 (array([-1,  0,  1,  2,  3,  4,  5]), array([50, 61,  2,  3,  2,  2,  2]))\n",
      "2.2164328657314627 (array([-1,  0,  1,  2,  3,  4,  5]), array([50, 61,  2,  3,  2,  2,  2]))\n",
      "2.218436873747495 (array([-1,  0,  1,  2,  3,  4,  5]), array([50, 61,  2,  3,  2,  2,  2]))\n",
      "2.220440881763527 (array([-1,  0,  1,  2,  3,  4,  5]), array([50, 61,  2,  3,  2,  2,  2]))\n",
      "2.2224448897795592 (array([-1,  0,  1,  2,  3,  4,  5]), array([50, 61,  2,  3,  2,  2,  2]))\n",
      "2.224448897795591 (array([-1,  0,  1,  2,  3,  4,  5]), array([50, 61,  2,  3,  2,  2,  2]))\n",
      "2.226452905811623 (array([-1,  0,  1,  2,  3,  4,  5]), array([50, 61,  2,  3,  2,  2,  2]))\n",
      "2.2284569138276553 (array([-1,  0,  1,  2,  3,  4,  5]), array([50, 61,  2,  3,  2,  2,  2]))\n",
      "2.2304609218436875 (array([-1,  0,  1,  2,  3,  4,  5]), array([50, 61,  2,  3,  2,  2,  2]))\n",
      "2.2324649298597192 (array([-1,  0,  1,  2,  3,  4,  5]), array([50, 61,  2,  3,  2,  2,  2]))\n",
      "2.2344689378757514 (array([-1,  0,  1,  2,  3,  4,  5]), array([50, 61,  2,  3,  2,  2,  2]))\n",
      "2.2364729458917836 (array([-1,  0,  1,  2,  3,  4,  5]), array([50, 61,  2,  3,  2,  2,  2]))\n",
      "2.2384769539078158 (array([-1,  0,  1,  2,  3,  4,  5]), array([50, 61,  2,  3,  2,  2,  2]))\n",
      "2.2404809619238475 (array([-1,  0,  1,  2,  3,  4,  5]), array([50, 61,  2,  3,  2,  2,  2]))\n",
      "2.2424849699398797 (array([-1,  0,  1,  2,  3,  4,  5]), array([50, 61,  2,  3,  2,  2,  2]))\n",
      "2.244488977955912 (array([-1,  0,  1,  2,  3,  4,  5]), array([50, 61,  2,  3,  2,  2,  2]))\n",
      "2.246492985971944 (array([-1,  0,  1,  2,  3,  4,  5]), array([49, 62,  2,  3,  2,  2,  2]))\n",
      "2.2484969939879758 (array([-1,  0,  1,  2,  3,  4,  5]), array([49, 62,  2,  3,  2,  2,  2]))\n",
      "2.250501002004008 (array([-1,  0,  1,  2,  3,  4,  5]), array([49, 62,  2,  3,  2,  2,  2]))\n",
      "2.25250501002004 (array([-1,  0,  1,  2,  3,  4]), array([49, 64,  3,  2,  2,  2]))\n",
      "2.2545090180360723 (array([-1,  0,  1,  2,  3,  4]), array([49, 64,  3,  2,  2,  2]))\n",
      "2.256513026052104 (array([-1,  0,  1,  2,  3,  4]), array([49, 64,  3,  2,  2,  2]))\n",
      "2.258517034068136 (array([-1,  0,  1,  2,  3,  4]), array([49, 64,  3,  2,  2,  2]))\n",
      "2.2605210420841684 (array([-1,  0,  1,  2,  3,  4]), array([49, 64,  3,  2,  2,  2]))\n",
      "2.2625250501002006 (array([-1,  0,  1,  2,  3,  4]), array([49, 64,  3,  2,  2,  2]))\n",
      "2.2645290581162323 (array([-1,  0,  1,  2,  3,  4]), array([49, 64,  3,  2,  2,  2]))\n",
      "2.2665330661322645 (array([-1,  0,  1,  2,  3,  4]), array([48, 64,  3,  2,  2,  3]))\n",
      "2.2685370741482966 (array([-1,  0,  1,  2,  3,  4]), array([48, 64,  3,  2,  2,  3]))\n",
      "2.270541082164329 (array([-1,  0,  1,  2,  3,  4]), array([48, 64,  3,  2,  2,  3]))\n",
      "2.2725450901803605 (array([-1,  0,  1,  2,  3,  4]), array([48, 64,  3,  2,  2,  3]))\n",
      "2.2745490981963927 (array([-1,  0,  1,  2,  3,  4]), array([48, 64,  3,  2,  2,  3]))\n",
      "2.276553106212425 (array([-1,  0,  1,  2,  3,  4]), array([48, 64,  3,  2,  2,  3]))\n",
      "2.278557114228457 (array([-1,  0,  1,  2,  3,  4]), array([48, 64,  3,  2,  2,  3]))\n",
      "2.280561122244489 (array([-1,  0,  1,  2,  3,  4]), array([48, 64,  3,  2,  2,  3]))\n",
      "2.282565130260521 (array([-1,  0,  1,  2,  3,  4]), array([48, 64,  3,  2,  2,  3]))\n",
      "2.284569138276553 (array([-1,  0,  1,  2,  3,  4]), array([48, 64,  3,  2,  2,  3]))\n",
      "2.286573146292585 (array([-1,  0,  1,  2,  3,  4]), array([48, 64,  3,  2,  2,  3]))\n",
      "2.288577154308617 (array([-1,  0,  1,  2,  3,  4]), array([48, 64,  3,  2,  2,  3]))\n",
      "2.2905811623246493 (array([-1,  0,  1,  2,  3,  4]), array([48, 64,  3,  2,  2,  3]))\n",
      "2.2925851703406814 (array([-1,  0,  1,  2,  3,  4]), array([48, 64,  3,  2,  2,  3]))\n",
      "2.2945891783567136 (array([-1,  0,  1,  2,  3,  4]), array([48, 64,  3,  2,  2,  3]))\n",
      "2.2965931863727453 (array([-1,  0,  1,  2,  3,  4]), array([48, 64,  3,  2,  2,  3]))\n",
      "2.2985971943887775 (array([-1,  0,  1,  2,  3,  4]), array([48, 64,  3,  2,  2,  3]))\n",
      "2.3006012024048097 (array([-1,  0,  1,  2,  3,  4]), array([48, 64,  3,  2,  2,  3]))\n",
      "2.3026052104208414 (array([-1,  0,  1,  2,  3,  4]), array([48, 64,  3,  2,  2,  3]))\n",
      "2.3046092184368736 (array([-1,  0,  1,  2,  3,  4]), array([48, 64,  3,  2,  2,  3]))\n",
      "2.306613226452906 (array([-1,  0,  1,  2,  3,  4]), array([48, 64,  3,  2,  2,  3]))\n",
      "2.308617234468938 (array([-1,  0,  1,  2,  3,  4]), array([48, 64,  3,  2,  2,  3]))\n",
      "2.31062124248497 (array([-1,  0,  1,  2,  3,  4]), array([48, 64,  3,  2,  2,  3]))\n",
      "2.312625250501002 (array([-1,  0,  1,  2,  3,  4]), array([48, 64,  3,  2,  2,  3]))\n",
      "2.314629258517034 (array([-1,  0,  1,  2,  3,  4]), array([48, 64,  3,  2,  2,  3]))\n",
      "2.3166332665330662 (array([-1,  0,  1,  2,  3,  4]), array([48, 64,  3,  2,  2,  3]))\n",
      "2.318637274549098 (array([-1,  0,  1,  2,  3,  4]), array([48, 64,  3,  2,  2,  3]))\n",
      "2.32064128256513 (array([-1,  0,  1,  2,  3,  4]), array([48, 64,  3,  2,  2,  3]))\n",
      "2.3226452905811623 (array([-1,  0,  1,  2,  3,  4]), array([48, 64,  3,  2,  2,  3]))\n",
      "2.3246492985971945 (array([-1,  0,  1,  2,  3,  4]), array([48, 64,  3,  2,  2,  3]))\n",
      "2.3266533066132267 (array([-1,  0,  1,  2,  3,  4]), array([48, 64,  3,  2,  2,  3]))\n",
      "2.3286573146292584 (array([-1,  0,  1,  2,  3,  4]), array([48, 64,  3,  2,  2,  3]))\n",
      "2.3306613226452906 (array([-1,  0,  1,  2,  3,  4]), array([48, 64,  3,  2,  2,  3]))\n",
      "2.3326653306613228 (array([-1,  0,  1,  2,  3,  4]), array([48, 64,  3,  2,  2,  3]))\n",
      "2.3346693386773545 (array([-1,  0,  1,  2,  3,  4]), array([48, 64,  3,  2,  2,  3]))\n",
      "2.3366733466933867 (array([-1,  0,  1,  2,  3,  4]), array([48, 64,  3,  2,  2,  3]))\n",
      "2.338677354709419 (array([-1,  0,  1,  2,  3,  4]), array([47, 65,  3,  2,  2,  3]))\n",
      "2.340681362725451 (array([-1,  0,  1,  2,  3,  4]), array([47, 65,  3,  2,  2,  3]))\n",
      "2.3426853707414828 (array([-1,  0,  1,  2,  3,  4]), array([47, 65,  3,  2,  2,  3]))\n",
      "2.344689378757515 (array([-1,  0,  1,  2,  3,  4]), array([47, 65,  3,  2,  2,  3]))\n",
      "2.346693386773547 (array([-1,  0,  1,  2,  3,  4]), array([47, 65,  3,  2,  2,  3]))\n",
      "2.3486973947895793 (array([-1,  0,  1,  2,  3,  4]), array([47, 65,  3,  2,  2,  3]))\n",
      "2.350701402805611 (array([-1,  0,  1,  2,  3,  4]), array([47, 65,  3,  2,  2,  3]))\n",
      "2.352705410821643 (array([-1,  0,  1,  2,  3,  4]), array([47, 65,  3,  2,  2,  3]))\n",
      "2.3547094188376754 (array([-1,  0,  1,  2,  3,  4]), array([47, 65,  3,  2,  2,  3]))\n",
      "2.3567134268537075 (array([-1,  0,  1,  2,  3,  4]), array([47, 65,  3,  2,  2,  3]))\n",
      "2.3587174348697393 (array([-1,  0,  1,  2,  3,  4]), array([47, 65,  3,  2,  2,  3]))\n",
      "2.3607214428857715 (array([-1,  0,  1,  2,  3,  4]), array([47, 65,  3,  2,  2,  3]))\n",
      "2.3627254509018036 (array([-1,  0,  1,  2,  3,  4]), array([47, 65,  3,  2,  2,  3]))\n",
      "2.364729458917836 (array([-1,  0,  1,  2,  3,  4]), array([47, 65,  3,  2,  2,  3]))\n",
      "2.3667334669338675 (array([-1,  0,  1,  2,  3,  4]), array([47, 65,  3,  2,  2,  3]))\n",
      "2.3687374749498997 (array([-1,  0,  1,  2,  3,  4]), array([47, 65,  3,  2,  2,  3]))\n",
      "2.370741482965932 (array([-1,  0,  1,  2,  3,  4]), array([47, 65,  3,  2,  2,  3]))\n",
      "2.372745490981964 (array([-1,  0,  1,  2,  3,  4]), array([47, 65,  3,  2,  2,  3]))\n",
      "2.374749498997996 (array([-1,  0,  1,  2,  3,  4]), array([47, 65,  3,  2,  2,  3]))\n",
      "2.376753507014028 (array([-1,  0,  1,  2,  3,  4]), array([47, 65,  3,  2,  2,  3]))\n",
      "2.37875751503006 (array([-1,  0,  1,  2,  3,  4]), array([47, 65,  3,  2,  2,  3]))\n",
      "2.3807615230460923 (array([-1,  0,  1,  2,  3,  4]), array([47, 65,  3,  2,  2,  3]))\n",
      "2.382765531062124 (array([-1,  0,  1,  2,  3,  4]), array([47, 65,  3,  2,  2,  3]))\n",
      "2.3847695390781563 (array([-1,  0,  1,  2,  3,  4]), array([47, 65,  3,  2,  2,  3]))\n",
      "2.3867735470941884 (array([-1,  0,  1,  2,  3,  4]), array([46, 66,  3,  2,  2,  3]))\n",
      "2.38877755511022 (array([-1,  0,  1,  2,  3,  4]), array([46, 66,  3,  2,  2,  3]))\n",
      "2.3907815631262523 (array([-1,  0,  1,  2,  3,  4]), array([46, 66,  3,  2,  2,  3]))\n",
      "2.3927855711422845 (array([-1,  0,  1,  2,  3,  4]), array([46, 66,  3,  2,  2,  3]))\n",
      "2.3947895791583167 (array([-1,  0,  1,  2,  3,  4]), array([45, 67,  3,  2,  2,  3]))\n",
      "2.396793587174349 (array([-1,  0,  1,  2,  3,  4,  5]), array([43, 67,  3,  2,  2,  3,  2]))\n",
      "2.3987975951903806 (array([-1,  0,  1,  2,  3,  4,  5]), array([43, 67,  3,  2,  2,  3,  2]))\n",
      "2.400801603206413 (array([-1,  0,  1,  2,  3,  4,  5]), array([43, 67,  3,  2,  2,  3,  2]))\n",
      "2.402805611222445 (array([-1,  0,  1,  2,  3,  4,  5]), array([43, 67,  3,  2,  2,  3,  2]))\n",
      "2.4048096192384767 (array([-1,  0,  1,  2,  3,  4,  5]), array([43, 67,  3,  2,  2,  3,  2]))\n",
      "2.406813627254509 (array([-1,  0,  1,  2,  3,  4,  5]), array([43, 67,  3,  2,  2,  3,  2]))\n",
      "2.408817635270541 (array([-1,  0,  1,  2,  3,  4,  5]), array([43, 67,  3,  2,  2,  3,  2]))\n",
      "2.4108216432865732 (array([-1,  0,  1,  2,  3,  4,  5]), array([43, 67,  3,  2,  2,  3,  2]))\n",
      "2.4128256513026054 (array([-1,  0,  1,  2,  3,  4]), array([43, 70,  2,  2,  3,  2]))\n",
      "2.414829659318637 (array([-1,  0,  1,  2,  3,  4]), array([43, 70,  2,  2,  3,  2]))\n",
      "2.4168336673346693 (array([-1,  0,  1,  2,  3,  4]), array([43, 70,  2,  2,  3,  2]))\n",
      "2.4188376753507015 (array([-1,  0,  1,  2,  3,  4]), array([43, 70,  2,  2,  3,  2]))\n",
      "2.420841683366733 (array([-1,  0,  1,  2,  3,  4]), array([43, 70,  2,  2,  3,  2]))\n",
      "2.4228456913827654 (array([-1,  0,  1,  2,  3,  4]), array([43, 70,  2,  2,  3,  2]))\n",
      "2.4248496993987976 (array([-1,  0,  1,  2,  3,  4]), array([43, 70,  2,  2,  3,  2]))\n",
      "2.4268537074148298 (array([-1,  0,  1,  2,  3,  4]), array([43, 70,  2,  2,  3,  2]))\n",
      "2.428857715430862 (array([-1,  0,  1,  2,  3,  4]), array([43, 70,  2,  2,  3,  2]))\n",
      "2.4308617234468937 (array([-1,  0,  1,  2,  3,  4]), array([43, 70,  2,  2,  3,  2]))\n",
      "2.432865731462926 (array([-1,  0,  1,  2,  3,  4,  5]), array([41, 70,  2,  2,  3,  2,  2]))\n",
      "2.434869739478958 (array([-1,  0,  1,  2,  3,  4,  5]), array([41, 70,  2,  2,  3,  2,  2]))\n",
      "2.4368737474949898 (array([-1,  0,  1,  2,  3,  4,  5]), array([41, 70,  2,  2,  3,  2,  2]))\n",
      "2.438877755511022 (array([-1,  0,  1,  2,  3,  4,  5]), array([41, 70,  2,  2,  3,  2,  2]))\n",
      "2.440881763527054 (array([-1,  0,  1,  2,  3,  4]), array([41, 73,  2,  2,  2,  2]))\n",
      "2.4428857715430863 (array([-1,  0,  1,  2,  3,  4]), array([41, 73,  2,  2,  2,  2]))\n",
      "2.444889779559118 (array([-1,  0,  1,  2,  3]), array([41, 75,  2,  2,  2]))\n",
      "2.44689378757515 (array([-1,  0,  1,  2,  3]), array([41, 75,  2,  2,  2]))\n",
      "2.4488977955911824 (array([-1,  0,  1,  2,  3]), array([41, 75,  2,  2,  2]))\n",
      "2.4509018036072145 (array([-1,  0,  1,  2,  3]), array([41, 75,  2,  2,  2]))\n",
      "2.4529058116232463 (array([-1,  0,  1,  2,  3]), array([41, 75,  2,  2,  2]))\n",
      "2.4549098196392785 (array([-1,  0,  1,  2,  3]), array([41, 75,  2,  2,  2]))\n",
      "2.4569138276553106 (array([-1,  0,  1,  2,  3]), array([41, 75,  2,  2,  2]))\n",
      "2.458917835671343 (array([-1,  0,  1,  2,  3]), array([41, 75,  2,  2,  2]))\n",
      "2.4609218436873745 (array([-1,  0,  1,  2,  3]), array([41, 75,  2,  2,  2]))\n",
      "2.4629258517034067 (array([-1,  0,  1,  2,  3]), array([41, 75,  2,  2,  2]))\n",
      "2.464929859719439 (array([-1,  0,  1,  2,  3]), array([41, 75,  2,  2,  2]))\n",
      "2.466933867735471 (array([-1,  0,  1,  2,  3]), array([41, 75,  2,  2,  2]))\n",
      "2.468937875751503 (array([-1,  0,  1,  2,  3]), array([41, 75,  2,  2,  2]))\n",
      "2.470941883767535 (array([-1,  0,  1,  2,  3]), array([41, 75,  2,  2,  2]))\n",
      "2.472945891783567 (array([-1,  0,  1,  2,  3]), array([41, 75,  2,  2,  2]))\n",
      "2.4749498997995993 (array([-1,  0,  1,  2,  3]), array([41, 75,  2,  2,  2]))\n",
      "2.476953907815631 (array([-1,  0,  1,  2,  3]), array([41, 75,  2,  2,  2]))\n",
      "2.4789579158316633 (array([-1,  0,  1,  2,  3]), array([41, 75,  2,  2,  2]))\n",
      "2.4809619238476954 (array([-1,  0,  1,  2,  3]), array([41, 75,  2,  2,  2]))\n",
      "2.4829659318637276 (array([-1,  0,  1,  2,  3]), array([40, 76,  2,  2,  2]))\n",
      "2.4849699398797593 (array([-1,  0,  1,  2,  3]), array([40, 76,  2,  2,  2]))\n",
      "2.4869739478957915 (array([-1,  0,  1,  2,  3]), array([40, 76,  2,  2,  2]))\n",
      "2.4889779559118237 (array([-1,  0,  1,  2,  3]), array([40, 76,  2,  2,  2]))\n",
      "2.4909819639278554 (array([-1,  0,  1,  2,  3]), array([40, 76,  2,  2,  2]))\n",
      "2.4929859719438876 (array([-1,  0,  1,  2,  3]), array([40, 76,  2,  2,  2]))\n",
      "2.49498997995992 (array([-1,  0,  1,  2,  3]), array([40, 76,  2,  2,  2]))\n",
      "2.496993987975952 (array([-1,  0,  1,  2,  3]), array([40, 76,  2,  2,  2]))\n",
      "2.498997995991984 (array([-1,  0,  1,  2,  3]), array([39, 77,  2,  2,  2]))\n",
      "2.501002004008016 (array([-1,  0,  1,  2,  3]), array([39, 77,  2,  2,  2]))\n",
      "2.503006012024048 (array([-1,  0,  1,  2,  3]), array([39, 77,  2,  2,  2]))\n",
      "2.50501002004008 (array([-1,  0,  1,  2,  3]), array([39, 77,  2,  2,  2]))\n",
      "2.507014028056112 (array([-1,  0,  1,  2,  3]), array([39, 77,  2,  2,  2]))\n",
      "2.509018036072144 (array([-1,  0,  1,  2,  3]), array([39, 77,  2,  2,  2]))\n",
      "2.5110220440881763 (array([-1,  0,  1,  2,  3]), array([39, 77,  2,  2,  2]))\n",
      "2.5130260521042085 (array([-1,  0,  1,  2,  3]), array([39, 77,  2,  2,  2]))\n",
      "2.5150300601202407 (array([-1,  0,  1,  2,  3]), array([39, 77,  2,  2,  2]))\n",
      "2.5170340681362724 (array([-1,  0,  1,  2,  3,  4]), array([37, 77,  2,  2,  2,  2]))\n",
      "2.5190380761523046 (array([-1,  0,  1,  2,  3,  4]), array([37, 77,  2,  2,  2,  2]))\n",
      "2.5210420841683367 (array([-1,  0,  1,  2,  3,  4]), array([37, 77,  2,  2,  2,  2]))\n",
      "2.5230460921843685 (array([-1,  0,  1,  2,  3,  4]), array([37, 77,  2,  2,  2,  2]))\n",
      "2.5250501002004007 (array([-1,  0,  1,  2,  3,  4]), array([37, 77,  2,  2,  2,  2]))\n",
      "2.527054108216433 (array([-1,  0,  1,  2,  3,  4]), array([37, 77,  2,  2,  2,  2]))\n",
      "2.529058116232465 (array([-1,  0,  1,  2,  3,  4]), array([37, 77,  2,  2,  2,  2]))\n",
      "2.531062124248497 (array([-1,  0,  1,  2,  3,  4]), array([37, 77,  2,  2,  2,  2]))\n",
      "2.533066132264529 (array([-1,  0,  1,  2,  3,  4]), array([37, 77,  2,  2,  2,  2]))\n",
      "2.535070140280561 (array([-1,  0,  1,  2,  3,  4,  5]), array([35, 77,  2,  2,  2,  2,  2]))\n",
      "2.5370741482965933 (array([-1,  0,  1,  2,  3,  4,  5]), array([35, 77,  2,  2,  2,  2,  2]))\n",
      "2.539078156312625 (array([-1,  0,  1,  2,  3,  4,  5]), array([35, 77,  2,  2,  2,  2,  2]))\n",
      "2.541082164328657 (array([-1,  0,  1,  2,  3,  4,  5]), array([35, 77,  2,  2,  2,  2,  2]))\n",
      "2.5430861723446894 (array([-1,  0,  1,  2,  3,  4,  5]), array([35, 77,  2,  2,  2,  2,  2]))\n",
      "2.5450901803607215 (array([-1,  0,  1,  2,  3,  4,  5]), array([35, 77,  2,  2,  2,  2,  2]))\n",
      "2.5470941883767537 (array([-1,  0,  1,  2,  3,  4,  5]), array([35, 77,  2,  2,  2,  2,  2]))\n",
      "2.5490981963927855 (array([-1,  0,  1,  2,  3,  4,  5]), array([35, 77,  2,  2,  2,  2,  2]))\n",
      "2.5511022044088176 (array([-1,  0,  1,  2,  3,  4,  5]), array([35, 77,  2,  2,  2,  2,  2]))\n",
      "2.55310621242485 (array([-1,  0,  1,  2,  3,  4,  5]), array([35, 77,  2,  2,  2,  2,  2]))\n",
      "2.5551102204408815 (array([-1,  0,  1,  2,  3,  4,  5]), array([35, 77,  2,  2,  2,  2,  2]))\n",
      "2.5571142284569137 (array([-1,  0,  1,  2,  3,  4,  5]), array([35, 77,  2,  2,  2,  2,  2]))\n",
      "2.559118236472946 (array([-1,  0,  1,  2,  3,  4,  5]), array([35, 77,  2,  2,  2,  2,  2]))\n",
      "2.561122244488978 (array([-1,  0,  1,  2,  3,  4,  5]), array([35, 77,  2,  2,  2,  2,  2]))\n",
      "2.5631262525050102 (array([-1,  0,  1,  2,  3,  4,  5]), array([35, 77,  2,  2,  2,  2,  2]))\n",
      "2.565130260521042 (array([-1,  0,  1,  2,  3,  4,  5]), array([35, 77,  2,  2,  2,  2,  2]))\n",
      "2.567134268537074 (array([-1,  0,  1,  2,  3,  4,  5]), array([35, 77,  2,  2,  2,  2,  2]))\n",
      "2.5691382765531063 (array([-1,  0,  1,  2,  3,  4,  5]), array([35, 77,  2,  2,  2,  2,  2]))\n",
      "2.571142284569138 (array([-1,  0,  1,  2,  3,  4,  5]), array([35, 77,  2,  2,  2,  2,  2]))\n",
      "2.5731462925851702 (array([-1,  0,  1,  2,  3,  4,  5]), array([35, 77,  2,  2,  2,  2,  2]))\n",
      "2.5751503006012024 (array([-1,  0,  1,  2,  3,  4,  5]), array([35, 77,  2,  2,  2,  2,  2]))\n",
      "2.577154308617234 (array([-1,  0,  1,  2,  3,  4,  5]), array([35, 77,  2,  2,  2,  2,  2]))\n",
      "2.5791583166332663 (array([-1,  0,  1,  2,  3,  4,  5]), array([35, 77,  2,  2,  2,  2,  2]))\n",
      "2.5811623246492985 (array([-1,  0,  1,  2,  3,  4,  5]), array([35, 77,  2,  2,  2,  2,  2]))\n",
      "2.5831663326653307 (array([-1,  0,  1,  2,  3,  4,  5]), array([35, 77,  2,  2,  2,  2,  2]))\n",
      "2.585170340681363 (array([-1,  0,  1,  2,  3,  4,  5]), array([34, 78,  2,  2,  2,  2,  2]))\n",
      "2.5871743486973946 (array([-1,  0,  1,  2,  3,  4,  5]), array([34, 78,  2,  2,  2,  2,  2]))\n",
      "2.5891783567134268 (array([-1,  0,  1,  2,  3,  4,  5]), array([34, 78,  2,  2,  2,  2,  2]))\n",
      "2.591182364729459 (array([-1,  0,  1,  2,  3,  4,  5]), array([33, 79,  2,  2,  2,  2,  2]))\n",
      "2.5931863727454907 (array([-1,  0,  1,  2,  3,  4,  5]), array([33, 79,  2,  2,  2,  2,  2]))\n",
      "2.595190380761523 (array([-1,  0,  1,  2,  3,  4,  5]), array([33, 79,  2,  2,  2,  2,  2]))\n",
      "2.597194388777555 (array([-1,  0,  1,  2,  3,  4,  5]), array([33, 79,  2,  2,  2,  2,  2]))\n",
      "2.599198396793587 (array([-1,  0,  1,  2,  3,  4,  5]), array([33, 79,  2,  2,  2,  2,  2]))\n",
      "2.6012024048096194 (array([-1,  0,  1,  2,  3,  4,  5]), array([33, 79,  2,  2,  2,  2,  2]))\n",
      "2.603206412825651 (array([-1,  0,  1,  2,  3,  4,  5]), array([33, 79,  2,  2,  2,  2,  2]))\n",
      "2.6052104208416833 (array([-1,  0,  1,  2,  3,  4,  5]), array([33, 79,  2,  2,  2,  2,  2]))\n",
      "2.6072144288577155 (array([-1,  0,  1,  2,  3,  4,  5]), array([33, 79,  2,  2,  2,  2,  2]))\n",
      "2.609218436873747 (array([-1,  0,  1,  2,  3,  4,  5]), array([32, 80,  2,  2,  2,  2,  2]))\n",
      "2.6112224448897794 (array([-1,  0,  1,  2,  3,  4,  5]), array([32, 80,  2,  2,  2,  2,  2]))\n",
      "2.6132264529058116 (array([-1,  0,  1,  2,  3,  4,  5]), array([32, 80,  2,  2,  2,  2,  2]))\n",
      "2.6152304609218437 (array([-1,  0,  1,  2,  3,  4,  5]), array([32, 80,  2,  2,  2,  2,  2]))\n",
      "2.617234468937876 (array([-1,  0,  1,  2,  3,  4,  5]), array([32, 80,  2,  2,  2,  2,  2]))\n",
      "2.6192384769539077 (array([-1,  0,  1,  2,  3,  4,  5]), array([32, 80,  2,  2,  2,  2,  2]))\n",
      "2.62124248496994 (array([-1,  0,  1,  2,  3,  4,  5]), array([32, 80,  2,  2,  2,  2,  2]))\n",
      "2.623246492985972 (array([-1,  0,  1,  2,  3,  4,  5]), array([32, 80,  2,  2,  2,  2,  2]))\n",
      "2.6252505010020037 (array([-1,  0,  1,  2,  3,  4,  5]), array([32, 80,  2,  2,  2,  2,  2]))\n",
      "2.627254509018036 (array([-1,  0,  1,  2,  3,  4,  5]), array([32, 80,  2,  2,  2,  2,  2]))\n",
      "2.629258517034068 (array([-1,  0,  1,  2,  3,  4,  5]), array([31, 81,  2,  2,  2,  2,  2]))\n",
      "2.6312625250501003 (array([-1,  0,  1,  2,  3,  4,  5]), array([31, 81,  2,  2,  2,  2,  2]))\n",
      "2.6332665330661325 (array([-1,  0,  1,  2,  3,  4,  5]), array([31, 81,  2,  2,  2,  2,  2]))\n",
      "2.635270541082164 (array([-1,  0,  1,  2,  3,  4,  5]), array([31, 81,  2,  2,  2,  2,  2]))\n",
      "2.6372745490981964 (array([-1,  0,  1,  2,  3,  4,  5]), array([31, 81,  2,  2,  2,  2,  2]))\n",
      "2.6392785571142285 (array([-1,  0,  1,  2,  3,  4,  5]), array([31, 81,  2,  2,  2,  2,  2]))\n",
      "2.6412825651302603 (array([-1,  0,  1,  2,  3,  4,  5]), array([30, 82,  2,  2,  2,  2,  2]))\n",
      "2.6432865731462925 (array([-1,  0,  1,  2,  3,  4,  5]), array([29, 83,  2,  2,  2,  2,  2]))\n",
      "2.6452905811623246 (array([-1,  0,  1,  2,  3,  4,  5]), array([28, 84,  2,  2,  2,  2,  2]))\n",
      "2.647294589178357 (array([-1,  0,  1,  2,  3,  4,  5]), array([28, 84,  2,  2,  2,  2,  2]))\n",
      "2.649298597194389 (array([-1,  0,  1,  2,  3,  4,  5]), array([28, 84,  2,  2,  2,  2,  2]))\n",
      "2.6513026052104207 (array([-1,  0,  1,  2,  3,  4,  5]), array([28, 84,  2,  2,  2,  2,  2]))\n",
      "2.653306613226453 (array([-1,  0,  1,  2,  3,  4,  5]), array([28, 84,  2,  2,  2,  2,  2]))\n",
      "2.655310621242485 (array([-1,  0,  1,  2,  3,  4,  5]), array([28, 84,  2,  2,  2,  2,  2]))\n",
      "2.657314629258517 (array([-1,  0,  1,  2,  3,  4,  5]), array([28, 84,  2,  2,  2,  2,  2]))\n",
      "2.659318637274549 (array([-1,  0,  1,  2,  3,  4,  5]), array([28, 84,  2,  2,  2,  2,  2]))\n",
      "2.661322645290581 (array([-1,  0,  1,  2,  3,  4,  5]), array([28, 84,  2,  2,  2,  2,  2]))\n",
      "2.6633266533066133 (array([-1,  0,  1,  2,  3,  4,  5]), array([28, 84,  2,  2,  2,  2,  2]))\n",
      "2.6653306613226455 (array([-1,  0,  1,  2,  3,  4,  5]), array([28, 84,  2,  2,  2,  2,  2]))\n",
      "2.6673346693386772 (array([-1,  0,  1,  2,  3,  4,  5]), array([28, 84,  2,  2,  2,  2,  2]))\n",
      "2.6693386773547094 (array([-1,  0,  1,  2,  3,  4,  5]), array([28, 84,  2,  2,  2,  2,  2]))\n",
      "2.6713426853707416 (array([-1,  0,  1,  2,  3,  4,  5]), array([28, 84,  2,  2,  2,  2,  2]))\n",
      "2.6733466933867733 (array([-1,  0,  1,  2,  3,  4,  5]), array([28, 84,  2,  2,  2,  2,  2]))\n",
      "2.6753507014028055 (array([-1,  0,  1,  2,  3,  4,  5]), array([28, 84,  2,  2,  2,  2,  2]))\n",
      "2.6773547094188377 (array([-1,  0,  1,  2,  3,  4,  5]), array([27, 84,  3,  2,  2,  2,  2]))\n",
      "2.6793587174348694 (array([-1,  0,  1,  2,  3,  4,  5]), array([27, 84,  3,  2,  2,  2,  2]))\n",
      "2.6813627254509016 (array([-1,  0,  1,  2,  3,  4,  5]), array([27, 84,  3,  2,  2,  2,  2]))\n",
      "2.6833667334669338 (array([-1,  0,  1,  2,  3,  4,  5]), array([27, 84,  3,  2,  2,  2,  2]))\n",
      "2.685370741482966 (array([-1,  0,  1,  2,  3,  4,  5]), array([27, 84,  3,  2,  2,  2,  2]))\n",
      "2.687374749498998 (array([-1,  0,  1,  2,  3,  4,  5]), array([27, 84,  3,  2,  2,  2,  2]))\n",
      "2.68937875751503 (array([-1,  0,  1,  2,  3,  4,  5]), array([27, 84,  3,  2,  2,  2,  2]))\n",
      "2.691382765531062 (array([-1,  0,  1,  2,  3,  4,  5]), array([27, 84,  3,  2,  2,  2,  2]))\n",
      "2.693386773547094 (array([-1,  0,  1,  2,  3,  4,  5]), array([27, 84,  3,  2,  2,  2,  2]))\n",
      "2.695390781563126 (array([-1,  0,  1,  2,  3,  4,  5]), array([26, 85,  3,  2,  2,  2,  2]))\n",
      "2.697394789579158 (array([-1,  0,  1,  2,  3,  4]), array([25, 88,  3,  2,  2,  2]))\n",
      "2.6993987975951903 (array([-1,  0,  1,  2,  3,  4]), array([25, 88,  3,  2,  2,  2]))\n",
      "2.7014028056112225 (array([-1,  0,  1,  2,  3,  4]), array([25, 88,  3,  2,  2,  2]))\n",
      "2.7034068136272547 (array([-1,  0,  1,  2,  3,  4]), array([25, 88,  3,  2,  2,  2]))\n",
      "2.7054108216432864 (array([-1,  0,  1,  2,  3,  4]), array([25, 88,  3,  2,  2,  2]))\n",
      "2.7074148296593186 (array([-1,  0,  1,  2,  3,  4]), array([25, 88,  3,  2,  2,  2]))\n",
      "2.7094188376753507 (array([-1,  0,  1,  2,  3,  4]), array([25, 88,  3,  2,  2,  2]))\n",
      "2.7114228456913825 (array([-1,  0,  1,  2,  3,  4]), array([25, 88,  3,  2,  2,  2]))\n",
      "2.7134268537074147 (array([-1,  0,  1,  2,  3,  4]), array([25, 88,  3,  2,  2,  2]))\n",
      "2.715430861723447 (array([-1,  0,  1,  2,  3,  4]), array([24, 89,  3,  2,  2,  2]))\n",
      "2.717434869739479 (array([-1,  0,  1,  2,  3,  4]), array([24, 89,  3,  2,  2,  2]))\n",
      "2.719438877755511 (array([-1,  0,  1,  2,  3,  4]), array([24, 89,  3,  2,  2,  2]))\n",
      "2.721442885771543 (array([-1,  0,  1,  2,  3,  4]), array([24, 89,  3,  2,  2,  2]))\n",
      "2.723446893787575 (array([-1,  0,  1,  2,  3,  4]), array([24, 89,  3,  2,  2,  2]))\n",
      "2.7254509018036073 (array([-1,  0,  1,  2,  3,  4]), array([24, 89,  3,  2,  2,  2]))\n",
      "2.727454909819639 (array([-1,  0,  1,  2,  3,  4]), array([24, 89,  3,  2,  2,  2]))\n",
      "2.729458917835671 (array([-1,  0,  1,  2,  3,  4]), array([24, 89,  3,  2,  2,  2]))\n",
      "2.7314629258517034 (array([-1,  0,  1,  2,  3,  4]), array([24, 89,  3,  2,  2,  2]))\n",
      "2.7334669338677355 (array([-1,  0,  1,  2,  3,  4]), array([24, 89,  3,  2,  2,  2]))\n",
      "2.7354709418837677 (array([-1,  0,  1,  2,  3,  4]), array([24, 89,  3,  2,  2,  2]))\n",
      "2.7374749498997994 (array([-1,  0,  1,  2,  3,  4]), array([24, 89,  3,  2,  2,  2]))\n",
      "2.7394789579158316 (array([-1,  0,  1,  2,  3,  4]), array([24, 89,  3,  2,  2,  2]))\n",
      "2.741482965931864 (array([-1,  0,  1,  2,  3,  4]), array([24, 89,  3,  2,  2,  2]))\n",
      "2.7434869739478955 (array([-1,  0,  1,  2,  3,  4]), array([24, 89,  3,  2,  2,  2]))\n",
      "2.7454909819639277 (array([-1,  0,  1,  2,  3,  4]), array([24, 89,  3,  2,  2,  2]))\n",
      "2.74749498997996 (array([-1,  0,  1,  2,  3,  4]), array([23, 90,  3,  2,  2,  2]))\n",
      "2.749498997995992 (array([-1,  0,  1,  2,  3,  4]), array([23, 90,  3,  2,  2,  2]))\n",
      "2.7515030060120242 (array([-1,  0,  1,  2,  3,  4]), array([23, 90,  3,  2,  2,  2]))\n",
      "2.753507014028056 (array([-1,  0,  1,  2,  3,  4]), array([23, 90,  3,  2,  2,  2]))\n",
      "2.755511022044088 (array([-1,  0,  1,  2,  3,  4]), array([23, 90,  3,  2,  2,  2]))\n",
      "2.7575150300601203 (array([-1,  0,  1,  2,  3,  4]), array([23, 90,  3,  2,  2,  2]))\n",
      "2.759519038076152 (array([-1,  0,  1,  2,  3,  4]), array([23, 90,  3,  2,  2,  2]))\n",
      "2.7615230460921842 (array([-1,  0,  1,  2,  3,  4]), array([23, 90,  3,  2,  2,  2]))\n",
      "2.7635270541082164 (array([-1,  0,  1,  2,  3,  4]), array([23, 90,  3,  2,  2,  2]))\n",
      "2.7655310621242486 (array([-1,  0,  1,  2,  3,  4]), array([23, 90,  3,  2,  2,  2]))\n",
      "2.7675350701402808 (array([-1,  0,  1,  2,  3,  4]), array([23, 90,  3,  2,  2,  2]))\n",
      "2.7695390781563125 (array([-1,  0,  1,  2,  3,  4]), array([23, 90,  3,  2,  2,  2]))\n",
      "2.7715430861723447 (array([-1,  0,  1,  2,  3,  4]), array([23, 90,  3,  2,  2,  2]))\n",
      "2.773547094188377 (array([-1,  0,  1,  2,  3,  4]), array([22, 91,  3,  2,  2,  2]))\n",
      "2.7755511022044086 (array([-1,  0,  1,  2,  3,  4]), array([22, 91,  3,  2,  2,  2]))\n",
      "2.7775551102204408 (array([-1,  0,  1,  2,  3]), array([22, 94,  2,  2,  2]))\n",
      "2.779559118236473 (array([-1,  0,  1,  2,  3]), array([22, 94,  2,  2,  2]))\n",
      "2.7815631262525047 (array([-1,  0,  1,  2,  3]), array([22, 94,  2,  2,  2]))\n",
      "2.783567134268537 (array([-1,  0,  1,  2,  3]), array([22, 94,  2,  2,  2]))\n",
      "2.785571142284569 (array([-1,  0,  1,  2,  3]), array([22, 94,  2,  2,  2]))\n",
      "2.787575150300601 (array([-1,  0,  1,  2,  3]), array([22, 94,  2,  2,  2]))\n",
      "2.7895791583166334 (array([-1,  0,  1,  2,  3]), array([22, 94,  2,  2,  2]))\n",
      "2.791583166332665 (array([-1,  0,  1,  2,  3]), array([22, 94,  2,  2,  2]))\n",
      "2.7935871743486973 (array([-1,  0,  1,  2,  3]), array([22, 94,  2,  2,  2]))\n",
      "2.7955911823647295 (array([-1,  0,  1,  2,  3]), array([22, 94,  2,  2,  2]))\n",
      "2.797595190380761 (array([-1,  0,  1,  2,  3]), array([22, 94,  2,  2,  2]))\n",
      "2.7995991983967934 (array([-1,  0,  1,  2,  3]), array([22, 94,  2,  2,  2]))\n",
      "2.8016032064128256 (array([-1,  0,  1,  2,  3]), array([22, 94,  2,  2,  2]))\n",
      "2.8036072144288577 (array([-1,  0,  1,  2,  3]), array([22, 94,  2,  2,  2]))\n",
      "2.80561122244489 (array([-1,  0,  1,  2,  3]), array([21, 95,  2,  2,  2]))\n",
      "2.8076152304609217 (array([-1,  0,  1,  2]), array([21, 97,  2,  2]))\n",
      "2.809619238476954 (array([-1,  0,  1,  2]), array([21, 97,  2,  2]))\n",
      "2.811623246492986 (array([-1,  0,  1,  2]), array([21, 97,  2,  2]))\n",
      "2.8136272545090177 (array([-1,  0,  1,  2]), array([21, 97,  2,  2]))\n",
      "2.81563126252505 (array([-1,  0,  1,  2]), array([21, 97,  2,  2]))\n",
      "2.817635270541082 (array([-1,  0,  1,  2]), array([21, 97,  2,  2]))\n",
      "2.8196392785571143 (array([-1,  0,  1,  2]), array([21, 97,  2,  2]))\n",
      "2.8216432865731464 (array([-1,  0,  1,  2]), array([21, 97,  2,  2]))\n",
      "2.823647294589178 (array([-1,  0,  1,  2]), array([21, 97,  2,  2]))\n",
      "2.8256513026052104 (array([-1,  0,  1,  2]), array([21, 97,  2,  2]))\n",
      "2.8276553106212425 (array([-1,  0,  1,  2]), array([21, 97,  2,  2]))\n",
      "2.8296593186372743 (array([-1,  0,  1,  2]), array([21, 97,  2,  2]))\n",
      "2.8316633266533064 (array([-1,  0,  1,  2]), array([21, 97,  2,  2]))\n",
      "2.8336673346693386 (array([-1,  0,  1,  2]), array([21, 97,  2,  2]))\n",
      "2.835671342685371 (array([-1,  0,  1,  2]), array([21, 97,  2,  2]))\n",
      "2.837675350701403 (array([-1,  0,  1,  2]), array([21, 97,  2,  2]))\n",
      "2.8396793587174347 (array([-1,  0,  1,  2]), array([21, 97,  2,  2]))\n",
      "2.841683366733467 (array([-1,  0,  1,  2]), array([21, 97,  2,  2]))\n",
      "2.843687374749499 (array([-1,  0,  1,  2]), array([21, 97,  2,  2]))\n",
      "2.845691382765531 (array([-1,  0,  1,  2]), array([21, 97,  2,  2]))\n",
      "2.847695390781563 (array([-1,  0,  1,  2]), array([21, 97,  2,  2]))\n",
      "2.849699398797595 (array([-1,  0,  1,  2]), array([21, 97,  2,  2]))\n",
      "2.8517034068136273 (array([-1,  0,  1,  2]), array([21, 97,  2,  2]))\n",
      "2.8537074148296595 (array([-1,  0,  1,  2]), array([21, 97,  2,  2]))\n",
      "2.8557114228456912 (array([-1,  0,  1,  2]), array([21, 97,  2,  2]))\n",
      "2.8577154308617234 (array([-1,  0,  1,  2]), array([21, 97,  2,  2]))\n",
      "2.8597194388777556 (array([-1,  0,  1,  2]), array([21, 97,  2,  2]))\n",
      "2.8617234468937873 (array([-1,  0,  1,  2]), array([21, 97,  2,  2]))\n",
      "2.8637274549098195 (array([-1,  0,  1,  2]), array([21, 97,  2,  2]))\n",
      "2.8657314629258517 (array([-1,  0,  1,  2]), array([21, 97,  2,  2]))\n",
      "2.867735470941884 (array([-1,  0,  1,  2]), array([21, 97,  2,  2]))\n",
      "2.869739478957916 (array([-1,  0,  1,  2]), array([21, 97,  2,  2]))\n",
      "2.8717434869739478 (array([-1,  0,  1,  2]), array([21, 97,  2,  2]))\n",
      "2.87374749498998 (array([-1,  0,  1,  2]), array([20, 98,  2,  2]))\n",
      "2.875751503006012 (array([-1,  0,  1,  2]), array([20, 98,  2,  2]))\n",
      "2.877755511022044 (array([-1,  0,  1,  2]), array([20, 98,  2,  2]))\n",
      "2.879759519038076 (array([-1,  0,  1,  2]), array([20, 98,  2,  2]))\n",
      "2.881763527054108 (array([-1,  0,  1,  2]), array([20, 98,  2,  2]))\n",
      "2.88376753507014 (array([-1,  0,  1,  2]), array([20, 98,  2,  2]))\n",
      "2.885771543086172 (array([-1,  0,  1]), array([ 20, 100,   2]))\n",
      "2.8877755511022043 (array([-1,  0,  1]), array([ 20, 100,   2]))\n",
      "2.8897795591182365 (array([-1,  0,  1]), array([ 20, 100,   2]))\n",
      "2.8917835671342687 (array([-1,  0,  1]), array([ 20, 100,   2]))\n",
      "2.8937875751503004 (array([-1,  0,  1]), array([ 20, 100,   2]))\n",
      "2.8957915831663326 (array([-1,  0,  1]), array([ 20, 100,   2]))\n",
      "2.8977955911823647 (array([-1,  0,  1]), array([ 20, 100,   2]))\n",
      "2.8997995991983965 (array([-1,  0,  1]), array([ 20, 100,   2]))\n",
      "2.9018036072144286 (array([-1,  0,  1]), array([ 20, 100,   2]))\n",
      "2.903807615230461 (array([-1,  0,  1]), array([ 20, 100,   2]))\n",
      "2.905811623246493 (array([-1,  0,  1]), array([ 20, 100,   2]))\n",
      "2.907815631262525 (array([-1,  0,  1]), array([ 20, 100,   2]))\n",
      "2.909819639278557 (array([-1,  0,  1]), array([ 20, 100,   2]))\n",
      "2.911823647294589 (array([-1,  0,  1]), array([ 19, 101,   2]))\n",
      "2.9138276553106213 (array([-1,  0,  1]), array([ 19, 101,   2]))\n",
      "2.915831663326653 (array([-1,  0,  1]), array([ 19, 101,   2]))\n",
      "2.917835671342685 (array([-1,  0,  1]), array([ 19, 101,   2]))\n",
      "2.9198396793587174 (array([-1,  0,  1]), array([ 19, 101,   2]))\n",
      "2.9218436873747495 (array([-1,  0,  1]), array([ 19, 101,   2]))\n",
      "2.9238476953907817 (array([-1,  0,  1]), array([ 19, 101,   2]))\n",
      "2.9258517034068134 (array([-1,  0,  1]), array([ 19, 101,   2]))\n",
      "2.9278557114228456 (array([-1,  0,  1]), array([ 19, 101,   2]))\n",
      "2.929859719438878 (array([-1,  0,  1]), array([ 19, 101,   2]))\n",
      "2.9318637274549095 (array([-1,  0,  1]), array([ 19, 101,   2]))\n",
      "2.9338677354709417 (array([-1,  0,  1]), array([ 19, 101,   2]))\n",
      "2.935871743486974 (array([-1,  0,  1]), array([ 19, 101,   2]))\n",
      "2.937875751503006 (array([-1,  0,  1]), array([ 19, 101,   2]))\n",
      "2.9398797595190382 (array([-1,  0,  1]), array([ 19, 101,   2]))\n",
      "2.94188376753507 (array([-1,  0,  1]), array([ 19, 101,   2]))\n",
      "2.943887775551102 (array([-1,  0,  1]), array([ 19, 101,   2]))\n",
      "2.9458917835671343 (array([-1,  0,  1]), array([ 19, 101,   2]))\n",
      "2.947895791583166 (array([-1,  0,  1]), array([ 19, 101,   2]))\n",
      "2.9498997995991982 (array([-1,  0,  1]), array([ 19, 101,   2]))\n",
      "2.9519038076152304 (array([-1,  0,  1]), array([ 19, 101,   2]))\n",
      "2.9539078156312626 (array([-1,  0,  1]), array([ 19, 101,   2]))\n",
      "2.9559118236472948 (array([-1,  0,  1]), array([ 19, 101,   2]))\n",
      "2.9579158316633265 (array([-1,  0,  1]), array([ 19, 101,   2]))\n",
      "2.9599198396793587 (array([-1,  0,  1]), array([ 19, 101,   2]))\n",
      "2.961923847695391 (array([-1,  0,  1]), array([ 18, 102,   2]))\n",
      "2.9639278557114226 (array([-1,  0,  1]), array([ 18, 102,   2]))\n",
      "2.9659318637274548 (array([-1,  0,  1]), array([ 18, 102,   2]))\n",
      "2.967935871743487 (array([-1,  0,  1]), array([ 18, 102,   2]))\n",
      "2.969939879759519 (array([-1,  0,  1]), array([ 18, 102,   2]))\n",
      "2.9719438877755513 (array([-1,  0,  1]), array([ 18, 102,   2]))\n",
      "2.973947895791583 (array([-1,  0,  1]), array([ 18, 102,   2]))\n",
      "2.975951903807615 (array([-1,  0,  1]), array([ 18, 102,   2]))\n",
      "2.9779559118236474 (array([-1,  0,  1]), array([ 18, 102,   2]))\n",
      "2.979959919839679 (array([-1,  0,  1]), array([ 18, 102,   2]))\n",
      "2.9819639278557113 (array([-1,  0,  1]), array([ 18, 102,   2]))\n",
      "2.9839679358717435 (array([-1,  0,  1]), array([ 18, 102,   2]))\n",
      "2.985971943887775 (array([-1,  0,  1]), array([ 18, 102,   2]))\n",
      "2.9879759519038074 (array([-1,  0,  1]), array([ 18, 102,   2]))\n",
      "2.9899799599198396 (array([-1,  0,  1]), array([ 18, 102,   2]))\n",
      "2.9919839679358717 (array([-1,  0,  1]), array([ 18, 102,   2]))\n",
      "2.993987975951904 (array([-1,  0,  1]), array([ 18, 102,   2]))\n",
      "2.9959919839679356 (array([-1,  0,  1]), array([ 17, 103,   2]))\n",
      "2.997995991983968 (array([-1,  0,  1]), array([ 17, 103,   2]))\n",
      "3.0 (array([-1,  0,  1]), array([ 17, 103,   2]))\n"
     ]
    }
   ],
   "source": [
    "from sklearn.cluster import DBSCAN\n",
    "import numpy as np\n",
    "for eps in np.linspace(2,3,500):\n",
    "    clustering = DBSCAN(eps=eps, min_samples=2, metric=\"euclidean\").fit(GMM_means) #, metric_params={\"V\": GMM_covariances} mahalanobis\n",
    "\n",
    "    print(eps, np.unique(clustering.labels_, return_counts=True))"
   ]
  },
  {
   "cell_type": "code",
   "execution_count": 13,
   "metadata": {},
   "outputs": [
    {
     "data": {
      "text/plain": [
       "(array([-1,  0,  1,  2,  3]), array([61, 54,  3,  2,  2]))"
      ]
     },
     "execution_count": 13,
     "metadata": {},
     "output_type": "execute_result"
    }
   ],
   "source": [
    "np.unique(clustering.labels_, return_counts=True)"
   ]
  },
  {
   "cell_type": "markdown",
   "metadata": {},
   "source": [
    "# Load the model (1s cadence, 128 point segments) 20 latent variables"
   ]
  },
  {
   "cell_type": "code",
   "execution_count": 3,
   "metadata": {},
   "outputs": [],
   "source": [
    "with open('../../../data_GRS1915/594483_len128_stride8_1sec_cad_counts_errorfix.pkl', 'rb') as f:\n",
    "    segments = pickle.load(f)\n",
    "with open('../../../data_GRS1915/594483_len128_stride8_1sec_cad_errors_errorfix.pkl', 'rb') as f:\n",
    "    errors = pickle.load(f)\n",
    "    \n",
    "errors = ((errors)/np.expand_dims(np.std(segments, axis=1), axis=1)).astype(np.float32)\n",
    "segments = zscore(segments, axis=1).astype(np.float32)  # standardize per segment\n",
    "\n",
    "# intersection_indices_1s = [n for n, x in enumerate(ids_1s) if x.split(\"_\")[0] in val_obs_intersection]"
   ]
  },
  {
   "cell_type": "code",
   "execution_count": 4,
   "metadata": {},
   "outputs": [],
   "source": [
    "weights_dir = \"../../../model_weights/model_2020-12-02_15-00-24.h5\" #exp166\n",
    "\n",
    "class Sampling(layers.Layer):\n",
    "    \"\"\"Uses (z_mean, z_log_var) to sample z, the vector encoding a digit.\n",
    "    https://www.tensorflow.org/guide/keras/custom_layers_and_models#putting_it_all_together_an_end-to-end_example\"\"\"\n",
    "    \n",
    "    def call(self, inputs):\n",
    "        z_mean, z_log_var = inputs\n",
    "        batch = tf.shape(z_mean)[0]\n",
    "        dim = tf.shape(z_mean)[1]\n",
    "        epsilon = tf.keras.backend.random_normal(shape=(batch, dim))\n",
    "        return z_mean + tf.exp(0.5 * z_log_var) * epsilon\n",
    "\n",
    "\n",
    "original_dim = 128\n",
    "intermediate_dim = 1024\n",
    "latent_dim = 20\n",
    "\n",
    "# Define encoder model.\n",
    "original_inputs = tf.keras.Input(shape=(original_dim,1), name='encoder_input')\n",
    "input_err = Input(shape=(original_dim,1))\n",
    "x = layers.CuDNNLSTM(intermediate_dim, return_sequences=False)(original_inputs)\n",
    "z_mean = layers.Dense(latent_dim, name='z_mean')(x)\n",
    "z_log_var = layers.Dense(latent_dim, name='z_log_var')(x)\n",
    "z = Sampling()((z_mean, z_log_var))\n",
    "encoder = tf.keras.Model(inputs=original_inputs, outputs=z, name='encoder')\n",
    "\n",
    "# Define decoder model.\n",
    "latent_inputs = tf.keras.Input(shape=(latent_dim,), name='z_sampling')\n",
    "x = layers.RepeatVector(original_dim)(latent_inputs)\n",
    "x = layers.CuDNNLSTM(intermediate_dim, return_sequences=True)(x)\n",
    "outputs = layers.TimeDistributed(layers.Dense(1))(x)\n",
    "decoder = tf.keras.Model(inputs=latent_inputs, outputs=outputs, name='decoder')\n",
    "\n",
    "# Define VAE model.\n",
    "outputs = decoder(z)\n",
    "vae = tf.keras.Model(inputs=[original_inputs, input_err], outputs=outputs, name='vae')\n",
    "\n",
    "vae.load_weights(weights_dir)"
   ]
  },
  {
   "cell_type": "markdown",
   "metadata": {},
   "source": [
    "# Encode the data set (shape)"
   ]
  },
  {
   "cell_type": "code",
   "execution_count": 5,
   "metadata": {},
   "outputs": [
    {
     "name": "stdout",
     "output_type": "stream",
     "text": [
      "594482\n"
     ]
    }
   ],
   "source": [
    "trained_encoder = tf.keras.Model(inputs=vae.input, outputs=[vae.get_layer(\"z_mean\").output, vae.get_layer(\"z_log_var\").output])\n",
    "segment_encoding = np.zeros((segments.shape[0], 2, 20))\n",
    "for seg_ind, seg in enumerate(segments):\n",
    "    prediction = trained_encoder.predict([np.expand_dims(seg, axis=0), np.expand_dims(errors[seg_ind], axis=0)])\n",
    "    segment_encoding[seg_ind][0] = prediction[0].flatten()\n",
    "    segment_encoding[seg_ind][1] = prediction[1].flatten()\n",
    "    print(seg_ind)\n",
    "    clear_output(wait=True)\n",
    "    "
   ]
  },
  {
   "cell_type": "code",
   "execution_count": 7,
   "metadata": {},
   "outputs": [],
   "source": [
    "segments_dir = \"/594483_len128_stride8_1sec_cad_counts_errorfix.pkl\""
   ]
  },
  {
   "cell_type": "code",
   "execution_count": 8,
   "metadata": {},
   "outputs": [
    {
     "name": "stdout",
     "output_type": "stream",
     "text": [
      "Encodings saved to:  ../../../data_GRS1915/segment_encoding_model_2020-12-02_15-00-24_segments_594483_len128_stride8_1sec_cad_counts_errorfix.pkl\n"
     ]
    }
   ],
   "source": [
    "segment_encoding_dir = '../../../data_GRS1915/segment_encoding_{}_segments_{}.pkl'.format(weights_dir.split(\"/\")[-1].split(\".\")[0], segments_dir.split(\"/\")[-1].split(\".\")[0])\n",
    "with open(segment_encoding_dir, 'wb') as f:\n",
    "    pickle.dump(segment_encoding, f)\n",
    "print(\"Encodings saved to: \", segment_encoding_dir)"
   ]
  },
  {
   "cell_type": "code",
   "execution_count": 10,
   "metadata": {},
   "outputs": [
    {
     "data": {
      "text/plain": [
       "(594483, 2, 20)"
      ]
     },
     "execution_count": 10,
     "metadata": {},
     "output_type": "execute_result"
    }
   ],
   "source": [
    "segment_encoding.shape"
   ]
  },
  {
   "cell_type": "markdown",
   "metadata": {},
   "source": [
    "# Use GMM to classify observations\n",
    "\n",
    " - reuse code from cluster_analysis_new.ipynb"
   ]
  },
  {
   "cell_type": "markdown",
   "metadata": {},
   "source": [
    "## 250 component GMM"
   ]
  },
  {
   "cell_type": "code",
   "execution_count": 15,
   "metadata": {},
   "outputs": [
    {
     "name": "stdout",
     "output_type": "stream",
     "text": [
      "The autoreload extension is already loaded. To reload it, use:\n",
      "  %reload_ext autoreload\n"
     ]
    }
   ],
   "source": [
    "%load_ext autoreload\n",
    "%autoreload 2\n",
    "from IPython.display import clear_output\n",
    "import os\n",
    "import fnmatch\n",
    "import numpy as np\n",
    "import pickle\n",
    "import matplotlib.pyplot as plt\n",
    "import umap\n",
    "from sklearn.mixture import GaussianMixture\n",
    "from scipy import stats\n",
    "import pandas as pd\n",
    "# from sklearn.cluster import OPTICS\n",
    "\n",
    "from scipy.stats import zscore\n",
    "\n",
    "plt.rcParams['figure.figsize'] = (5.0, 5.0)\n",
    "plt.rcParams.update({'font.size': 12})\n",
    "plt.rcParams.update(plt.rcParamsDefault)\n",
    "\n",
    "np.random.seed(seed=11)\n",
    "\n",
    "\n",
    "cwd = os.getcwd()\n",
    "\n",
    "if cwd.split(\"/\")[1] == \"export\":\n",
    "    data_dir = \"../../../files_from_snuffy\"\n",
    "else:\n",
    "    data_dir = \"../../../data_GRS1915\"\n",
    "\n",
    "\n",
    "from sklearn.mixture import GaussianMixture"
   ]
  },
  {
   "cell_type": "code",
   "execution_count": 2,
   "metadata": {},
   "outputs": [],
   "source": [
    "clean_belloni = open('{}/1915Belloniclass_updated.dat'.format(data_dir))\n",
    "lines = clean_belloni.readlines()\n",
    "states = lines[0].split()\n",
    "belloni_clean = {}\n",
    "for h,l in zip(states, lines[1:]):\n",
    "    belloni_clean[h] = l.split()\n",
    "    #state: obsID1, obsID2...\n",
    "ob_state = {}\n",
    "for state, obs in belloni_clean.items():\n",
    "    if state == \"chi1\" or state == \"chi2\" or state == \"chi3\" or state == \"chi4\": state = \"chi\"\n",
    "    for ob in obs:\n",
    "        ob_state[ob] = state\n",
    "\n",
    "        \n",
    "# inverse the ob_state dictionary, so that inv_ob_state contains {\"state name\" : [list of observation IDs], ...}\n",
    "\n",
    "inv_ob_state = {}\n",
    "for k, v in ob_state.items():\n",
    "    inv_ob_state[v] = inv_ob_state.get(v, [])\n",
    "    inv_ob_state[v].append(k)"
   ]
  },
  {
   "cell_type": "code",
   "execution_count": 3,
   "metadata": {},
   "outputs": [],
   "source": [
    "with open('{}/594483_len128_stride8_1sec_cad_ids_errorfix.pkl'.format(data_dir), 'rb') as f:\n",
    "    seg_ids = pickle.load(f)"
   ]
  },
  {
   "cell_type": "code",
   "execution_count": 35,
   "metadata": {},
   "outputs": [],
   "source": [
    "seg_ObIDs = [seg.split(\"_\")[0] for seg in seg_ids] # get rid of the within-observation segment indices and create a degenerate list of observation IDs\n",
    "\n",
    "\n",
    "compar_results = np.zeros((2,1))\n",
    "\n",
    "\n",
    "test_sets = []\n",
    "train_sets = []\n",
    "# split the observations into test and training sets\n",
    "for test_iter in range(1000):\n",
    "    test_set = []\n",
    "    train_set = []\n",
    "    \n",
    "    # split is stratified, so done separately for each class\n",
    "    for class_name in [\"alpha\", \"beta\", \"gamma\", \"delta\", \"theta\", \"kappa\", \"lambda\", \"mu\", \"nu\", \"rho\", \"phi\", \"chi\", \"eta\", \"omega\"]:\n",
    "\n",
    "        class_obs_all = inv_ob_state[class_name] # all labeled observation IDs of this class\n",
    "        # exclude observations which did not produce any light curve segments\n",
    "        class_obs = []\n",
    "        for ob in class_obs_all:\n",
    "            if ob in seg_ObIDs: # seg_ObIDs contains observation ID for each of the 468202 light curve segments\n",
    "                class_obs.append(ob)\n",
    "        \n",
    "        # pick 1/3 of observations for the test set (previously replace=True was set!!!!)\n",
    "        test_obs = np.random.choice(class_obs, size=int(np.ceil(len(class_obs)/3)), replace=False) \n",
    "        \n",
    "        if len(test_obs) == 0:\n",
    "            print(class_name)\n",
    "        \n",
    "        # use the remaining observations as training set\n",
    "        train_obs = []\n",
    "        for ob in class_obs:\n",
    "            if ob not in test_obs:\n",
    "                train_obs.append(ob)\n",
    "        test_set.append(test_obs)\n",
    "        train_set.append(train_obs)\n",
    "\n",
    "    test_set=np.hstack(test_set)\n",
    "    train_set=np.hstack(train_set)\n",
    "    test_sets.append(test_set)\n",
    "    train_sets.append(train_set)\n"
   ]
  },
  {
   "cell_type": "code",
   "execution_count": 6,
   "metadata": {},
   "outputs": [
    {
     "name": "stderr",
     "output_type": "stream",
     "text": [
      "/home/jkok1g14/anaconda3/envs/py38/lib/python3.8/site-packages/sklearn/base.py:329: UserWarning: Trying to unpickle estimator GaussianMixture from version 0.22.1 when using version 0.23.1. This might lead to breaking code or invalid results. Use at your own risk.\n",
      "  warnings.warn(\n"
     ]
    }
   ],
   "source": [
    "with open('{}/GMM_250comps_model_2020-12-02_15-00-24_segments_594483_len128_stride8_1sec_cad_counts_errorfix.pkl'.format(data_dir), 'rb') as f:\n",
    "    GMmodel = pickle.load(f)"
   ]
  },
  {
   "cell_type": "code",
   "execution_count": 10,
   "metadata": {},
   "outputs": [],
   "source": [
    "# load light curve segments\n",
    "with open('{}/594483_len128_stride8_1sec_cad_counts_errorfix.pkl'.format(data_dir), 'rb') as f:\n",
    "    segments_counts = pickle.load(f)\n",
    "    \n",
    "# load latent variables for light curve segments\n",
    "weights_dir = \"../../../model_weights/model_2020-12-02_15-00-24.h5\"\n",
    "segments_dir = '../../../data_GRS1915/594483_len128_stride8_1sec_cad_counts_errorfix.pkl'\n",
    "segment_encoding_dir = '{}/segment_encoding_{}_segments_{}.pkl'.format(data_dir, weights_dir.split(\"/\")[-1].split(\".\")[0], segments_dir.split(\"/\")[-1].split(\".\")[0])\n",
    "with open(segment_encoding_dir, 'rb') as f:\n",
    "    segment_encoding = pickle.load(f)\n",
    "\n",
    "# take latent variable means, i.e. 16 values per segment\n",
    "segment_encoding_scaled_means = zscore(segment_encoding[:,0,:], axis=0).astype(np.float32)  # standardize per feature\n",
    "\n",
    "# calculate statistical moments for the segments\n",
    "desc_stats = np.zeros((len(segments_counts), 4)) #mean, std, skew, kurt\n",
    "desc_stats[:,0] = np.mean(segments_counts, axis=1).flatten()\n",
    "desc_stats[:,1] = np.std(segments_counts, axis=1).flatten()\n",
    "desc_stats[:,2] = stats.skew(segments_counts, axis=1).flatten()\n",
    "desc_stats[:,3] = stats.kurtosis(segments_counts, axis=1).flatten()\n",
    "zscore_desc_stats = zscore(desc_stats, axis=0)\n",
    "\n",
    "# merge the two types of features; shape of shape_moments is [468202, 20]\n",
    "shape_moments = np.hstack((segment_encoding_scaled_means, zscore_desc_stats)) # every column is standardized"
   ]
  },
  {
   "cell_type": "code",
   "execution_count": 11,
   "metadata": {},
   "outputs": [],
   "source": [
    "shape_moments_GMM250_labels = GMmodel.predict(shape_moments)"
   ]
  },
  {
   "cell_type": "code",
   "execution_count": 12,
   "metadata": {},
   "outputs": [],
   "source": [
    "# make a dict that groups indices of segments of the same observation \n",
    "# i.e. where each observation id can be found in seg_ObIDs\n",
    "#i.e. ObID_SegIndices_dict == {'10258-01-01-00': [916, 949, 1046...467528, 467578], ....}\n",
    "ObID_SegIndices_dict = {key:[] for key in np.unique(seg_ObIDs)}\n",
    "for ID_index, ObID in enumerate(seg_ObIDs):\n",
    "    ObID_SegIndices_dict.setdefault(ObID, []).append(ID_index)"
   ]
  },
  {
   "cell_type": "code",
   "execution_count": 13,
   "metadata": {},
   "outputs": [],
   "source": [
    "# make a dictionary of Gaussian component labels instead of segment indices  \n",
    "#i.e. ObID_GaussComps_dict_500 == {'10258-01-01-00': [401, 433, 382...101, 152], ....}\n",
    "ObID_GaussComps_dict_250 = {}\n",
    "for ObID, Indices in ObID_SegIndices_dict.items():\n",
    "    ObID_GaussComps_dict_250[ObID] = [shape_moments_GMM250_labels[ind] for ind in Indices]"
   ]
  },
  {
   "cell_type": "code",
   "execution_count": 16,
   "metadata": {},
   "outputs": [],
   "source": [
    "# make a data frame containing the counts of light curve segments in each of the Gaussian components, for each observation\n",
    "obs_component_counts_df_250 = pd.DataFrame(np.zeros((len(ObID_GaussComps_dict_250),len(np.unique(shape_moments_GMM250_labels)))), index=np.unique(seg_ObIDs), columns=list(range(250)), dtype=int)"
   ]
  },
  {
   "cell_type": "code",
   "execution_count": 17,
   "metadata": {},
   "outputs": [
    {
     "data": {
      "text/html": [
       "<div>\n",
       "<style scoped>\n",
       "    .dataframe tbody tr th:only-of-type {\n",
       "        vertical-align: middle;\n",
       "    }\n",
       "\n",
       "    .dataframe tbody tr th {\n",
       "        vertical-align: top;\n",
       "    }\n",
       "\n",
       "    .dataframe thead th {\n",
       "        text-align: right;\n",
       "    }\n",
       "</style>\n",
       "<table border=\"1\" class=\"dataframe\">\n",
       "  <thead>\n",
       "    <tr style=\"text-align: right;\">\n",
       "      <th></th>\n",
       "      <th>0</th>\n",
       "      <th>1</th>\n",
       "      <th>2</th>\n",
       "      <th>3</th>\n",
       "      <th>4</th>\n",
       "      <th>5</th>\n",
       "      <th>6</th>\n",
       "      <th>7</th>\n",
       "      <th>8</th>\n",
       "      <th>9</th>\n",
       "      <th>...</th>\n",
       "      <th>240</th>\n",
       "      <th>241</th>\n",
       "      <th>242</th>\n",
       "      <th>243</th>\n",
       "      <th>244</th>\n",
       "      <th>245</th>\n",
       "      <th>246</th>\n",
       "      <th>247</th>\n",
       "      <th>248</th>\n",
       "      <th>249</th>\n",
       "    </tr>\n",
       "  </thead>\n",
       "  <tbody>\n",
       "    <tr>\n",
       "      <th>10258-01-01-00</th>\n",
       "      <td>0</td>\n",
       "      <td>0</td>\n",
       "      <td>0</td>\n",
       "      <td>2</td>\n",
       "      <td>12</td>\n",
       "      <td>0</td>\n",
       "      <td>0</td>\n",
       "      <td>0</td>\n",
       "      <td>0</td>\n",
       "      <td>0</td>\n",
       "      <td>...</td>\n",
       "      <td>0</td>\n",
       "      <td>11</td>\n",
       "      <td>0</td>\n",
       "      <td>0</td>\n",
       "      <td>0</td>\n",
       "      <td>0</td>\n",
       "      <td>0</td>\n",
       "      <td>0</td>\n",
       "      <td>4</td>\n",
       "      <td>0</td>\n",
       "    </tr>\n",
       "    <tr>\n",
       "      <th>10258-01-02-00</th>\n",
       "      <td>0</td>\n",
       "      <td>0</td>\n",
       "      <td>0</td>\n",
       "      <td>8</td>\n",
       "      <td>23</td>\n",
       "      <td>0</td>\n",
       "      <td>7</td>\n",
       "      <td>0</td>\n",
       "      <td>0</td>\n",
       "      <td>0</td>\n",
       "      <td>...</td>\n",
       "      <td>0</td>\n",
       "      <td>37</td>\n",
       "      <td>0</td>\n",
       "      <td>0</td>\n",
       "      <td>0</td>\n",
       "      <td>0</td>\n",
       "      <td>0</td>\n",
       "      <td>0</td>\n",
       "      <td>34</td>\n",
       "      <td>0</td>\n",
       "    </tr>\n",
       "    <tr>\n",
       "      <th>10258-01-03-00</th>\n",
       "      <td>0</td>\n",
       "      <td>0</td>\n",
       "      <td>7</td>\n",
       "      <td>7</td>\n",
       "      <td>5</td>\n",
       "      <td>0</td>\n",
       "      <td>42</td>\n",
       "      <td>0</td>\n",
       "      <td>0</td>\n",
       "      <td>0</td>\n",
       "      <td>...</td>\n",
       "      <td>0</td>\n",
       "      <td>21</td>\n",
       "      <td>0</td>\n",
       "      <td>0</td>\n",
       "      <td>0</td>\n",
       "      <td>0</td>\n",
       "      <td>27</td>\n",
       "      <td>0</td>\n",
       "      <td>10</td>\n",
       "      <td>0</td>\n",
       "    </tr>\n",
       "    <tr>\n",
       "      <th>10258-01-04-00</th>\n",
       "      <td>0</td>\n",
       "      <td>0</td>\n",
       "      <td>356</td>\n",
       "      <td>0</td>\n",
       "      <td>0</td>\n",
       "      <td>0</td>\n",
       "      <td>26</td>\n",
       "      <td>0</td>\n",
       "      <td>0</td>\n",
       "      <td>0</td>\n",
       "      <td>...</td>\n",
       "      <td>0</td>\n",
       "      <td>6</td>\n",
       "      <td>0</td>\n",
       "      <td>0</td>\n",
       "      <td>0</td>\n",
       "      <td>0</td>\n",
       "      <td>120</td>\n",
       "      <td>0</td>\n",
       "      <td>4</td>\n",
       "      <td>0</td>\n",
       "    </tr>\n",
       "    <tr>\n",
       "      <th>10258-01-05-00</th>\n",
       "      <td>0</td>\n",
       "      <td>0</td>\n",
       "      <td>0</td>\n",
       "      <td>0</td>\n",
       "      <td>0</td>\n",
       "      <td>0</td>\n",
       "      <td>0</td>\n",
       "      <td>0</td>\n",
       "      <td>0</td>\n",
       "      <td>0</td>\n",
       "      <td>...</td>\n",
       "      <td>0</td>\n",
       "      <td>0</td>\n",
       "      <td>0</td>\n",
       "      <td>0</td>\n",
       "      <td>0</td>\n",
       "      <td>0</td>\n",
       "      <td>0</td>\n",
       "      <td>0</td>\n",
       "      <td>0</td>\n",
       "      <td>0</td>\n",
       "    </tr>\n",
       "    <tr>\n",
       "      <th>...</th>\n",
       "      <td>...</td>\n",
       "      <td>...</td>\n",
       "      <td>...</td>\n",
       "      <td>...</td>\n",
       "      <td>...</td>\n",
       "      <td>...</td>\n",
       "      <td>...</td>\n",
       "      <td>...</td>\n",
       "      <td>...</td>\n",
       "      <td>...</td>\n",
       "      <td>...</td>\n",
       "      <td>...</td>\n",
       "      <td>...</td>\n",
       "      <td>...</td>\n",
       "      <td>...</td>\n",
       "      <td>...</td>\n",
       "      <td>...</td>\n",
       "      <td>...</td>\n",
       "      <td>...</td>\n",
       "      <td>...</td>\n",
       "      <td>...</td>\n",
       "    </tr>\n",
       "    <tr>\n",
       "      <th>96701-01-50-01</th>\n",
       "      <td>0</td>\n",
       "      <td>0</td>\n",
       "      <td>18</td>\n",
       "      <td>1</td>\n",
       "      <td>0</td>\n",
       "      <td>0</td>\n",
       "      <td>0</td>\n",
       "      <td>0</td>\n",
       "      <td>0</td>\n",
       "      <td>0</td>\n",
       "      <td>...</td>\n",
       "      <td>0</td>\n",
       "      <td>1</td>\n",
       "      <td>0</td>\n",
       "      <td>0</td>\n",
       "      <td>0</td>\n",
       "      <td>0</td>\n",
       "      <td>10</td>\n",
       "      <td>0</td>\n",
       "      <td>0</td>\n",
       "      <td>0</td>\n",
       "    </tr>\n",
       "    <tr>\n",
       "      <th>96701-01-51-00</th>\n",
       "      <td>0</td>\n",
       "      <td>0</td>\n",
       "      <td>12</td>\n",
       "      <td>0</td>\n",
       "      <td>0</td>\n",
       "      <td>0</td>\n",
       "      <td>2</td>\n",
       "      <td>0</td>\n",
       "      <td>0</td>\n",
       "      <td>0</td>\n",
       "      <td>...</td>\n",
       "      <td>0</td>\n",
       "      <td>0</td>\n",
       "      <td>0</td>\n",
       "      <td>0</td>\n",
       "      <td>0</td>\n",
       "      <td>0</td>\n",
       "      <td>28</td>\n",
       "      <td>0</td>\n",
       "      <td>1</td>\n",
       "      <td>0</td>\n",
       "    </tr>\n",
       "    <tr>\n",
       "      <th>96701-01-51-01</th>\n",
       "      <td>0</td>\n",
       "      <td>0</td>\n",
       "      <td>16</td>\n",
       "      <td>0</td>\n",
       "      <td>1</td>\n",
       "      <td>0</td>\n",
       "      <td>1</td>\n",
       "      <td>0</td>\n",
       "      <td>1</td>\n",
       "      <td>0</td>\n",
       "      <td>...</td>\n",
       "      <td>0</td>\n",
       "      <td>1</td>\n",
       "      <td>0</td>\n",
       "      <td>0</td>\n",
       "      <td>0</td>\n",
       "      <td>0</td>\n",
       "      <td>20</td>\n",
       "      <td>0</td>\n",
       "      <td>1</td>\n",
       "      <td>0</td>\n",
       "    </tr>\n",
       "    <tr>\n",
       "      <th>96701-01-52-00</th>\n",
       "      <td>0</td>\n",
       "      <td>0</td>\n",
       "      <td>22</td>\n",
       "      <td>1</td>\n",
       "      <td>0</td>\n",
       "      <td>0</td>\n",
       "      <td>4</td>\n",
       "      <td>0</td>\n",
       "      <td>0</td>\n",
       "      <td>0</td>\n",
       "      <td>...</td>\n",
       "      <td>0</td>\n",
       "      <td>3</td>\n",
       "      <td>1</td>\n",
       "      <td>0</td>\n",
       "      <td>0</td>\n",
       "      <td>0</td>\n",
       "      <td>20</td>\n",
       "      <td>0</td>\n",
       "      <td>0</td>\n",
       "      <td>0</td>\n",
       "    </tr>\n",
       "    <tr>\n",
       "      <th>96701-01-52-01</th>\n",
       "      <td>0</td>\n",
       "      <td>0</td>\n",
       "      <td>0</td>\n",
       "      <td>3</td>\n",
       "      <td>3</td>\n",
       "      <td>0</td>\n",
       "      <td>11</td>\n",
       "      <td>0</td>\n",
       "      <td>0</td>\n",
       "      <td>0</td>\n",
       "      <td>...</td>\n",
       "      <td>0</td>\n",
       "      <td>2</td>\n",
       "      <td>0</td>\n",
       "      <td>0</td>\n",
       "      <td>0</td>\n",
       "      <td>0</td>\n",
       "      <td>0</td>\n",
       "      <td>0</td>\n",
       "      <td>2</td>\n",
       "      <td>0</td>\n",
       "    </tr>\n",
       "  </tbody>\n",
       "</table>\n",
       "<p>1775 rows × 250 columns</p>\n",
       "</div>"
      ],
      "text/plain": [
       "                0    1    2    3    4    5    6    7    8    9    ...  240  \\\n",
       "10258-01-01-00    0    0    0    2   12    0    0    0    0    0  ...    0   \n",
       "10258-01-02-00    0    0    0    8   23    0    7    0    0    0  ...    0   \n",
       "10258-01-03-00    0    0    7    7    5    0   42    0    0    0  ...    0   \n",
       "10258-01-04-00    0    0  356    0    0    0   26    0    0    0  ...    0   \n",
       "10258-01-05-00    0    0    0    0    0    0    0    0    0    0  ...    0   \n",
       "...             ...  ...  ...  ...  ...  ...  ...  ...  ...  ...  ...  ...   \n",
       "96701-01-50-01    0    0   18    1    0    0    0    0    0    0  ...    0   \n",
       "96701-01-51-00    0    0   12    0    0    0    2    0    0    0  ...    0   \n",
       "96701-01-51-01    0    0   16    0    1    0    1    0    1    0  ...    0   \n",
       "96701-01-52-00    0    0   22    1    0    0    4    0    0    0  ...    0   \n",
       "96701-01-52-01    0    0    0    3    3    0   11    0    0    0  ...    0   \n",
       "\n",
       "                241  242  243  244  245  246  247  248  249  \n",
       "10258-01-01-00   11    0    0    0    0    0    0    4    0  \n",
       "10258-01-02-00   37    0    0    0    0    0    0   34    0  \n",
       "10258-01-03-00   21    0    0    0    0   27    0   10    0  \n",
       "10258-01-04-00    6    0    0    0    0  120    0    4    0  \n",
       "10258-01-05-00    0    0    0    0    0    0    0    0    0  \n",
       "...             ...  ...  ...  ...  ...  ...  ...  ...  ...  \n",
       "96701-01-50-01    1    0    0    0    0   10    0    0    0  \n",
       "96701-01-51-00    0    0    0    0    0   28    0    1    0  \n",
       "96701-01-51-01    1    0    0    0    0   20    0    1    0  \n",
       "96701-01-52-00    3    1    0    0    0   20    0    0    0  \n",
       "96701-01-52-01    2    0    0    0    0    0    0    2    0  \n",
       "\n",
       "[1775 rows x 250 columns]"
      ]
     },
     "execution_count": 17,
     "metadata": {},
     "output_type": "execute_result"
    }
   ],
   "source": [
    "# populate the data frame\n",
    "for ObID, GaussComps in ObID_GaussComps_dict_250.items():\n",
    "    for comp_id, comp_count in np.array(np.unique(GaussComps, return_counts=True)).T:\n",
    "        obs_component_counts_df_250.loc[ObID][comp_id] = comp_count\n",
    "obs_component_counts_df_250"
   ]
  },
  {
   "cell_type": "code",
   "execution_count": 20,
   "metadata": {},
   "outputs": [],
   "source": [
    "obs_component_counts_df_250.iloc[:,:250].div(np.sum(obs_component_counts_df_250.iloc[:,:250], axis=1), axis=\"rows\")\n",
    "obs_component_counts_df_250[\"Class\"] = \"Unknown\""
   ]
  },
  {
   "cell_type": "code",
   "execution_count": 22,
   "metadata": {},
   "outputs": [],
   "source": [
    "for k,v in ob_state.items():\n",
    "    if str(k) in obs_component_counts_df_250.index.values:\n",
    "        obs_component_counts_df_250.loc[str(k), \"Class\"] = v"
   ]
  },
  {
   "cell_type": "code",
   "execution_count": 25,
   "metadata": {},
   "outputs": [
    {
     "data": {
      "text/plain": [
       "array(['Unknown', 'alpha', 'beta', 'chi', 'delta', 'eta', 'gamma',\n",
       "       'kappa', 'lambda', 'mu', 'nu', 'omega', 'phi', 'rho', 'theta'],\n",
       "      dtype=object)"
      ]
     },
     "execution_count": 25,
     "metadata": {},
     "output_type": "execute_result"
    }
   ],
   "source": [
    "np.unique(obs_component_counts_df_250.Class)"
   ]
  },
  {
   "cell_type": "code",
   "execution_count": 28,
   "metadata": {},
   "outputs": [
    {
     "name": "stderr",
     "output_type": "stream",
     "text": [
      "/home/jkok1g14/anaconda3/envs/py38/lib/python3.8/site-packages/sklearn/metrics/_classification.py:1221: UndefinedMetricWarning: Precision and F-score are ill-defined and being set to 0.0 in labels with no predicted samples. Use `zero_division` parameter to control this behavior.\n",
      "  _warn_prf(average, modifier, msg_start, len(result))\n"
     ]
    },
    {
     "name": "stdout",
     "output_type": "stream",
     "text": [
      "              precision    recall  f1-score   support\n",
      "\n",
      "       alpha       1.00      0.67      0.80         3\n",
      "        beta       1.00      1.00      1.00         6\n",
      "         chi       0.90      1.00      0.95        26\n",
      "       delta       0.89      1.00      0.94         8\n",
      "         eta       0.00      0.00      0.00         1\n",
      "       gamma       0.60      0.75      0.67         4\n",
      "       kappa       1.00      0.75      0.86         4\n",
      "      lambda       1.00      0.50      0.67         2\n",
      "          mu       1.00      0.67      0.80         3\n",
      "          nu       1.00      1.00      1.00         1\n",
      "       omega       0.00      0.00      0.00         1\n",
      "         phi       0.75      1.00      0.86         3\n",
      "         rho       1.00      0.86      0.92         7\n",
      "       theta       0.88      1.00      0.93         7\n",
      "\n",
      "    accuracy                           0.89        76\n",
      "   macro avg       0.79      0.73      0.74        76\n",
      "weighted avg       0.88      0.89      0.88        76\n",
      "\n"
     ]
    },
    {
     "data": {
      "image/png": "[encoded data removed]",
      "text/plain": [
       "<Figure size 332x332 with 2 Axes>"
      ]
     },
     "metadata": {},
     "output_type": "display_data"
    }
   ],
   "source": [
    "from sklearn.svm import SVC\n",
    "from  sklearn.ensemble import RandomForestClassifier\n",
    "from sklearn.metrics import classification_report\n",
    "from sklearn.metrics import plot_confusion_matrix\n",
    "\n",
    "from sklearn.metrics import precision_recall_fscore_support\n",
    "from sklearn.metrics import accuracy_score\n",
    "#(y_true, y_pred, *, beta=1.0, labels=None, pos_label=1, average=None, warn_for=('precision', 'recall', 'f-score'), sample_weight=None, zero_division='warn')\n",
    "\n",
    "# import matplotlib.pyplot as plt\n",
    "\n",
    "plt.rcParams['figure.figsize'] = (3.32, 3.32)#(6.97, 6.97)\n",
    "plt.rcParams.update({'font.size': 6})\n",
    "\n",
    "experiment_list = [\n",
    "\n",
    "    [obs_component_counts_df_250, \"Classification with proportional make up of observations in terms of 114 Gaussian mixture components\"],\n",
    "\n",
    "]\n",
    "\n",
    "reports = []\n",
    "# for test_set, train_set in zip(test_sets, train_sets):\n",
    "n=0#3\n",
    "test_set=test_sets[n]\n",
    "train_set=train_sets[n]\n",
    "for dataset, title in experiment_list:\n",
    "    SVC_clf = RandomForestClassifier(random_state=0, class_weight=\"balanced\").fit(dataset.loc[train_set].iloc[:,:250], dataset[\"Class\"].loc[train_set])\n",
    "    if title[-8:] == \"balanced\":\n",
    "        SVC_clf = SVC(gamma=\"auto\", class_weight=\"balanced\").fit(dataset.loc[train_set].iloc[:,:250], dataset[\"Class\"].loc[train_set])\n",
    "\n",
    "    preds = SVC_clf.predict(dataset.loc[test_set].iloc[:,:250])\n",
    "#         reports.append(classification_report(dataset[\"Class\"].loc[test_set], preds))\n",
    "    reports.append(( precision_recall_fscore_support(dataset[\"Class\"].loc[test_set], preds,zero_division=0, average=\"weighted\"),precision_recall_fscore_support(dataset[\"Class\"].loc[test_set], preds,zero_division=0, average=\"macro\"), accuracy_score(dataset[\"Class\"].loc[test_set], preds)))\n",
    "#             precision_recall_fscore_support(dataset[\"Class\"].loc[test_set], preds, average=\"macro\"), precision_recall_fscore_support(dataset[\"Class\"].loc[test_set], preds, average=\"micro\")))\n",
    "#     print(\"{}\".format(title))\n",
    "    print(classification_report(dataset[\"Class\"].loc[test_set], preds))\n",
    "\n",
    "\n",
    "\n",
    "    disp = plot_confusion_matrix(SVC_clf, dataset.loc[test_set].iloc[:,:250], dataset[\"Class\"].loc[test_set],\n",
    "                             cmap=plt.cm.Blues,\n",
    "                             normalize=None)\n",
    "#     disp.ax_.set_title(\"{}\".format(title))\n",
    "    disp.ax_.set_xlabel(\"Predicted class\")\n",
    "    disp.ax_.set_ylabel(\"True class\")\n",
    "    disp.ax_.set_yticklabels([r\"$\\{}$\".format(class_name) for class_name in np.unique(dataset[\"Class\"])[1:]])\n",
    "    disp.ax_.set_xticklabels([r\"$\\{}$\".format(class_name) for class_name in np.unique(dataset[\"Class\"])[1:]])\n",
    "    plt.savefig('figures/classification_matrix.png', dpi=300, bbox_inches = 'tight',pad_inches = 0)\n",
    "\n",
    "    plt.show()\n"
   ]
  },
  {
   "cell_type": "code",
   "execution_count": 36,
   "metadata": {},
   "outputs": [],
   "source": [
    "from sklearn.svm import SVC\n",
    "from  sklearn.ensemble import RandomForestClassifier\n",
    "from sklearn.metrics import classification_report\n",
    "from sklearn.metrics import plot_confusion_matrix\n",
    "\n",
    "from sklearn.metrics import precision_recall_fscore_support\n",
    "from sklearn.metrics import accuracy_score\n",
    "#(y_true, y_pred, *, beta=1.0, labels=None, pos_label=1, average=None, warn_for=('precision', 'recall', 'f-score'), sample_weight=None, zero_division='warn')\n",
    "\n",
    "# import matplotlib.pyplot as plt\n",
    "\n",
    "plt.rcParams['figure.figsize'] = (6.97, 6.97)\n",
    "plt.rcParams.update({'font.size': 6})\n",
    "\n",
    "experiment_list = [\n",
    "\n",
    "    [obs_component_counts_df_250, \"Classification with proportional make up of observations in terms of 114 Gaussian mixture components\"],\n",
    "\n",
    "]\n",
    "\n",
    "\n",
    "reports = []\n",
    "for test_set, train_set in zip(test_sets, train_sets):\n",
    "\n",
    "    for dataset, title in experiment_list:\n",
    "        SVC_clf = RandomForestClassifier(random_state=0, class_weight=\"balanced\").fit(dataset.loc[train_set].iloc[:,:250], [ob_state[x] for x in train_set])\n",
    "        if title[-8:] == \"balanced\":\n",
    "            SVC_clf = SVC(gamma=\"auto\", class_weight=\"balanced\").fit(dataset.loc[train_set].iloc[:,:250], [ob_state[x] for x in train_set])\n",
    "\n",
    "        preds = SVC_clf.predict(dataset.loc[test_set].iloc[:,:250])\n",
    "#         reports.append(classification_report(dataset[\"Class\"].loc[test_set], preds))\n",
    "        reports.append(( precision_recall_fscore_support([ob_state[x] for x in test_set], preds,zero_division=0, average=\"weighted\"),precision_recall_fscore_support([ob_state[x] for x in test_set], preds,zero_division=0, average=\"macro\"), accuracy_score([ob_state[x] for x in test_set], preds)))\n",
    "#             precision_recall_fscore_support(dataset[\"Class\"].loc[test_set], preds, average=\"macro\"), precision_recall_fscore_support(dataset[\"Class\"].loc[test_set], preds, average=\"micro\")))\n",
    "#         print(\"{}\".format(title))\n",
    "#         print(classification_report(dataset[\"Class\"].loc[test_set], preds))\n",
    "\n",
    "\n",
    "\n",
    "#         disp = plot_confusion_matrix(SVC_clf, dataset.loc[test_set].iloc[:,:250], dataset[\"Class\"].loc[test_set],\n",
    "#                                  cmap=plt.cm.Blues,\n",
    "#                                  normalize=None)\n",
    "    #     disp.ax_.set_title(\"{}\".format(title))\n",
    "#         disp.ax_.set_xlabel(\"Predicted class\")\n",
    "#         disp.ax_.set_ylabel(\"True class\")\n",
    "    #     plt.savefig('figures/classification_matrix.png', dpi=300, bbox_inches = 'tight',pad_inches = 0)\n",
    "\n",
    "    #     plt.show()\n",
    "    \n",
    "    "
   ]
  },
  {
   "cell_type": "code",
   "execution_count": 37,
   "metadata": {},
   "outputs": [],
   "source": [
    "accuracies = []\n",
    "f1s_weighted = []\n",
    "f1s_average = []\n",
    "for report in reports:# weighted(precision, recall, f1), accuracy\n",
    "    accuracies.append(report[2])\n",
    "    f1s_weighted.append(report[0][2])\n",
    "#     f1s_average.append(report[1][2])"
   ]
  },
  {
   "cell_type": "code",
   "execution_count": 40,
   "metadata": {},
   "outputs": [
    {
     "data": {
      "image/png": "[encoded data removed]",
      "text/plain": [
       "<Figure size 332x332 with 1 Axes>"
      ]
     },
     "metadata": {},
     "output_type": "display_data"
    }
   ],
   "source": [
    "plt.rcParams['figure.figsize'] = (3.32, 3.32)\n",
    "plt.rcParams.update({'font.size': 6})\n",
    "\n",
    "# plt.hist(f1s_average, bins=15, label=\"average F1\")\n",
    "plt.hist(f1s_weighted, bins=15, label=\"weighted F1\", alpha=0.7)\n",
    "plt.hist(accuracies, bins=15, label=\"accuracy\", alpha=0.7)\n",
    "plt.legend()\n",
    "# plt.xlim((0.65,0.95))\n",
    "axes = plt.gca()\n",
    "axes.tick_params(axis=\"x\", which=\"major\", length=2, width=0.75, labelsize=6, direction=\"in\")\n",
    "axes.tick_params(axis=\"y\", which=\"major\", length=2, width=0.75, labelsize=6, direction=\"in\")\n",
    "plt.xlabel(\"Test score\")\n",
    "plt.ylabel(\"No. classification experiments\")\n",
    "# plt.title(\"Classification with 4 chi subclasses\")\n",
    "\n",
    "\n",
    "# plt.savefig('figures/classification_histogram_chi_subclasses.png', dpi=300, bbox_inches = 'tight',pad_inches = 0.01)\n",
    "\n",
    "plt.show()"
   ]
  },
  {
   "cell_type": "code",
   "execution_count": 39,
   "metadata": {},
   "outputs": [
    {
     "name": "stdout",
     "output_type": "stream",
     "text": [
      "0.8458781014206539 0.8670789473684211\n"
     ]
    }
   ],
   "source": [
    "print(np.mean(f1s_weighted), np.mean(accuracies))"
   ]
  },
  {
   "cell_type": "code",
   "execution_count": 41,
   "metadata": {},
   "outputs": [
    {
     "name": "stdout",
     "output_type": "stream",
     "text": [
      "0.03895697390720147 0.033296483555692716\n"
     ]
    }
   ],
   "source": [
    "print(np.std(f1s_weighted), np.std(accuracies))"
   ]
  },
  {
   "cell_type": "code",
   "execution_count": 55,
   "metadata": {},
   "outputs": [],
   "source": [
    "def test_GMM_in_classification(GMmodel, data):\n",
    "    comp=GMmodel.means_.shape[0]\n",
    "    \n",
    "    # find GMM component labels for data\n",
    "    data_GMMcomp_labels = GMmodel.predict(data)\n",
    "    \n",
    "    # make a dict that groups indices of segments of the same observation \n",
    "    # i.e. where each observation id can be found in seg_ObIDs\n",
    "    #i.e. ObID_SegIndices_dict == {'10258-01-01-00': [916, 949, 1046...467528, 467578], ....}\n",
    "    ObID_SegIndices_dict = {key:[] for key in np.unique(seg_ObIDs)}\n",
    "    for ID_index, ObID in enumerate(seg_ObIDs):\n",
    "        ObID_SegIndices_dict.setdefault(ObID, []).append(ID_index)\n",
    "    \n",
    "    # make a dictionary of Gaussian component labels instead of segment indices  \n",
    "    #i.e. ObID_GaussComps_dict_500 == {'10258-01-01-00': [401, 433, 382...101, 152], ....}\n",
    "    ObID_GaussComps_dict_comp = {}\n",
    "    for ObID, Indices in ObID_SegIndices_dict.items():\n",
    "        ObID_GaussComps_dict_comp[ObID] = [data_GMMcomp_labels[ind] for ind in Indices]\n",
    "        \n",
    "    # make a data frame containing the counts of light curve segments in each of the Gaussian components, for each observation\n",
    "    obs_component_counts_df_comp = pd.DataFrame(np.zeros((len(ObID_GaussComps_dict_comp),len(np.unique(data_GMMcomp_labels)))),\n",
    "                                               index=np.unique(seg_ObIDs), columns=list(range(comp)), dtype=int)\n",
    "    \n",
    "    # populate the data frame\n",
    "    for ObID, GaussComps in ObID_GaussComps_dict_comp.items():\n",
    "        for comp_id, comp_count in np.array(np.unique(GaussComps, return_counts=True)).T:\n",
    "            obs_component_counts_df_comp.loc[ObID][comp_id] = comp_count\n",
    "    obs_component_counts_df_comp\n",
    "    \n",
    "    obs_component_counts_df_comp.iloc[:,:comp].div(np.sum(obs_component_counts_df_comp.iloc[:,:comp], axis=1), axis=\"rows\")\n",
    "    obs_component_counts_df_comp[\"Class\"] = \"Unknown\"\n",
    "    \n",
    "    for k,v in ob_state.items():\n",
    "        if str(k) in obs_component_counts_df_comp.index.values:\n",
    "            obs_component_counts_df_comp.loc[str(k), \"Class\"] = v\n",
    "            \n",
    "\n",
    "    experiment_list = [\n",
    "\n",
    "        [obs_component_counts_df_comp, \"Title\"],\n",
    "\n",
    "    ]\n",
    "    reports = []\n",
    "    for test_set, train_set in zip(test_sets, train_sets):\n",
    "\n",
    "        for dataset, title in experiment_list:\n",
    "            SVC_clf = RandomForestClassifier(random_state=0, class_weight=\"balanced\").fit(dataset.loc[train_set].iloc[:,:comp], [ob_state[x] for x in train_set])\n",
    "            if title[-8:] == \"balanced\":\n",
    "                SVC_clf = SVC(gamma=\"auto\", class_weight=\"balanced\").fit(dataset.loc[train_set].iloc[:,:comp], [ob_state[x] for x in train_set])\n",
    "\n",
    "            preds = SVC_clf.predict(dataset.loc[test_set].iloc[:,:comp])\n",
    "    #         reports.append(classification_report(dataset[\"Class\"].loc[test_set], preds))\n",
    "            reports.append(( precision_recall_fscore_support([ob_state[x] for x in test_set], preds,zero_division=0, average=\"weighted\"),precision_recall_fscore_support([ob_state[x] for x in test_set], preds,zero_division=0, average=\"macro\"), accuracy_score([ob_state[x] for x in test_set], preds)))\n",
    "\n",
    "    \n",
    "    accuracies = []\n",
    "    f1s_weighted = []\n",
    "    for report in reports:# weighted(precision, recall, f1), accuracy\n",
    "        accuracies.append(report[2])\n",
    "        f1s_weighted.append(report[0][2])\n",
    "\n",
    "    return accuracies, f1s_weighted"
   ]
  },
  {
   "cell_type": "markdown",
   "metadata": {},
   "source": [
    "## 260 components GMM"
   ]
  },
  {
   "cell_type": "code",
   "execution_count": 10,
   "metadata": {},
   "outputs": [],
   "source": [
    "# load light curve segments\n",
    "with open('{}/594483_len128_stride8_1sec_cad_counts_errorfix.pkl'.format(data_dir), 'rb') as f:\n",
    "    segments_counts = pickle.load(f)\n",
    "    \n",
    "# load latent variables for light curve segments\n",
    "weights_dir = \"../../../model_weights/model_2020-12-02_15-00-24.h5\"\n",
    "segments_dir = '../../../data_GRS1915/594483_len128_stride8_1sec_cad_counts_errorfix.pkl'\n",
    "segment_encoding_dir = '{}/segment_encoding_{}_segments_{}.pkl'.format(data_dir, weights_dir.split(\"/\")[-1].split(\".\")[0], segments_dir.split(\"/\")[-1].split(\".\")[0])\n",
    "with open(segment_encoding_dir, 'rb') as f:\n",
    "    segment_encoding = pickle.load(f)\n",
    "\n",
    "# take latent variable means, i.e. 16 values per segment\n",
    "segment_encoding_scaled_means = zscore(segment_encoding[:,0,:], axis=0).astype(np.float32)  # standardize per feature\n",
    "\n",
    "# calculate statistical moments for the segments\n",
    "desc_stats = np.zeros((len(segments_counts), 4)) #mean, std, skew, kurt\n",
    "desc_stats[:,0] = np.mean(segments_counts, axis=1).flatten()\n",
    "desc_stats[:,1] = np.std(segments_counts, axis=1).flatten()\n",
    "desc_stats[:,2] = stats.skew(segments_counts, axis=1).flatten()\n",
    "desc_stats[:,3] = stats.kurtosis(segments_counts, axis=1).flatten()\n",
    "zscore_desc_stats = zscore(desc_stats, axis=0)\n",
    "\n",
    "# merge the two types of features; shape of shape_moments is [468202, 20]\n",
    "shape_moments = np.hstack((segment_encoding_scaled_means, zscore_desc_stats)) # every column is standardized"
   ]
  },
  {
   "cell_type": "code",
   "execution_count": 60,
   "metadata": {},
   "outputs": [
    {
     "name": "stderr",
     "output_type": "stream",
     "text": [
      "/home/jkok1g14/anaconda3/envs/py38/lib/python3.8/site-packages/sklearn/base.py:329: UserWarning: Trying to unpickle estimator GaussianMixture from version 0.22.1 when using version 0.23.1. This might lead to breaking code or invalid results. Use at your own risk.\n",
      "  warnings.warn(\n"
     ]
    }
   ],
   "source": [
    "with open('{}/GMM_260comps_model_2020-12-02_15-00-24_segments_594483_len128_stride8_1sec_cad_counts_errorfix.pkl'.format(data_dir), 'rb') as f:\n",
    "    GMmodel = pickle.load(f)"
   ]
  },
  {
   "cell_type": "code",
   "execution_count": 61,
   "metadata": {},
   "outputs": [],
   "source": [
    "accuracies, f1s_weighted = test_GMM_in_classification(GMmodel, shape_moments)"
   ]
  },
  {
   "cell_type": "code",
   "execution_count": 62,
   "metadata": {},
   "outputs": [
    {
     "data": {
      "image/png": "[encoded data removed]",
      "text/plain": [
       "<Figure size 332x332 with 1 Axes>"
      ]
     },
     "metadata": {},
     "output_type": "display_data"
    }
   ],
   "source": [
    "plt.rcParams['figure.figsize'] = (3.32, 3.32)\n",
    "plt.rcParams.update({'font.size': 6})\n",
    "\n",
    "# plt.hist(f1s_average, bins=15, label=\"average F1\")\n",
    "plt.hist(f1s_weighted, bins=15, label=\"weighted F1\", alpha=0.7)\n",
    "plt.hist(accuracies, bins=15, label=\"accuracy\", alpha=0.7)\n",
    "plt.legend()\n",
    "# plt.xlim((0.65,0.95))\n",
    "axes = plt.gca()\n",
    "axes.tick_params(axis=\"x\", which=\"major\", length=2, width=0.75, labelsize=6, direction=\"in\")\n",
    "axes.tick_params(axis=\"y\", which=\"major\", length=2, width=0.75, labelsize=6, direction=\"in\")\n",
    "plt.xlabel(\"Test score\")\n",
    "plt.ylabel(\"No. classification experiments\")\n",
    "# plt.title(\"Classification with 4 chi subclasses\")\n",
    "\n",
    "\n",
    "# plt.savefig('figures/classification_histogram_chi_subclasses.png', dpi=300, bbox_inches = 'tight',pad_inches = 0.01)\n",
    "\n",
    "plt.show()"
   ]
  },
  {
   "cell_type": "code",
   "execution_count": 63,
   "metadata": {},
   "outputs": [
    {
     "name": "stdout",
     "output_type": "stream",
     "text": [
      "0.8467827310395757 0.8686447368421052\n"
     ]
    }
   ],
   "source": [
    "print(np.mean(f1s_weighted), np.mean(accuracies))"
   ]
  },
  {
   "cell_type": "code",
   "execution_count": 64,
   "metadata": {},
   "outputs": [
    {
     "name": "stdout",
     "output_type": "stream",
     "text": [
      "0.04054625563707935 0.03450960111696566\n"
     ]
    }
   ],
   "source": [
    "print(np.std(f1s_weighted), np.std(accuracies))"
   ]
  },
  {
   "cell_type": "markdown",
   "metadata": {},
   "source": [
    "## 300 component GMM"
   ]
  },
  {
   "cell_type": "code",
   "execution_count": 65,
   "metadata": {},
   "outputs": [
    {
     "name": "stderr",
     "output_type": "stream",
     "text": [
      "/home/jkok1g14/anaconda3/envs/py38/lib/python3.8/site-packages/sklearn/base.py:329: UserWarning: Trying to unpickle estimator GaussianMixture from version 0.22.1 when using version 0.23.1. This might lead to breaking code or invalid results. Use at your own risk.\n",
      "  warnings.warn(\n"
     ]
    }
   ],
   "source": [
    "with open('{}/GMM_300comps_model_2020-12-02_15-00-24_segments_594483_len128_stride8_1sec_cad_counts_errorfix.pkl'.format(data_dir), 'rb') as f:\n",
    "    GMmodel = pickle.load(f)"
   ]
  },
  {
   "cell_type": "code",
   "execution_count": 56,
   "metadata": {},
   "outputs": [],
   "source": [
    "accuracies, f1s_weighted = test_GMM_in_classification(GMmodel, shape_moments)"
   ]
  },
  {
   "cell_type": "code",
   "execution_count": 57,
   "metadata": {},
   "outputs": [
    {
     "data": {
      "image/png": "[encoded data removed]",
      "text/plain": [
       "<Figure size 332x332 with 1 Axes>"
      ]
     },
     "metadata": {},
     "output_type": "display_data"
    }
   ],
   "source": [
    "plt.rcParams['figure.figsize'] = (3.32, 3.32)\n",
    "plt.rcParams.update({'font.size': 6})\n",
    "\n",
    "# plt.hist(f1s_average, bins=15, label=\"average F1\")\n",
    "plt.hist(f1s_weighted, bins=15, label=\"weighted F1\", alpha=0.7)\n",
    "plt.hist(accuracies, bins=15, label=\"accuracy\", alpha=0.7)\n",
    "plt.legend()\n",
    "# plt.xlim((0.65,0.95))\n",
    "axes = plt.gca()\n",
    "axes.tick_params(axis=\"x\", which=\"major\", length=2, width=0.75, labelsize=6, direction=\"in\")\n",
    "axes.tick_params(axis=\"y\", which=\"major\", length=2, width=0.75, labelsize=6, direction=\"in\")\n",
    "plt.xlabel(\"Test score\")\n",
    "plt.ylabel(\"No. classification experiments\")\n",
    "# plt.title(\"Classification with 4 chi subclasses\")\n",
    "\n",
    "\n",
    "# plt.savefig('figures/classification_histogram_chi_subclasses.png', dpi=300, bbox_inches = 'tight',pad_inches = 0.01)\n",
    "\n",
    "plt.show()"
   ]
  },
  {
   "cell_type": "code",
   "execution_count": 58,
   "metadata": {},
   "outputs": [
    {
     "name": "stdout",
     "output_type": "stream",
     "text": [
      "0.8423335692190473 0.8654605263157894\n"
     ]
    }
   ],
   "source": [
    "print(np.mean(f1s_weighted), np.mean(accuracies))"
   ]
  },
  {
   "cell_type": "code",
   "execution_count": 59,
   "metadata": {},
   "outputs": [
    {
     "name": "stdout",
     "output_type": "stream",
     "text": [
      "0.04000186212342697 0.03436799538303332\n"
     ]
    }
   ],
   "source": [
    "print(np.std(f1s_weighted), np.std(accuracies))"
   ]
  },
  {
   "cell_type": "markdown",
   "metadata": {},
   "source": [
    "## merge components in 300 GMM and test"
   ]
  },
  {
   "cell_type": "code",
   "execution_count": 69,
   "metadata": {},
   "outputs": [
    {
     "name": "stdout",
     "output_type": "stream",
     "text": [
      "299 299\n"
     ]
    }
   ],
   "source": [
    "from scipy.spatial import distance\n",
    "GM_comp_mahal_distances = np.zeros((300,300))\n",
    "for comp1_ind, comp1 in enumerate(GMmodel.means_):\n",
    "    for comp2_ind, comp2 in enumerate(GMmodel.means_):\n",
    "        GM_comp_mahal_distances[comp1_ind, comp2_ind] = distance.mahalanobis(comp1, comp2, np.linalg.inv(GMmodel.covariances_[comp2_ind]))\n",
    "        print(comp1_ind, comp2_ind)\n",
    "        clear_output(wait=True)"
   ]
  },
  {
   "cell_type": "code",
   "execution_count": 81,
   "metadata": {},
   "outputs": [
    {
     "data": {
      "text/plain": [
       "722"
      ]
     },
     "execution_count": 81,
     "metadata": {},
     "output_type": "execute_result"
    }
   ],
   "source": [
    "np.sum((GM_comp_mahal_distances<3)&(GM_comp_mahal_distances>0))"
   ]
  },
  {
   "cell_type": "code",
   "execution_count": 88,
   "metadata": {},
   "outputs": [
    {
     "data": {
      "text/plain": [
       "array([  0,   1,   2,   3,   4,   5,   6,   7,   8,   9,  10,  11,  12,\n",
       "        13,  14,  15,  16,  17,  18,  19,  20,  21,  22,  23,  24,  25,\n",
       "        26,  27,  28,  29,  30,  31,  32,  33,  34,  35,  36,  37,  38,\n",
       "        39,  40,  41,  42,  43,  44,  45,  46,  47,  48,  49,  50,  51,\n",
       "        52,  53,  54,  55,  56,  57,  58,  59,  60,  61,  62,  63,  64,\n",
       "        65,  66,  67,  68,  69,  70,  71,  72,  73,  74,  75,  76,  77,\n",
       "        78,  79,  80,  81,  82,  83,  84,  85,  86,  87,  88,  89,  90,\n",
       "        91,  92,  93,  94,  95,  96,  97,  98,  99, 100, 101, 102, 103,\n",
       "       104, 105, 106, 107, 108, 109, 110, 111, 112, 113, 114, 115, 116,\n",
       "       117, 118, 119, 120, 121, 122, 123, 124, 125, 126, 127, 128, 129,\n",
       "       130, 131, 132, 133, 134, 135, 136, 137, 138, 139, 140, 141, 142,\n",
       "       143, 144, 145, 146, 147, 148, 149, 150, 151, 152, 153, 154, 155,\n",
       "       156, 157, 158, 159, 160, 161, 162, 163, 164, 165, 166, 167, 168,\n",
       "       169, 170, 171, 172, 173, 174, 175, 176, 177, 178, 179, 180, 181,\n",
       "       182, 183, 184, 185, 186, 187, 188, 189, 190, 191, 192, 193, 194,\n",
       "       195, 196, 197, 198, 199, 200, 201, 202, 203, 204, 205, 206, 207,\n",
       "       208, 209, 210, 211, 212, 213, 214, 215, 216, 217, 218, 219, 220,\n",
       "       221, 222, 223, 224, 225, 226, 227, 228, 229, 230, 231, 232, 233,\n",
       "       234, 235, 236, 237, 238, 239, 240, 241, 242, 243, 244, 245, 246,\n",
       "       247, 248, 249, 250, 251, 252, 253, 254, 255, 256, 257, 258, 259,\n",
       "       260, 261, 262, 263, 264, 265, 266, 267, 268, 269, 270, 271, 272,\n",
       "       273, 274, 275, 276, 277, 278, 279, 280, 281, 282, 283, 284, 285,\n",
       "       286, 287, 288, 289, 290, 291, 292, 293, 294, 295, 296, 297, 298,\n",
       "       299])"
      ]
     },
     "execution_count": 88,
     "metadata": {},
     "output_type": "execute_result"
    }
   ],
   "source": [
    "np.arange(300)"
   ]
  },
  {
   "cell_type": "code",
   "execution_count": 87,
   "metadata": {},
   "outputs": [],
   "source": [
    "couples = np.array(np.where(((np.triu(GM_comp_mahal_distances)<3)&(np.triu(GM_comp_mahal_distances)>0))\n",
    "      &(np.triu(GM_comp_mahal_distances.T)<3)&(np.triu(GM_comp_mahal_distances.T)>0))).T"
   ]
  },
  {
   "cell_type": "code",
   "execution_count": 93,
   "metadata": {},
   "outputs": [
    {
     "name": "stdout",
     "output_type": "stream",
     "text": [
      "<generator object connected_components at 0x7fd2d78b6f20>\n"
     ]
    }
   ],
   "source": [
    "l = [str(c) for c in list(range(300))]\n",
    "for couple in couples:\n",
    "    l.append([str(c) for c in couple])\n",
    "    \n",
    "import networkx \n",
    "from networkx.algorithms.components.connected import connected_components\n",
    "\n",
    "\n",
    "def to_graph(l):\n",
    "    G = networkx.Graph()\n",
    "    for part in l:\n",
    "        # each sublist is a bunch of nodes\n",
    "        G.add_nodes_from(part)\n",
    "        # it also imlies a number of edges:\n",
    "        G.add_edges_from(to_edges(part))\n",
    "    return G\n",
    "\n",
    "def to_edges(l):\n",
    "    \"\"\" \n",
    "        treat `l` as a Graph and returns it's edges \n",
    "        to_edges(['a','b','c','d']) -> [(a,b), (b,c),(c,d)]\n",
    "    \"\"\"\n",
    "    it = iter(l)\n",
    "    last = next(it)\n",
    "\n",
    "    for current in it:\n",
    "        yield last, current\n",
    "        last = current    \n",
    "\n",
    "G = to_graph(l)\n",
    "print(connected_components(G))"
   ]
  },
  {
   "cell_type": "code",
   "execution_count": 98,
   "metadata": {},
   "outputs": [
    {
     "data": {
      "text/plain": [
       "10258-01-01-00    0\n",
       "10258-01-02-00    0\n",
       "10258-01-03-00    0\n",
       "10258-01-04-00    0\n",
       "10258-01-05-00    0\n",
       "                 ..\n",
       "96701-01-50-01    0\n",
       "96701-01-51-00    0\n",
       "96701-01-51-01    0\n",
       "96701-01-52-00    0\n",
       "96701-01-52-01    0\n",
       "Name: 5, Length: 1775, dtype: int64"
      ]
     },
     "execution_count": 98,
     "metadata": {},
     "output_type": "execute_result"
    }
   ],
   "source": [
    "obs_component_counts_df_250[5]"
   ]
  },
  {
   "cell_type": "code",
   "execution_count": 103,
   "metadata": {},
   "outputs": [
    {
     "name": "stdout",
     "output_type": "stream",
     "text": [
      "10258-01-01-00     28\n",
      "10258-01-02-00     92\n",
      "10258-01-03-00    130\n",
      "10258-01-04-00    391\n",
      "10258-01-05-00     17\n",
      "                 ... \n",
      "96701-01-50-01     27\n",
      "96701-01-51-00     17\n",
      "96701-01-51-01     26\n",
      "96701-01-52-00     49\n",
      "96701-01-52-01     22\n",
      "Length: 1775, dtype: int64\n"
     ]
    }
   ],
   "source": [
    "for connection in connected_components(G):\n",
    "    connection_int=[int(node) for node in connection]\n",
    "    obs_component_counts_df_250[connection_int[0]] = obs_component_counts_df_250[connection_int].sum(axis=1)\n",
    "    obs_component_counts_df_250.drop(connection_int[1:], axis=1)\n",
    "    break\n",
    "    print(x)"
   ]
  },
  {
   "cell_type": "code",
   "execution_count": 105,
   "metadata": {},
   "outputs": [],
   "source": [
    "def test_frankGMM_in_classification(GMmodel, data):\n",
    "    comp=GMmodel.means_.shape[0]\n",
    "    \n",
    "    # find GMM component labels for data\n",
    "    data_GMMcomp_labels = GMmodel.predict(data)\n",
    "    \n",
    "    # make a dict that groups indices of segments of the same observation \n",
    "    # i.e. where each observation id can be found in seg_ObIDs\n",
    "    #i.e. ObID_SegIndices_dict == {'10258-01-01-00': [916, 949, 1046...467528, 467578], ....}\n",
    "    ObID_SegIndices_dict = {key:[] for key in np.unique(seg_ObIDs)}\n",
    "    for ID_index, ObID in enumerate(seg_ObIDs):\n",
    "        ObID_SegIndices_dict.setdefault(ObID, []).append(ID_index)\n",
    "    \n",
    "    # make a dictionary of Gaussian component labels instead of segment indices  \n",
    "    #i.e. ObID_GaussComps_dict_500 == {'10258-01-01-00': [401, 433, 382...101, 152], ....}\n",
    "    ObID_GaussComps_dict_comp = {}\n",
    "    for ObID, Indices in ObID_SegIndices_dict.items():\n",
    "        ObID_GaussComps_dict_comp[ObID] = [data_GMMcomp_labels[ind] for ind in Indices]\n",
    "        \n",
    "    # make a data frame containing the counts of light curve segments in each of the Gaussian components, for each observation\n",
    "    obs_component_counts_df_comp = pd.DataFrame(np.zeros((len(ObID_GaussComps_dict_comp),len(np.unique(data_GMMcomp_labels)))),\n",
    "                                               index=np.unique(seg_ObIDs), columns=list(range(comp)), dtype=int)\n",
    "    \n",
    "    # populate the data frame\n",
    "    for ObID, GaussComps in ObID_GaussComps_dict_comp.items():\n",
    "        for comp_id, comp_count in np.array(np.unique(GaussComps, return_counts=True)).T:\n",
    "            obs_component_counts_df_comp.loc[ObID][comp_id] = comp_count\n",
    "    obs_component_counts_df_comp\n",
    "    \n",
    "    \n",
    "    for connection in connected_components(G):\n",
    "        connection_int=[int(node) for node in connection]\n",
    "        obs_component_counts_df_comp[connection_int[0]] = obs_component_counts_df_comp[connection_int].sum(axis=1)\n",
    "        obs_component_counts_df_comp.drop(connection_int[1:], axis=1)\n",
    "    \n",
    "    \n",
    "    obs_component_counts_df_comp.iloc[:,:comp].div(np.sum(obs_component_counts_df_comp.iloc[:,:comp], axis=1), axis=\"rows\")\n",
    "    obs_component_counts_df_comp[\"Class\"] = \"Unknown\"\n",
    "    \n",
    "    for k,v in ob_state.items():\n",
    "        if str(k) in obs_component_counts_df_comp.index.values:\n",
    "            obs_component_counts_df_comp.loc[str(k), \"Class\"] = v\n",
    "            \n",
    "\n",
    "    experiment_list = [\n",
    "\n",
    "        [obs_component_counts_df_comp, \"Title\"],\n",
    "\n",
    "    ]\n",
    "    reports = []\n",
    "    for test_set, train_set in zip(test_sets, train_sets):\n",
    "\n",
    "        for dataset, title in experiment_list:\n",
    "            SVC_clf = RandomForestClassifier(random_state=0, class_weight=\"balanced\").fit(dataset.loc[train_set].iloc[:,:comp], [ob_state[x] for x in train_set])\n",
    "            if title[-8:] == \"balanced\":\n",
    "                SVC_clf = SVC(gamma=\"auto\", class_weight=\"balanced\").fit(dataset.loc[train_set].iloc[:,:comp], [ob_state[x] for x in train_set])\n",
    "\n",
    "            preds = SVC_clf.predict(dataset.loc[test_set].iloc[:,:comp])\n",
    "    #         reports.append(classification_report(dataset[\"Class\"].loc[test_set], preds))\n",
    "            reports.append(( precision_recall_fscore_support([ob_state[x] for x in test_set], preds,zero_division=0, average=\"weighted\"),precision_recall_fscore_support([ob_state[x] for x in test_set], preds,zero_division=0, average=\"macro\"), accuracy_score([ob_state[x] for x in test_set], preds)))\n",
    "\n",
    "    \n",
    "    accuracies = []\n",
    "    f1s_weighted = []\n",
    "    for report in reports:# weighted(precision, recall, f1), accuracy\n",
    "        accuracies.append(report[2])\n",
    "        f1s_weighted.append(report[0][2])\n",
    "\n",
    "    return accuracies, f1s_weighted"
   ]
  },
  {
   "cell_type": "code",
   "execution_count": 106,
   "metadata": {},
   "outputs": [],
   "source": [
    "accuracies, f1s_weighted = test_frankGMM_in_classification(GMmodel, shape_moments)"
   ]
  },
  {
   "cell_type": "code",
   "execution_count": 107,
   "metadata": {},
   "outputs": [
    {
     "data": {
      "image/png": "[encoded data removed]",
      "text/plain": [
       "<Figure size 332x332 with 1 Axes>"
      ]
     },
     "metadata": {},
     "output_type": "display_data"
    }
   ],
   "source": [
    "plt.rcParams['figure.figsize'] = (3.32, 3.32)\n",
    "plt.rcParams.update({'font.size': 6})\n",
    "\n",
    "# plt.hist(f1s_average, bins=15, label=\"average F1\")\n",
    "plt.hist(f1s_weighted, bins=15, label=\"weighted F1\", alpha=0.7)\n",
    "plt.hist(accuracies, bins=15, label=\"accuracy\", alpha=0.7)\n",
    "plt.legend()\n",
    "# plt.xlim((0.65,0.95))\n",
    "axes = plt.gca()\n",
    "axes.tick_params(axis=\"x\", which=\"major\", length=2, width=0.75, labelsize=6, direction=\"in\")\n",
    "axes.tick_params(axis=\"y\", which=\"major\", length=2, width=0.75, labelsize=6, direction=\"in\")\n",
    "plt.xlabel(\"Test score\")\n",
    "plt.ylabel(\"No. classification experiments\")\n",
    "# plt.title(\"Classification with 4 chi subclasses\")\n",
    "\n",
    "\n",
    "# plt.savefig('figures/classification_histogram_chi_subclasses.png', dpi=300, bbox_inches = 'tight',pad_inches = 0.01)\n",
    "\n",
    "plt.show()"
   ]
  },
  {
   "cell_type": "code",
   "execution_count": 108,
   "metadata": {},
   "outputs": [
    {
     "name": "stdout",
     "output_type": "stream",
     "text": [
      "0.847070323118772 0.8700263157894738\n"
     ]
    }
   ],
   "source": [
    "print(np.mean(f1s_weighted), np.mean(accuracies))"
   ]
  },
  {
   "cell_type": "code",
   "execution_count": 109,
   "metadata": {},
   "outputs": [
    {
     "name": "stdout",
     "output_type": "stream",
     "text": [
      "0.03729576301100306 0.031576524029824665\n"
     ]
    }
   ],
   "source": [
    "print(np.std(f1s_weighted), np.std(accuracies))"
   ]
  },
  {
   "cell_type": "markdown",
   "metadata": {},
   "source": [
    "## merged 260"
   ]
  },
  {
   "cell_type": "code",
   "execution_count": 110,
   "metadata": {},
   "outputs": [
    {
     "name": "stderr",
     "output_type": "stream",
     "text": [
      "/home/jkok1g14/anaconda3/envs/py38/lib/python3.8/site-packages/sklearn/base.py:329: UserWarning: Trying to unpickle estimator GaussianMixture from version 0.22.1 when using version 0.23.1. This might lead to breaking code or invalid results. Use at your own risk.\n",
      "  warnings.warn(\n"
     ]
    }
   ],
   "source": [
    "with open('{}/GMM_260comps_model_2020-12-02_15-00-24_segments_594483_len128_stride8_1sec_cad_counts_errorfix.pkl'.format(data_dir), 'rb') as f:\n",
    "    GMmodel = pickle.load(f)"
   ]
  },
  {
   "cell_type": "code",
   "execution_count": 112,
   "metadata": {},
   "outputs": [
    {
     "name": "stdout",
     "output_type": "stream",
     "text": [
      "259 259\n"
     ]
    }
   ],
   "source": [
    "from scipy.spatial import distance\n",
    "GM_comp_mahal_distances = np.zeros((GMmodel.means_.shape[0],GMmodel.means_.shape[0]))\n",
    "for comp1_ind, comp1 in enumerate(GMmodel.means_):\n",
    "    for comp2_ind, comp2 in enumerate(GMmodel.means_):\n",
    "        GM_comp_mahal_distances[comp1_ind, comp2_ind] = distance.mahalanobis(comp1, comp2, np.linalg.inv(GMmodel.covariances_[comp2_ind]))\n",
    "        print(comp1_ind, comp2_ind)\n",
    "        clear_output(wait=True)"
   ]
  },
  {
   "cell_type": "code",
   "execution_count": 113,
   "metadata": {},
   "outputs": [],
   "source": [
    "couples = np.array(np.where(((np.triu(GM_comp_mahal_distances)<3)&(np.triu(GM_comp_mahal_distances)>0))\n",
    "      &(np.triu(GM_comp_mahal_distances.T)<3)&(np.triu(GM_comp_mahal_distances.T)>0))).T"
   ]
  },
  {
   "cell_type": "code",
   "execution_count": 114,
   "metadata": {},
   "outputs": [
    {
     "name": "stdout",
     "output_type": "stream",
     "text": [
      "<generator object connected_components at 0x7fd2d74be970>\n"
     ]
    }
   ],
   "source": [
    "l = [str(c) for c in list(range(GMmodel.means_.shape[0]))]\n",
    "for couple in couples:\n",
    "    l.append([str(c) for c in couple])\n",
    "    \n",
    "import networkx \n",
    "from networkx.algorithms.components.connected import connected_components\n",
    "\n",
    "\n",
    "def to_graph(l):\n",
    "    G = networkx.Graph()\n",
    "    for part in l:\n",
    "        # each sublist is a bunch of nodes\n",
    "        G.add_nodes_from(part)\n",
    "        # it also imlies a number of edges:\n",
    "        G.add_edges_from(to_edges(part))\n",
    "    return G\n",
    "\n",
    "def to_edges(l):\n",
    "    \"\"\" \n",
    "        treat `l` as a Graph and returns it's edges \n",
    "        to_edges(['a','b','c','d']) -> [(a,b), (b,c),(c,d)]\n",
    "    \"\"\"\n",
    "    it = iter(l)\n",
    "    last = next(it)\n",
    "\n",
    "    for current in it:\n",
    "        yield last, current\n",
    "        last = current    \n",
    "\n",
    "G = to_graph(l)\n",
    "print(connected_components(G))"
   ]
  },
  {
   "cell_type": "code",
   "execution_count": 115,
   "metadata": {},
   "outputs": [],
   "source": [
    "def test_frankGMM_in_classification(GMmodel, data):\n",
    "    comp=GMmodel.means_.shape[0]\n",
    "    \n",
    "    # find GMM component labels for data\n",
    "    data_GMMcomp_labels = GMmodel.predict(data)\n",
    "    \n",
    "    # make a dict that groups indices of segments of the same observation \n",
    "    # i.e. where each observation id can be found in seg_ObIDs\n",
    "    #i.e. ObID_SegIndices_dict == {'10258-01-01-00': [916, 949, 1046...467528, 467578], ....}\n",
    "    ObID_SegIndices_dict = {key:[] for key in np.unique(seg_ObIDs)}\n",
    "    for ID_index, ObID in enumerate(seg_ObIDs):\n",
    "        ObID_SegIndices_dict.setdefault(ObID, []).append(ID_index)\n",
    "    \n",
    "    # make a dictionary of Gaussian component labels instead of segment indices  \n",
    "    #i.e. ObID_GaussComps_dict_500 == {'10258-01-01-00': [401, 433, 382...101, 152], ....}\n",
    "    ObID_GaussComps_dict_comp = {}\n",
    "    for ObID, Indices in ObID_SegIndices_dict.items():\n",
    "        ObID_GaussComps_dict_comp[ObID] = [data_GMMcomp_labels[ind] for ind in Indices]\n",
    "        \n",
    "    # make a data frame containing the counts of light curve segments in each of the Gaussian components, for each observation\n",
    "    obs_component_counts_df_comp = pd.DataFrame(np.zeros((len(ObID_GaussComps_dict_comp),len(np.unique(data_GMMcomp_labels)))),\n",
    "                                               index=np.unique(seg_ObIDs), columns=list(range(comp)), dtype=int)\n",
    "    \n",
    "    # populate the data frame\n",
    "    for ObID, GaussComps in ObID_GaussComps_dict_comp.items():\n",
    "        for comp_id, comp_count in np.array(np.unique(GaussComps, return_counts=True)).T:\n",
    "            obs_component_counts_df_comp.loc[ObID][comp_id] = comp_count\n",
    "    obs_component_counts_df_comp\n",
    "    \n",
    "    # merge components\n",
    "    for connection in connected_components(G):\n",
    "        connection_int=[int(node) for node in connection]\n",
    "        obs_component_counts_df_comp[connection_int[0]] = obs_component_counts_df_comp[connection_int].sum(axis=1)\n",
    "        obs_component_counts_df_comp.drop(connection_int[1:], axis=1)\n",
    "    \n",
    "    \n",
    "    obs_component_counts_df_comp.iloc[:,:comp].div(np.sum(obs_component_counts_df_comp.iloc[:,:comp], axis=1), axis=\"rows\")\n",
    "    obs_component_counts_df_comp[\"Class\"] = \"Unknown\"\n",
    "    \n",
    "    for k,v in ob_state.items():\n",
    "        if str(k) in obs_component_counts_df_comp.index.values:\n",
    "            obs_component_counts_df_comp.loc[str(k), \"Class\"] = v\n",
    "            \n",
    "\n",
    "    experiment_list = [\n",
    "\n",
    "        [obs_component_counts_df_comp, \"Title\"],\n",
    "\n",
    "    ]\n",
    "    reports = []\n",
    "    for test_set, train_set in zip(test_sets, train_sets):\n",
    "\n",
    "        for dataset, title in experiment_list:\n",
    "            SVC_clf = RandomForestClassifier(random_state=0, class_weight=\"balanced\").fit(dataset.loc[train_set].iloc[:,:comp], [ob_state[x] for x in train_set])\n",
    "            if title[-8:] == \"balanced\":\n",
    "                SVC_clf = SVC(gamma=\"auto\", class_weight=\"balanced\").fit(dataset.loc[train_set].iloc[:,:comp], [ob_state[x] for x in train_set])\n",
    "\n",
    "            preds = SVC_clf.predict(dataset.loc[test_set].iloc[:,:comp])\n",
    "    #         reports.append(classification_report(dataset[\"Class\"].loc[test_set], preds))\n",
    "            reports.append(( precision_recall_fscore_support([ob_state[x] for x in test_set], preds,zero_division=0, average=\"weighted\"),precision_recall_fscore_support([ob_state[x] for x in test_set], preds,zero_division=0, average=\"macro\"), accuracy_score([ob_state[x] for x in test_set], preds)))\n",
    "\n",
    "    \n",
    "    accuracies = []\n",
    "    f1s_weighted = []\n",
    "    for report in reports:# weighted(precision, recall, f1), accuracy\n",
    "        accuracies.append(report[2])\n",
    "        f1s_weighted.append(report[0][2])\n",
    "\n",
    "    return accuracies, f1s_weighted"
   ]
  },
  {
   "cell_type": "code",
   "execution_count": 116,
   "metadata": {},
   "outputs": [],
   "source": [
    "accuracies, f1s_weighted = test_frankGMM_in_classification(GMmodel, shape_moments)"
   ]
  },
  {
   "cell_type": "code",
   "execution_count": 117,
   "metadata": {},
   "outputs": [
    {
     "data": {
      "image/png": "[encoded data removed]",
      "text/plain": [
       "<Figure size 332x332 with 1 Axes>"
      ]
     },
     "metadata": {},
     "output_type": "display_data"
    }
   ],
   "source": [
    "plt.rcParams['figure.figsize'] = (3.32, 3.32)\n",
    "plt.rcParams.update({'font.size': 6})\n",
    "\n",
    "# plt.hist(f1s_average, bins=15, label=\"average F1\")\n",
    "plt.hist(f1s_weighted, bins=15, label=\"weighted F1\", alpha=0.7)\n",
    "plt.hist(accuracies, bins=15, label=\"accuracy\", alpha=0.7)\n",
    "plt.legend()\n",
    "# plt.xlim((0.65,0.95))\n",
    "axes = plt.gca()\n",
    "axes.tick_params(axis=\"x\", which=\"major\", length=2, width=0.75, labelsize=6, direction=\"in\")\n",
    "axes.tick_params(axis=\"y\", which=\"major\", length=2, width=0.75, labelsize=6, direction=\"in\")\n",
    "plt.xlabel(\"Test score\")\n",
    "plt.ylabel(\"No. classification experiments\")\n",
    "# plt.title(\"Classification with 4 chi subclasses\")\n",
    "\n",
    "\n",
    "# plt.savefig('figures/classification_histogram_chi_subclasses.png', dpi=300, bbox_inches = 'tight',pad_inches = 0.01)\n",
    "\n",
    "plt.show()"
   ]
  },
  {
   "cell_type": "code",
   "execution_count": 118,
   "metadata": {},
   "outputs": [
    {
     "name": "stdout",
     "output_type": "stream",
     "text": [
      "0.8524320631151057 0.8737236842105264\n"
     ]
    }
   ],
   "source": [
    "print(np.mean(f1s_weighted), np.mean(accuracies))"
   ]
  },
  {
   "cell_type": "code",
   "execution_count": 119,
   "metadata": {},
   "outputs": [
    {
     "name": "stdout",
     "output_type": "stream",
     "text": [
      "0.03812452219174885 0.03227465827056879\n"
     ]
    }
   ],
   "source": [
    "print(np.std(f1s_weighted), np.std(accuracies))"
   ]
  },
  {
   "cell_type": "markdown",
   "metadata": {},
   "source": [
    "## merged 260, merge within 4 sigma"
   ]
  },
  {
   "cell_type": "code",
   "execution_count": 110,
   "metadata": {},
   "outputs": [
    {
     "name": "stderr",
     "output_type": "stream",
     "text": [
      "/home/jkok1g14/anaconda3/envs/py38/lib/python3.8/site-packages/sklearn/base.py:329: UserWarning: Trying to unpickle estimator GaussianMixture from version 0.22.1 when using version 0.23.1. This might lead to breaking code or invalid results. Use at your own risk.\n",
      "  warnings.warn(\n"
     ]
    }
   ],
   "source": [
    "with open('{}/GMM_260comps_model_2020-12-02_15-00-24_segments_594483_len128_stride8_1sec_cad_counts_errorfix.pkl'.format(data_dir), 'rb') as f:\n",
    "    GMmodel = pickle.load(f)"
   ]
  },
  {
   "cell_type": "code",
   "execution_count": 112,
   "metadata": {},
   "outputs": [
    {
     "name": "stdout",
     "output_type": "stream",
     "text": [
      "259 259\n"
     ]
    }
   ],
   "source": [
    "from scipy.spatial import distance\n",
    "GM_comp_mahal_distances = np.zeros((GMmodel.means_.shape[0],GMmodel.means_.shape[0]))\n",
    "for comp1_ind, comp1 in enumerate(GMmodel.means_):\n",
    "    for comp2_ind, comp2 in enumerate(GMmodel.means_):\n",
    "        GM_comp_mahal_distances[comp1_ind, comp2_ind] = distance.mahalanobis(comp1, comp2, np.linalg.inv(GMmodel.covariances_[comp2_ind]))\n",
    "        print(comp1_ind, comp2_ind)\n",
    "        clear_output(wait=True)"
   ]
  },
  {
   "cell_type": "code",
   "execution_count": 120,
   "metadata": {},
   "outputs": [],
   "source": [
    "separation=4\n",
    "couples = np.array(np.where(((np.triu(GM_comp_mahal_distances)<separation)&(np.triu(GM_comp_mahal_distances)>0))\n",
    "      &(np.triu(GM_comp_mahal_distances.T)<separation)&(np.triu(GM_comp_mahal_distances.T)>0))).T"
   ]
  },
  {
   "cell_type": "code",
   "execution_count": 125,
   "metadata": {},
   "outputs": [
    {
     "name": "stdout",
     "output_type": "stream",
     "text": [
      "<generator object connected_components at 0x7fd2d74beb30>\n"
     ]
    }
   ],
   "source": [
    "l = [str(c) for c in list(range(GMmodel.means_.shape[0]))]\n",
    "for couple in couples:\n",
    "    l.append([str(c) for c in couple])\n",
    "    \n",
    "import networkx \n",
    "from networkx.algorithms.components.connected import connected_components\n",
    "\n",
    "\n",
    "def to_graph(l):\n",
    "    G = networkx.Graph()\n",
    "    for part in l:\n",
    "        # each sublist is a bunch of nodes\n",
    "        G.add_nodes_from(part)\n",
    "        # it also imlies a number of edges:\n",
    "        G.add_edges_from(to_edges(part))\n",
    "    return G\n",
    "\n",
    "def to_edges(l):\n",
    "    \"\"\" \n",
    "        treat `l` as a Graph and returns it's edges \n",
    "        to_edges(['a','b','c','d']) -> [(a,b), (b,c),(c,d)]\n",
    "    \"\"\"\n",
    "    it = iter(l)\n",
    "    last = next(it)\n",
    "\n",
    "    for current in it:\n",
    "        yield last, current\n",
    "        last = current    \n",
    "\n",
    "G = to_graph(l)\n",
    "print(connected_components(G))"
   ]
  },
  {
   "cell_type": "code",
   "execution_count": 126,
   "metadata": {},
   "outputs": [
    {
     "name": "stdout",
     "output_type": "stream",
     "text": [
      "104\n",
      "6\n",
      "2\n",
      "4\n"
     ]
    }
   ],
   "source": [
    "for i in connected_components(G):\n",
    "    print(len(i))"
   ]
  },
  {
   "cell_type": "code",
   "execution_count": 128,
   "metadata": {},
   "outputs": [],
   "source": [
    "accuracies, f1s_weighted = test_frankGMM_in_classification(GMmodel, shape_moments)"
   ]
  },
  {
   "cell_type": "code",
   "execution_count": 129,
   "metadata": {},
   "outputs": [
    {
     "data": {
      "image/png": "[encoded data removed]",
      "text/plain": [
       "<Figure size 332x332 with 1 Axes>"
      ]
     },
     "metadata": {},
     "output_type": "display_data"
    }
   ],
   "source": [
    "plt.rcParams['figure.figsize'] = (3.32, 3.32)\n",
    "plt.rcParams.update({'font.size': 6})\n",
    "\n",
    "# plt.hist(f1s_average, bins=15, label=\"average F1\")\n",
    "plt.hist(f1s_weighted, bins=15, label=\"weighted F1\", alpha=0.7)\n",
    "plt.hist(accuracies, bins=15, label=\"accuracy\", alpha=0.7)\n",
    "plt.legend()\n",
    "# plt.xlim((0.65,0.95))\n",
    "axes = plt.gca()\n",
    "axes.tick_params(axis=\"x\", which=\"major\", length=2, width=0.75, labelsize=6, direction=\"in\")\n",
    "axes.tick_params(axis=\"y\", which=\"major\", length=2, width=0.75, labelsize=6, direction=\"in\")\n",
    "plt.xlabel(\"Test score\")\n",
    "plt.ylabel(\"No. classification experiments\")\n",
    "# plt.title(\"Classification with 4 chi subclasses\")\n",
    "\n",
    "\n",
    "# plt.savefig('figures/classification_histogram_chi_subclasses.png', dpi=300, bbox_inches = 'tight',pad_inches = 0.01)\n",
    "\n",
    "plt.show()"
   ]
  },
  {
   "cell_type": "code",
   "execution_count": 130,
   "metadata": {},
   "outputs": [
    {
     "name": "stdout",
     "output_type": "stream",
     "text": [
      "0.8553564357881487 0.8769473684210527\n"
     ]
    }
   ],
   "source": [
    "print(np.mean(f1s_weighted), np.mean(accuracies))"
   ]
  },
  {
   "cell_type": "code",
   "execution_count": 131,
   "metadata": {},
   "outputs": [
    {
     "name": "stdout",
     "output_type": "stream",
     "text": [
      "0.03808205698821537 0.031960675282961974\n"
     ]
    }
   ],
   "source": [
    "print(np.std(f1s_weighted), np.std(accuracies))"
   ]
  },
  {
   "cell_type": "markdown",
   "metadata": {},
   "source": [
    "## merged 260, merge within 5 sigma"
   ]
  },
  {
   "cell_type": "code",
   "execution_count": 110,
   "metadata": {},
   "outputs": [
    {
     "name": "stderr",
     "output_type": "stream",
     "text": [
      "/home/jkok1g14/anaconda3/envs/py38/lib/python3.8/site-packages/sklearn/base.py:329: UserWarning: Trying to unpickle estimator GaussianMixture from version 0.22.1 when using version 0.23.1. This might lead to breaking code or invalid results. Use at your own risk.\n",
      "  warnings.warn(\n"
     ]
    }
   ],
   "source": [
    "with open('{}/GMM_260comps_model_2020-12-02_15-00-24_segments_594483_len128_stride8_1sec_cad_counts_errorfix.pkl'.format(data_dir), 'rb') as f:\n",
    "    GMmodel = pickle.load(f)"
   ]
  },
  {
   "cell_type": "code",
   "execution_count": 112,
   "metadata": {},
   "outputs": [
    {
     "name": "stdout",
     "output_type": "stream",
     "text": [
      "259 259\n"
     ]
    }
   ],
   "source": [
    "from scipy.spatial import distance\n",
    "GM_comp_mahal_distances = np.zeros((GMmodel.means_.shape[0],GMmodel.means_.shape[0]))\n",
    "for comp1_ind, comp1 in enumerate(GMmodel.means_):\n",
    "    for comp2_ind, comp2 in enumerate(GMmodel.means_):\n",
    "        GM_comp_mahal_distances[comp1_ind, comp2_ind] = distance.mahalanobis(comp1, comp2, np.linalg.inv(GMmodel.covariances_[comp2_ind]))\n",
    "        print(comp1_ind, comp2_ind)\n",
    "        clear_output(wait=True)"
   ]
  },
  {
   "cell_type": "code",
   "execution_count": 132,
   "metadata": {},
   "outputs": [],
   "source": [
    "separation=5\n",
    "couples = np.array(np.where(((np.triu(GM_comp_mahal_distances)<separation)&(np.triu(GM_comp_mahal_distances)>0))\n",
    "      &(np.triu(GM_comp_mahal_distances.T)<separation)&(np.triu(GM_comp_mahal_distances.T)>0))).T"
   ]
  },
  {
   "cell_type": "code",
   "execution_count": 133,
   "metadata": {},
   "outputs": [
    {
     "name": "stdout",
     "output_type": "stream",
     "text": [
      "<generator object connected_components at 0x7fd2d980dc10>\n"
     ]
    }
   ],
   "source": [
    "l = [str(c) for c in list(range(GMmodel.means_.shape[0]))]\n",
    "for couple in couples:\n",
    "    l.append([str(c) for c in couple])\n",
    "    \n",
    "import networkx \n",
    "from networkx.algorithms.components.connected import connected_components\n",
    "\n",
    "\n",
    "def to_graph(l):\n",
    "    G = networkx.Graph()\n",
    "    for part in l:\n",
    "        # each sublist is a bunch of nodes\n",
    "        G.add_nodes_from(part)\n",
    "        # it also imlies a number of edges:\n",
    "        G.add_edges_from(to_edges(part))\n",
    "    return G\n",
    "\n",
    "def to_edges(l):\n",
    "    \"\"\" \n",
    "        treat `l` as a Graph and returns it's edges \n",
    "        to_edges(['a','b','c','d']) -> [(a,b), (b,c),(c,d)]\n",
    "    \"\"\"\n",
    "    it = iter(l)\n",
    "    last = next(it)\n",
    "\n",
    "    for current in it:\n",
    "        yield last, current\n",
    "        last = current    \n",
    "\n",
    "G = to_graph(l)\n",
    "print(connected_components(G))"
   ]
  },
  {
   "cell_type": "code",
   "execution_count": 135,
   "metadata": {},
   "outputs": [
    {
     "name": "stdout",
     "output_type": "stream",
     "text": [
      "123\n"
     ]
    }
   ],
   "source": [
    "no_clusters = GMmodel.means_.shape[0]\n",
    "for i in connected_components(G):\n",
    "    no_clusters-=(len(i)-1)\n",
    "print(no_clusters)"
   ]
  },
  {
   "cell_type": "code",
   "execution_count": 136,
   "metadata": {},
   "outputs": [],
   "source": [
    "accuracies, f1s_weighted = test_frankGMM_in_classification(GMmodel, shape_moments)"
   ]
  },
  {
   "cell_type": "code",
   "execution_count": 137,
   "metadata": {},
   "outputs": [
    {
     "data": {
      "image/png": "[encoded data removed]",
      "text/plain": [
       "<Figure size 332x332 with 1 Axes>"
      ]
     },
     "metadata": {},
     "output_type": "display_data"
    }
   ],
   "source": [
    "plt.rcParams['figure.figsize'] = (3.32, 3.32)\n",
    "plt.rcParams.update({'font.size': 6})\n",
    "\n",
    "# plt.hist(f1s_average, bins=15, label=\"average F1\")\n",
    "plt.hist(f1s_weighted, bins=15, label=\"weighted F1\", alpha=0.7)\n",
    "plt.hist(accuracies, bins=15, label=\"accuracy\", alpha=0.7)\n",
    "plt.legend()\n",
    "# plt.xlim((0.65,0.95))\n",
    "axes = plt.gca()\n",
    "axes.tick_params(axis=\"x\", which=\"major\", length=2, width=0.75, labelsize=6, direction=\"in\")\n",
    "axes.tick_params(axis=\"y\", which=\"major\", length=2, width=0.75, labelsize=6, direction=\"in\")\n",
    "plt.xlabel(\"Test score\")\n",
    "plt.ylabel(\"No. classification experiments\")\n",
    "# plt.title(\"Classification with 4 chi subclasses\")\n",
    "\n",
    "\n",
    "# plt.savefig('figures/classification_histogram_chi_subclasses.png', dpi=300, bbox_inches = 'tight',pad_inches = 0.01)\n",
    "\n",
    "plt.show()"
   ]
  },
  {
   "cell_type": "code",
   "execution_count": 138,
   "metadata": {},
   "outputs": [
    {
     "name": "stdout",
     "output_type": "stream",
     "text": [
      "0.851068236391894 0.8735131578947368\n"
     ]
    }
   ],
   "source": [
    "print(np.mean(f1s_weighted), np.mean(accuracies))"
   ]
  },
  {
   "cell_type": "code",
   "execution_count": 139,
   "metadata": {},
   "outputs": [
    {
     "name": "stdout",
     "output_type": "stream",
     "text": [
      "0.03787203355184634 0.03164256475749292\n"
     ]
    }
   ],
   "source": [
    "print(np.std(f1s_weighted), np.std(accuracies))"
   ]
  },
  {
   "cell_type": "code",
   "execution_count": null,
   "metadata": {},
   "outputs": [],
   "source": []
  },
  {
   "cell_type": "code",
   "execution_count": null,
   "metadata": {},
   "outputs": [],
   "source": []
  },
  {
   "cell_type": "code",
   "execution_count": null,
   "metadata": {},
   "outputs": [],
   "source": []
  },
  {
   "cell_type": "code",
   "execution_count": null,
   "metadata": {},
   "outputs": [],
   "source": []
  },
  {
   "cell_type": "code",
   "execution_count": null,
   "metadata": {},
   "outputs": [],
   "source": []
  },
  {
   "cell_type": "code",
   "execution_count": 141,
   "metadata": {},
   "outputs": [],
   "source": [
    "# with open('../../data_GRS1915/468202_len128_s2_4cad_counts_errorfix.pkl', 'rb') as f:\n",
    "#     segments = pickle.load(f)\n",
    "# with open('../../data_GRS1915/468202_len128_s2_4cad_errors_errorfix.pkl', 'rb') as f:\n",
    "#     errors = pickle.load(f)\n",
    "with open('../../../data_GRS1915/468202_len128_s2_4cad_ids_errorfix.pkl', 'rb') as f:\n",
    "    ids_4s = pickle.load(f)\n",
    "\n",
    "# errors = ((errors)/np.expand_dims(np.std(segments, axis=1), axis=1)).astype(np.float32)\n",
    "# segments = zscore(segments, axis=1).astype(np.float32)  # standardize per segment\n",
    "\n",
    "\n",
    "# with open('../../../data_GRS1915/468202_len128_s2_4cad_observation90-10split.pkl', 'rb') as f:\n",
    "#     split_segment_indices_4s = pickle.load(f)"
   ]
  },
  {
   "cell_type": "code",
   "execution_count": 142,
   "metadata": {},
   "outputs": [],
   "source": [
    "ob_ids_4s = [x.split(\"_\")[0] for x in ids_4s]\n",
    "ob_ids_4s = np.unique(ob_ids_4s)"
   ]
  },
  {
   "cell_type": "code",
   "execution_count": 143,
   "metadata": {},
   "outputs": [
    {
     "data": {
      "text/plain": [
       "1738"
      ]
     },
     "execution_count": 143,
     "metadata": {},
     "output_type": "execute_result"
    }
   ],
   "source": [
    "len(ob_ids_4s)"
   ]
  },
  {
   "cell_type": "code",
   "execution_count": null,
   "metadata": {},
   "outputs": [],
   "source": []
  },
  {
   "cell_type": "code",
   "execution_count": null,
   "metadata": {},
   "outputs": [],
   "source": []
  },
  {
   "cell_type": "code",
   "execution_count": null,
   "metadata": {},
   "outputs": [],
   "source": [
    "ob_ids_1s"
   ]
  },
  {
   "cell_type": "code",
   "execution_count": 144,
   "metadata": {},
   "outputs": [],
   "source": [
    "with open('../../../data_GRS1915/594483_len128_stride8_1sec_cad_ids_errorfix.pkl', 'rb') as f:\n",
    "    ids_1s = pickle.load(f)\n",
    "\n",
    "# with open('../../../data_GRS1915/594483_len128_stride8_1sec_cad_observation75-25split.pkl', 'rb') as f:\n",
    "#     split_segment_indices_1s = pickle.load(f)"
   ]
  },
  {
   "cell_type": "code",
   "execution_count": 145,
   "metadata": {},
   "outputs": [],
   "source": [
    "ob_ids_1s = [x.split(\"_\")[0] for x in ids_1s]\n",
    "ob_ids_1s = np.unique(ob_ids_1s)"
   ]
  },
  {
   "cell_type": "code",
   "execution_count": 146,
   "metadata": {},
   "outputs": [
    {
     "data": {
      "text/plain": [
       "1775"
      ]
     },
     "execution_count": 146,
     "metadata": {},
     "output_type": "execute_result"
    }
   ],
   "source": [
    "len(ob_ids_1s)"
   ]
  },
  {
   "cell_type": "code",
   "execution_count": 149,
   "metadata": {},
   "outputs": [
    {
     "data": {
      "text/plain": [
       "216"
      ]
     },
     "execution_count": 149,
     "metadata": {},
     "output_type": "execute_result"
    }
   ],
   "source": [
    "len(ob_state.keys())"
   ]
  },
  {
   "cell_type": "code",
   "execution_count": 151,
   "metadata": {},
   "outputs": [
    {
     "data": {
      "text/plain": [
       "215"
      ]
     },
     "execution_count": 151,
     "metadata": {},
     "output_type": "execute_result"
    }
   ],
   "source": [
    "len([i for i in ob_ids_1s if i in ob_state.keys()])"
   ]
  }
 ],
 "metadata": {
  "kernelspec": {
   "display_name": "jakub-tf",
   "language": "python",
   "name": "jakub-tf"
  },
  "language_info": {
   "codemirror_mode": {
    "name": "ipython",
    "version": 3
   },
   "file_extension": ".py",
   "mimetype": "text/x-python",
   "name": "python",
   "nbconvert_exporter": "python",
   "pygments_lexer": "ipython3",
   "version": "3.5.6"
  }
 },
 "nbformat": 4,
 "nbformat_minor": 4
}
