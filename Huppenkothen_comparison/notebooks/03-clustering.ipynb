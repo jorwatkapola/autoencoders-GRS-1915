{
 "cells": [
  {
   "cell_type": "markdown",
   "metadata": {},
   "source": [
    "# This notebooks fits Gaussian Mixture Models to the encoded data. \n",
    "\n",
    "Requirements: encoded light curve segments, see notebook 02\n",
    "\n",
    "## Edit the paths below as required and run all cells to encode the segments"
   ]
  },
  {
   "cell_type": "code",
   "execution_count": null,
   "metadata": {},
   "outputs": [],
   "source": [
    "segment_data_dir = \"../data/segments/\" # path to segmented data\n",
    "encodings_dir = \"../data/encodings/\" # where to save the encoded data\n",
    "\n",
    "\n",
    "### OUTPUTS\n",
    "SIFOS_dir = \"../data/SIFoS/\" # where to save the segmented data\n",
    "GMM_dir = \"../models/gmm/\" # where to save the Gaussian model\n",
    "BIC_reports_dir = \"../reports/gmm_bic/\""
   ]
  },
  {
   "cell_type": "code",
   "execution_count": 1,
   "metadata": {},
   "outputs": [
    {
     "name": "stderr",
     "output_type": "stream",
     "text": [
      "/home/jkok1g14/anaconda3/envs/jakub-tf/lib/python3.5/site-packages/matplotlib/__init__.py:886: MatplotlibDeprecationWarning: \n",
      "examples.directory is deprecated; in the future, examples will be found relative to the 'datapath' directory.\n",
      "  \"found relative to the 'datapath' directory.\".format(key))\n",
      "/home/jkok1g14/anaconda3/envs/jakub-tf/lib/python3.5/site-packages/matplotlib/__init__.py:855: MatplotlibDeprecationWarning: \n",
      "examples.directory is deprecated; in the future, examples will be found relative to the 'datapath' directory.\n",
      "  \"found relative to the 'datapath' directory.\".format(key))\n",
      "/home/jkok1g14/anaconda3/envs/jakub-tf/lib/python3.5/site-packages/matplotlib/__init__.py:846: MatplotlibDeprecationWarning: \n",
      "The text.latex.unicode rcparam was deprecated in Matplotlib 2.2 and will be removed in 3.1.\n",
      "  \"2.2\", name=key, obj_type=\"rcparam\", addendum=addendum)\n"
     ]
    }
   ],
   "source": [
    "%load_ext autoreload\n",
    "%autoreload 2\n",
    "from IPython.display import clear_output\n",
    "import os\n",
    "import fnmatch\n",
    "import numpy as np\n",
    "import pickle\n",
    "import matplotlib.pyplot as plt\n",
    "import umap\n",
    "from sklearn.mixture import GaussianMixture\n",
    "from scipy import stats\n",
    "# from sklearn.cluster import OPTICS\n",
    "from copy import deepcopy\n",
    "\n",
    "import pandas as pd\n",
    "from scipy.stats import zscore\n",
    "\n",
    "plt.rcParams['figure.figsize'] = (5.0, 5.0)\n",
    "plt.rcParams.update({'font.size': 12})\n",
    "plt.rcParams.update(plt.rcParamsDefault)\n",
    "\n",
    "np.random.seed(seed=11)"
   ]
  },
  {
   "cell_type": "code",
   "execution_count": 3,
   "metadata": {},
   "outputs": [],
   "source": [
    "# # load light curve segments\n",
    "with open('{}/segments_1024s_256stride_0125cad_segmented_to64_train.pkl'.format(segment_data_dir), 'rb') as f:\n",
    "    train_data = pickle.load(f)\n",
    "# find the count rates\n",
    "train_data_counts = [seg[2][1] for seg in train_data]\n",
    "\n",
    "with open('{}/segments_1024s_256stride_0125cad_segmented_to64_valid.pkl'.format(segment_data_dir), 'rb') as f:\n",
    "    valid_data = pickle.load(f)\n",
    "valid_data_counts = [seg[2][1] for seg in valid_data]\n",
    "\n",
    "# with open('{}/segments_1024s_256stride_0125cad_segmented_to64_test.pkl'.format(segment_data_dir), 'rb') as f:\n",
    "#     test_data = pickle.load(f)\n",
    "# test_data_counts = [seg[2][1] for seg in test_data]\n",
    "\n",
    "segments_counts_train_valid = np.vstack((train_data_counts, valid_data_counts))\n",
    "    \n",
    "    \n",
    "# load latent variables for light curve segments\n",
    "segment_encoding_dir = '{}/segments_1024s_256stride_0125cad_segmented_to64_encoded_train.pkl'.format(encodings_dir)\n",
    "with open(segment_encoding_dir, 'rb') as f:\n",
    "    train_segment_encoding_meta = pickle.load(f)\n",
    "    \n",
    "segment_encoding_dir = '{}/segments_1024s_256stride_0125cad_segmented_to64_encoded_valid.pkl'.format(encodings_dir)\n",
    "with open(segment_encoding_dir, 'rb') as f:\n",
    "    valid_segment_encoding_meta = pickle.load(f)\n",
    "    \n",
    "# segment_encoding_dir = '{}/segments_1024s_256stride_0125cad_segmented_to64_encoded_test.pkl'.format(encodings_dir)\n",
    "# with open(segment_encoding_dir, 'rb') as f:\n",
    "#     test_segment_encoding_meta = pickle.load(f)\n",
    "\n",
    "segment_encoding_train_valid = np.vstack((train_segment_encoding_meta[2], valid_segment_encoding_meta[2]))\n",
    "\n",
    "\n",
    "\n",
    "\n",
    "# take latent variable means, i.e. 20 values per segment\n",
    "segment_encoding_scaled_means = zscore(segment_encoding_train_valid[:,0,:], axis=0).astype(np.float32)  # standardize per feature\n",
    "\n",
    "# calculate statistical moments for the segments\n",
    "desc_stats = np.zeros((len(segments_counts_train_valid), 4)) #mean, std, skew, kurt\n",
    "desc_stats[:,0] = np.mean(segments_counts_train_valid, axis=1).flatten()\n",
    "desc_stats[:,1] = np.std(segments_counts_train_valid, axis=1).flatten()\n",
    "desc_stats[:,2] = stats.skew(segments_counts_train_valid, axis=1).flatten()\n",
    "desc_stats[:,3] = stats.kurtosis(segments_counts_train_valid, axis=1).flatten()\n",
    "zscore_desc_stats = zscore(desc_stats, axis=0)\n",
    "\n",
    "# merge the two types of features; shape of shape_moments is [468202, 20]\n",
    "SIFoS_train_valid = np.hstack((segment_encoding_scaled_means, zscore_desc_stats)) # every column is standardized"
   ]
  },
  {
   "cell_type": "code",
   "execution_count": 15,
   "metadata": {},
   "outputs": [],
   "source": [
    "with open(\"{}/SIFoS_train_valid.pkl\".format(SIFOS_dir), 'wb') as f:\n",
    "    pickle.dump(SIFoS_train_valid, f)"
   ]
  },
  {
   "cell_type": "code",
   "execution_count": null,
   "metadata": {},
   "outputs": [],
   "source": [
    "# fit a number of models for 10k subsets of segments, and for a range of numbers of component\n",
    "# this was run over a couple of attempts, but using this exact loop, \n",
    "# so I put together the bic values and plotted the together in the next cell\n",
    "# [10,25,50,70,80,90,100,110,120,130,140]\n",
    "# [110,115,120,125,130,135,140]#50k\n",
    "\n",
    "component_no_list = np.arange(50,500,50)\n",
    "\n",
    "gaussian_mixture_bics= []\n",
    "\n",
    "for comp_iteration, component_no in enumerate(component_no_list):\n",
    "    GMmodel = GaussianMixture(n_components=component_no, random_state=0)\n",
    "    GMmodel.fit(SIFoS_train_valid)\n",
    "    gaussian_mixture_bics.append((component_no, GMmodel.bic(SIFoS_train_valid)))\n",
    "\n",
    "    np.savetxt('{}/gaussian_mixture_bics.csv'.format(BIC_reports_dir), gaussian_mixture_bics, delimiter =',') \n",
    "    clear_output(wait=True)\n",
    "    print(set_iteration, comp_iteration)"
   ]
  },
  {
   "cell_type": "code",
   "execution_count": 10,
   "metadata": {},
   "outputs": [
    {
     "data": {
      "image/png": "[encoded data removed]",
      "text/plain": [
       "<Figure size 432x288 with 1 Axes>"
      ]
     },
     "metadata": {
      "needs_background": "light"
     },
     "output_type": "display_data"
    }
   ],
   "source": [
    "results = np.array([[5.000000000000000000e+01,3.714268330692200363e+07],\n",
    "[1.000000000000000000e+02,3.673687279256483912e+07],\n",
    "[1.500000000000000000e+02,3.669003332210698724e+07],\n",
    "[2.000000000000000000e+02,3.666686294228359312e+07],\n",
    "[2.500000000000000000e+02,3.670543099328378588e+07],\n",
    "[3.000000000000000000e+02,3.677164071668723226e+07]])\n",
    "\n",
    "plt.plot(results[:,0],results[:,1])\n",
    "plt.show()"
   ]
  },
  {
   "cell_type": "code",
   "execution_count": null,
   "metadata": {},
   "outputs": [],
   "source": [
    "# fit and save the first model past the minimum\n",
    "GMmodel = GaussianMixture(n_components=250, random_state=0)\n",
    "GMmodel.fit(SIFoS_train_valid)\n",
    "with open(\"{}/GaussianMixture_250_Huppenkothen_comparison.pkl\".format(GMM_dir), 'wb') as f:\n",
    "    pickle.dump(GMmodel, f)"
   ]
  }
 ],
 "metadata": {
  "kernelspec": {
   "display_name": "jakub-tf",
   "language": "python",
   "name": "jakub-tf"
  },
  "language_info": {
   "codemirror_mode": {
    "name": "ipython",
    "version": 3
   },
   "file_extension": ".py",
   "mimetype": "text/x-python",
   "name": "python",
   "nbconvert_exporter": "python",
   "pygments_lexer": "ipython3",
   "version": "3.5.6"
  }
 },
 "nbformat": 4,
 "nbformat_minor": 4
}
