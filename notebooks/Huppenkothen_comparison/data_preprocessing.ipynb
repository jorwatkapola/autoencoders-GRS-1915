{
 "cells": [
  {
   "cell_type": "markdown",
   "metadata": {},
   "source": [
    "# Creating a data set for the comparison with Huppenkothen+2017\n",
    "\n",
    "Main classificatin experiments described in paper Orwat-Kapola+2021 were not directly comparable with the work of Daniela Huppenkothen, because the former classified whole light curves instead of 1024 s segments, and the cadence of the data was 1s/4s instead of 0.125 s.\n",
    "\n",
    "Here we prepare a data set of 1024 s overlapping segments which are be further segmented into 16 s segments with cadence of 0.125s to make a direct comparison with Huppenkothen+2017.\n",
    "\n",
    "In order to reduce the amount of generated data, the 1024 s segments created with a stride of 256 s and the 16 s segments are created with a stride of 16 s. The fact that light curve features are observed in only one phase shift position within those 16 s segments can affect the result. "
   ]
  },
  {
   "cell_type": "code",
   "execution_count": 22,
   "metadata": {},
   "outputs": [
    {
     "name": "stdout",
     "output_type": "stream",
     "text": [
      "The autoreload extension is already loaded. To reload it, use:\n",
      "  %reload_ext autoreload\n"
     ]
    }
   ],
   "source": [
    "%load_ext autoreload\n",
    "%autoreload 2\n",
    "\n",
    "import sys; sys.path.insert(0, '../../') # add parent folder path where /src folder is\n",
    "from src import data_preprocessing\n",
    "\n",
    "from IPython.display import clear_output\n",
    "import os\n",
    "import fnmatch\n",
    "import numpy as np\n",
    "# import pickle\n",
    "# import matplotlib.pyplot as plt\n",
    "\n",
    "raw_data_dir = \"../../../data_GRS1915/std1/\" # directory path to where lightcurve files are located\n",
    "raw_file_name_suffix = \"_std1_lc.txt\" # light curves were saved as txt files which are directly interpretable by numpy"
   ]
  },
  {
   "cell_type": "code",
   "execution_count": 8,
   "metadata": {},
   "outputs": [
    {
     "name": "stdout",
     "output_type": "stream",
     "text": [
      "Loaded 1776 lightcurves\n"
     ]
    }
   ],
   "source": [
    "# load light curves from text files\n",
    "\n",
    "lcs=[] # light curves (time stamps, count rate, uncertainty)\n",
    "lc_ids=[] # observation ids\n",
    "\n",
    "for root, dirnames, filenames in os.walk(raw_data_dir): #Std1_PCU2\n",
    "    for filename in fnmatch.filter(filenames, \"*{}\".format(raw_file_name_suffix)):\n",
    "        lc = os.path.join(root, filename)\n",
    "        lc_ids.append(filename.split(\"_\")[0])\n",
    "        f=np.loadtxt(lc)\n",
    "        f=np.transpose(f)\n",
    "        lcs.append(f)\n",
    "        print(\"Loaded {} lightcurves\".format(len(lcs)))\n",
    "        clear_output(wait=True)"
   ]
  },
  {
   "cell_type": "code",
   "execution_count": null,
   "metadata": {},
   "outputs": [],
   "source": [
    "cadence=1\n",
    "seg_len_s=128\n",
    "stride_s=10\n",
    "\n",
    "segments_counts=[]\n",
    "segments_times = []\n",
    "segments_errors=[]\n",
    "seg_ids=[]\n",
    "\n",
    "\n",
    "seg_len = seg_len_s//cadence # segment length and stride size in data points\n",
    "stride = stride_s//cadence\n",
    "\n",
    "\n",
    "\n",
    "for lc_index, lc in enumerate(binned_lcs):\n",
    "    if lc_ids[lc_index] in ob_IDs_4s: # filter out observations missing from the 4 second dataset\n",
    "        if len(lc[1]) >= seg_len: \n",
    "            segments = segmentation(lc, seg_len, stride, keep_time_stamps=True, experimental = False, input_cadence=cadence)\n",
    "        else:\n",
    "            continue\n",
    "        if len(segments) > 0:\n",
    "            segments_times.append(segments[:,0,:])\n",
    "            segments_counts.append(segments[:,1,:])\n",
    "            segments_errors.append(segments[:,2,:])\n",
    "            seg_ids.append(lc_ids[lc_index])\n",
    "            print(\"Segmented {}/{} light curves.\".format(lc_index+1, len(lcs)))\n",
    "            clear_output(wait=True)\n"
   ]
  },
  {
   "cell_type": "code",
   "execution_count": 44,
   "metadata": {},
   "outputs": [],
   "source": [
    "segmented_lc = data_preprocessing.segmentation(time_series = lcs[1], \n",
    "                                               segment_length_sec = 1024, \n",
    "                                               stride_sec = 256, \n",
    "                                               keep_time_stamps = False, \n",
    "                                               input_cadence_sec = 0.125)"
   ]
  },
  {
   "cell_type": "code",
   "execution_count": 46,
   "metadata": {},
   "outputs": [
    {
     "data": {
      "text/plain": [
       "array([[2088.        , 2168.        , 2336.        , ..., 2392.        ,\n",
       "        2456.        , 2936.        ],\n",
       "       [ 129.24395537,  131.69662107,  136.70405993, ...,  138.33293173,\n",
       "         140.17132374,  153.25795249]])"
      ]
     },
     "execution_count": 46,
     "metadata": {},
     "output_type": "execute_result"
    }
   ],
   "source": [
    "segmented_lc[0]"
   ]
  },
  {
   "cell_type": "code",
   "execution_count": 30,
   "metadata": {},
   "outputs": [
    {
     "data": {
      "text/plain": [
       "1484.75"
      ]
     },
     "execution_count": 30,
     "metadata": {},
     "output_type": "execute_result"
    }
   ],
   "source": [
    "lcs[0][0][-1]-lcs[0][0][0]"
   ]
  },
  {
   "cell_type": "code",
   "execution_count": 43,
   "metadata": {},
   "outputs": [
    {
     "data": {
      "image/png": "[encoded data removed]",
      "text/plain": [
       "<Figure size 432x288 with 1 Axes>"
      ]
     },
     "metadata": {
      "needs_background": "light"
     },
     "output_type": "display_data"
    }
   ],
   "source": [
    "import matplotlib.pyplot as plt\n",
    "\n",
    "plt.plot(lcs[1][0],lcs[1][1])\n",
    "\n",
    "plt.plot(segmented_lc[0][0],segmented_lc[0][1])\n",
    "plt.plot(segmented_lc[1][0],segmented_lc[1][1])\n",
    "\n",
    "plt.show()"
   ]
  },
  {
   "cell_type": "code",
   "execution_count": 37,
   "metadata": {},
   "outputs": [
    {
     "data": {
      "text/plain": [
       "array([3.26427747e+08, 3.26427748e+08, 3.26427748e+08, ...,\n",
       "       3.26428771e+08, 3.26428771e+08, 3.26428771e+08])"
      ]
     },
     "execution_count": 37,
     "metadata": {},
     "output_type": "execute_result"
    }
   ],
   "source": [
    "segmented_lc[0][0]"
   ]
  },
  {
   "cell_type": "code",
   "execution_count": 13,
   "metadata": {},
   "outputs": [
    {
     "data": {
      "text/plain": [
       "0.125"
      ]
     },
     "execution_count": 13,
     "metadata": {},
     "output_type": "execute_result"
    }
   ],
   "source": [
    "def segmentation(time_series, segment_length_sec, stride_sec, keep_time_stamps=True, input_cadence_sec=4):\n",
    "    \"\"\"\n",
    "    Create a list of 1D (when time_stamps=False) or 2D (when time_stamps=True) arrays, which are overlappig segments of ts.\n",
    "    Incomplete fragments are rejected.\n",
    "\n",
    "    time_series = time series to be segmented\n",
    "    seg_len = length of a segment, \n",
    "    stride_sec = step size; difference in the starting position of the consecutive segments\n",
    "    \"\"\"\n",
    "    segment_length = segment_length_sec/input_cadence_sec\n",
    "    stride = stride_sec/input_cadence_sec\n",
    "    \n",
    "    if (segment_length).is_integer() and (stride).is_integer():\n",
    "        segment_length = int(segment_length)\n",
    "        stride = int(stride)\n",
    "    else:\n",
    "        raise ValueError(\"segment_length_sec and stride_sec should be multiples of input_cadence_sec\")\n",
    "    \n",
    "    segments=[]\n",
    "    for start in range(0, len(time_series[0])-segment_length, stride):\n",
    "        end=start+segment_length\n",
    "        if time_series[0][end]-time_series[0][start] != segment_length*input_cadence_sec: #don't allow segments outside of good time intervals\n",
    "            continue\n",
    "        if keep_time_stamps==True:\n",
    "            segments.append(time_series[:,start:end])\n",
    "        else:\n",
    "            segments.append(time_series[1:,start:end])\n",
    "    return np.array(segments)"
   ]
  }
 ],
 "metadata": {
  "kernelspec": {
   "display_name": "fingerprint_env",
   "language": "python",
   "name": "fingerprint_env"
  },
  "language_info": {
   "codemirror_mode": {
    "name": "ipython",
    "version": 3
   },
   "file_extension": ".py",
   "mimetype": "text/x-python",
   "name": "python",
   "nbconvert_exporter": "python",
   "pygments_lexer": "ipython3",
   "version": "3.5.5"
  }
 },
 "nbformat": 4,
 "nbformat_minor": 4
}
